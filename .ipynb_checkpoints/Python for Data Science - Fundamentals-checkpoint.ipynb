{
 "cells": [
  {
   "cell_type": "markdown",
   "id": "603b0e3d",
   "metadata": {},
   "source": [
    "## Hello World Traditions"
   ]
  },
  {
   "cell_type": "code",
   "execution_count": 1,
   "id": "6ec5e89d",
   "metadata": {},
   "outputs": [
    {
     "name": "stdout",
     "output_type": "stream",
     "text": [
      "Hello World\n"
     ]
    }
   ],
   "source": [
    "# print hello world\n",
    "print (\"Hello World\")"
   ]
  },
  {
   "cell_type": "code",
   "execution_count": 2,
   "id": "2c30f20d",
   "metadata": {},
   "outputs": [
    {
     "name": "stdout",
     "output_type": "stream",
     "text": [
      "14\n"
     ]
    }
   ],
   "source": [
    "a = 2 + 5\n",
    "b = 3 + 4\n",
    "c = a + b\n",
    "print(c)"
   ]
  },
  {
   "cell_type": "markdown",
   "id": "4acaa4f2",
   "metadata": {},
   "source": [
    "#### Simple syntax\n",
    "#### comments with \\#\n",
    "#### print function also adds a newline after printing the message\n",
    "#### In Python 2, “print” not function but keyword (therefore can be used without parentheses)\n",
    "#### In Python 3, it is a function, parentheses must"
   ]
  },
  {
   "cell_type": "code",
   "execution_count": 3,
   "id": "1d01f3f4",
   "metadata": {},
   "outputs": [
    {
     "name": "stdout",
     "output_type": "stream",
     "text": [
      "Data Science\n"
     ]
    }
   ],
   "source": [
    "# Print without newline\n",
    "\n",
    "print(\"Data\", end =\" \")\n",
    "print(\"Science\")"
   ]
  },
  {
   "cell_type": "markdown",
   "id": "a7164a48",
   "metadata": {},
   "source": [
    "## Keywords"
   ]
  },
  {
   "cell_type": "markdown",
   "id": "da00fdc7",
   "metadata": {},
   "source": [
    "### True, False"
   ]
  },
  {
   "cell_type": "code",
   "execution_count": 4,
   "id": "0e55a833",
   "metadata": {},
   "outputs": [
    {
     "name": "stdout",
     "output_type": "stream",
     "text": [
      "True\n",
      "True\n"
     ]
    }
   ],
   "source": [
    "print (False == 0)\n",
    "print (True == 1)"
   ]
  },
  {
   "cell_type": "markdown",
   "id": "cd1b4215",
   "metadata": {},
   "source": [
    "#### False : keyword, boolean false, 0\n",
    "#### True : keyword, boolean true, 1"
   ]
  },
  {
   "cell_type": "markdown",
   "id": "099134af",
   "metadata": {},
   "source": [
    "### None"
   ]
  },
  {
   "cell_type": "code",
   "execution_count": 5,
   "id": "ddbe8192",
   "metadata": {},
   "outputs": [
    {
     "name": "stdout",
     "output_type": "stream",
     "text": [
      "False\n",
      "True\n",
      "None\n",
      "2\n"
     ]
    }
   ],
   "source": [
    "print (None == 0)\n",
    "\n",
    "x = None\n",
    "y = None\n",
    "print (x == y)\n",
    "\n",
    "a = None\n",
    "print(a)\n",
    "a=2\n",
    "print(a)"
   ]
  },
  {
   "cell_type": "markdown",
   "id": "63872b57",
   "metadata": {},
   "source": [
    "#### None: a null value or a void"
   ]
  },
  {
   "cell_type": "markdown",
   "id": "ad196487",
   "metadata": {},
   "source": [
    "### assert"
   ]
  },
  {
   "cell_type": "code",
   "execution_count": 6,
   "id": "a6813680",
   "metadata": {},
   "outputs": [],
   "source": [
    "# assert 5 < 3, \"3 is smaller than 5\""
   ]
  },
  {
   "cell_type": "markdown",
   "id": "d9cd9588",
   "metadata": {},
   "source": [
    "### More Keywords:\n",
    "#### and, or, not\n",
    "#### if, else, elif\n",
    "#### for, while\n",
    "#### break, continue, pass\n",
    "#### class, def, return, yield, with\n",
    "#### import, from, as\n",
    "#### try, except, raise, finally\n",
    "#### in, is\n",
    "#### global, non-local\n",
    "#### lambda"
   ]
  },
  {
   "cell_type": "markdown",
   "id": "98f914dd",
   "metadata": {},
   "source": [
    "## Variables"
   ]
  },
  {
   "cell_type": "code",
   "execution_count": 7,
   "id": "53f11f66",
   "metadata": {},
   "outputs": [
    {
     "name": "stdout",
     "output_type": "stream",
     "text": [
      "3\n",
      "4\n"
     ]
    }
   ],
   "source": [
    "a = 3\n",
    "A = 4\n",
    "print(a)\n",
    "print(A)"
   ]
  },
  {
   "cell_type": "markdown",
   "id": "5b77ff93",
   "metadata": {},
   "source": [
    "#### Variables in python are case sensitive"
   ]
  },
  {
   "cell_type": "markdown",
   "id": "686f2dca",
   "metadata": {},
   "source": [
    "### Namespaces and Scope"
   ]
  },
  {
   "cell_type": "code",
   "execution_count": 8,
   "id": "2f8937f0",
   "metadata": {},
   "outputs": [
    {
     "name": "stdout",
     "output_type": "stream",
     "text": [
      "1\n",
      "1\n",
      "2\n",
      "1\n",
      "2\n",
      "3\n"
     ]
    }
   ],
   "source": [
    "var1 = 1 # global namespace\n",
    "print(var1)\n",
    "#print(var2)\n",
    "#print(var3)\n",
    "\n",
    "def function1():\n",
    "    var2 = 2 # local namespace\n",
    "    print(var1)\n",
    "    print(var2)\n",
    "    #print(var3)\n",
    "    \n",
    "    def function2():\n",
    "        var3 = 3 # nested local namespace\n",
    "        print(var1)\n",
    "        print(var2)\n",
    "        print(var3)\n",
    "    function2()\n",
    "function1()"
   ]
  },
  {
   "cell_type": "markdown",
   "id": "5c180442",
   "metadata": {},
   "source": [
    "### global and nonlocal"
   ]
  },
  {
   "cell_type": "code",
   "execution_count": 9,
   "id": "4326695b",
   "metadata": {},
   "outputs": [
    {
     "name": "stdout",
     "output_type": "stream",
     "text": [
      "This variable is in global scope\n",
      "This vaiable is in local scope\n",
      "This vaiable is in local scope\n"
     ]
    }
   ],
   "source": [
    "def function():\n",
    "    global var\n",
    "    print(var)\n",
    "    var = \"This vaiable is in local scope\"\n",
    "    print(var)\n",
    " \n",
    "var = \"This variable is in global scope\"\n",
    "function()\n",
    "print(var)"
   ]
  },
  {
   "cell_type": "code",
   "execution_count": 10,
   "id": "5da692ea",
   "metadata": {},
   "outputs": [
    {
     "name": "stdout",
     "output_type": "stream",
     "text": [
      "10\n"
     ]
    }
   ],
   "source": [
    "def outerFunction():\n",
    "    var = 5\n",
    "    def innerFunction():\n",
    "        nonlocal var\n",
    "        var = 10\n",
    "    innerFunction()\n",
    "    print (var)\n",
    " \n",
    "outerFunction()"
   ]
  },
  {
   "cell_type": "markdown",
   "id": "a72ac1f2",
   "metadata": {},
   "source": [
    "## Input, Output"
   ]
  },
  {
   "cell_type": "code",
   "execution_count": 11,
   "id": "e395b88c",
   "metadata": {},
   "outputs": [
    {
     "name": "stdout",
     "output_type": "stream",
     "text": [
      "Please enter your name: Souro\n",
      "<class 'str'>\n",
      "Souro\n",
      "Please enter your ID: 5\n",
      "<class 'str'>\n",
      "5\n",
      "<class 'int'>\n",
      "5\n",
      "Please enter your name and ID: Souro 5\n",
      "<class 'list'>\n",
      "Souro\n",
      "5\n"
     ]
    }
   ],
   "source": [
    "input1 = input(\"Please enter your name: \")\n",
    "# val = raw_input(\"Enter your name: \") # Python 2.x\n",
    "print(type(input1))\n",
    "print(input1)\n",
    "\n",
    "input2 = input(\"Please enter your ID: \")\n",
    "print(type(input2))\n",
    "print(input2)\n",
    "input2 = int(input2)\n",
    "print(type(input2))\n",
    "print(input2)\n",
    "\n",
    "multiple_inputs = input(\"Please enter your name and ID: \").split()\n",
    "print(type(multiple_inputs))\n",
    "print(multiple_inputs[0])\n",
    "print(multiple_inputs[1])\n",
    "# for ip in multiple_inputs:\n",
    "#     print(ip)"
   ]
  },
  {
   "cell_type": "markdown",
   "id": "0a4f94fb",
   "metadata": {},
   "source": [
    "#### Whatever will be given, input function will convert it into a string\n",
    "#### For other type, explicit typecasting required\n",
    "#### For multiple inputs, using split() method"
   ]
  },
  {
   "cell_type": "markdown",
   "id": "03c5bff6",
   "metadata": {},
   "source": [
    "## Data Types"
   ]
  },
  {
   "cell_type": "markdown",
   "id": "373f230f",
   "metadata": {},
   "source": [
    "### int, float"
   ]
  },
  {
   "cell_type": "code",
   "execution_count": 12,
   "id": "3961179b",
   "metadata": {},
   "outputs": [
    {
     "name": "stdout",
     "output_type": "stream",
     "text": [
      "<class 'int'>\n",
      "<class 'int'>\n",
      "<class 'float'>\n"
     ]
    }
   ],
   "source": [
    "#int\n",
    "x = 1\n",
    "print(type(x))\n",
    "\n",
    "# n Python, value of an integer not restricted by number of bits, can expand to the limit of the available memory\n",
    "x = 10000000000000000000000000000000000000000000\n",
    "print(type(x))\n",
    "\n",
    "x=1.1\n",
    "print(type(x))"
   ]
  },
  {
   "cell_type": "markdown",
   "id": "9ec0e031",
   "metadata": {},
   "source": [
    "#### In Python 2.x there are two separate types “int” (which is 32 bit) and “long int” that is same as “int” of Python 3.x"
   ]
  },
  {
   "cell_type": "markdown",
   "id": "76cb098b",
   "metadata": {},
   "source": [
    "### string"
   ]
  },
  {
   "cell_type": "code",
   "execution_count": 13,
   "id": "524bec87",
   "metadata": {},
   "outputs": [
    {
     "name": "stdout",
     "output_type": "stream",
     "text": [
      "This is a String\n"
     ]
    }
   ],
   "source": [
    "# creating a string\n",
    "string = 'This is a String'\n",
    "print(string)"
   ]
  },
  {
   "cell_type": "code",
   "execution_count": 14,
   "id": "2e15c1be",
   "metadata": {},
   "outputs": [
    {
     "name": "stdout",
     "output_type": "stream",
     "text": [
      "16\n"
     ]
    }
   ],
   "source": [
    "# length\n",
    "print(len(string))"
   ]
  },
  {
   "cell_type": "code",
   "execution_count": 15,
   "id": "681c1885",
   "metadata": {},
   "outputs": [
    {
     "name": "stdout",
     "output_type": "stream",
     "text": [
      "T\n",
      "g\n"
     ]
    }
   ],
   "source": [
    "# accessing charecter\n",
    "print(string[0])\n",
    "# last charecter\n",
    "print(string[-1])"
   ]
  },
  {
   "cell_type": "code",
   "execution_count": 16,
   "id": "a1dbef89",
   "metadata": {},
   "outputs": [
    {
     "name": "stdout",
     "output_type": "stream",
     "text": [
      "hi\n"
     ]
    }
   ],
   "source": [
    "# slicing\n",
    "print (string[1:3])"
   ]
  },
  {
   "cell_type": "code",
   "execution_count": 17,
   "id": "28206704",
   "metadata": {},
   "outputs": [
    {
     "ename": "TypeError",
     "evalue": "'str' object does not support item assignment",
     "output_type": "error",
     "traceback": [
      "\u001b[0;31m---------------------------------------------------------------------------\u001b[0m",
      "\u001b[0;31mTypeError\u001b[0m                                 Traceback (most recent call last)",
      "\u001b[0;32m<ipython-input-17-c27a5aca5d32>\u001b[0m in \u001b[0;36m<module>\u001b[0;34m\u001b[0m\n\u001b[1;32m      1\u001b[0m \u001b[0;31m# updating charecter\u001b[0m\u001b[0;34m\u001b[0m\u001b[0;34m\u001b[0m\u001b[0;34m\u001b[0m\u001b[0m\n\u001b[0;32m----> 2\u001b[0;31m \u001b[0mstring\u001b[0m\u001b[0;34m[\u001b[0m\u001b[0;36m2\u001b[0m\u001b[0;34m]\u001b[0m\u001b[0;34m=\u001b[0m\u001b[0;34m'a'\u001b[0m\u001b[0;34m\u001b[0m\u001b[0;34m\u001b[0m\u001b[0m\n\u001b[0m\u001b[1;32m      3\u001b[0m \u001b[0mstring\u001b[0m\u001b[0;34m[\u001b[0m\u001b[0;36m3\u001b[0m\u001b[0;34m]\u001b[0m\u001b[0;34m=\u001b[0m\u001b[0;34m't'\u001b[0m\u001b[0;34m\u001b[0m\u001b[0;34m\u001b[0m\u001b[0m\n\u001b[1;32m      4\u001b[0m \u001b[0mprint\u001b[0m\u001b[0;34m(\u001b[0m\u001b[0mstring\u001b[0m\u001b[0;34m)\u001b[0m\u001b[0;34m\u001b[0m\u001b[0;34m\u001b[0m\u001b[0m\n",
      "\u001b[0;31mTypeError\u001b[0m: 'str' object does not support item assignment"
     ]
    }
   ],
   "source": [
    "# updating charecter\n",
    "string[2]='a'\n",
    "string[3]='t'\n",
    "print(string)"
   ]
  },
  {
   "cell_type": "code",
   "execution_count": 18,
   "id": "d5547385",
   "metadata": {},
   "outputs": [
    {
     "name": "stdout",
     "output_type": "stream",
     "text": [
      "Updated String\n"
     ]
    }
   ],
   "source": [
    "# updating whole string\n",
    "string = 'Updated String'\n",
    "print(string)"
   ]
  },
  {
   "cell_type": "code",
   "execution_count": 19,
   "id": "f65a0a75",
   "metadata": {},
   "outputs": [
    {
     "ename": "NameError",
     "evalue": "name 'string' is not defined",
     "output_type": "error",
     "traceback": [
      "\u001b[0;31m---------------------------------------------------------------------------\u001b[0m",
      "\u001b[0;31mNameError\u001b[0m                                 Traceback (most recent call last)",
      "\u001b[0;32m<ipython-input-19-e4e109b675b4>\u001b[0m in \u001b[0;36m<module>\u001b[0;34m\u001b[0m\n\u001b[1;32m      1\u001b[0m \u001b[0;31m# deleting the string\u001b[0m\u001b[0;34m\u001b[0m\u001b[0;34m\u001b[0m\u001b[0;34m\u001b[0m\u001b[0m\n\u001b[1;32m      2\u001b[0m \u001b[0;32mdel\u001b[0m \u001b[0mstring\u001b[0m\u001b[0;34m\u001b[0m\u001b[0;34m\u001b[0m\u001b[0m\n\u001b[0;32m----> 3\u001b[0;31m \u001b[0mprint\u001b[0m\u001b[0;34m(\u001b[0m\u001b[0mstring\u001b[0m\u001b[0;34m)\u001b[0m\u001b[0;34m\u001b[0m\u001b[0;34m\u001b[0m\u001b[0m\n\u001b[0m",
      "\u001b[0;31mNameError\u001b[0m: name 'string' is not defined"
     ]
    }
   ],
   "source": [
    "# deleting the string\n",
    "del string\n",
    "print(string)"
   ]
  },
  {
   "cell_type": "code",
   "execution_count": 20,
   "id": "30081f81",
   "metadata": {},
   "outputs": [
    {
     "name": "stdout",
     "output_type": "stream",
     "text": [
      "Normal part, \"Escaped Part\"\n",
      "Normal part, 'Escaped Part'\n"
     ]
    }
   ],
   "source": [
    "# escape\n",
    "string = 'Normal part, \"Escaped Part\"'\n",
    "print(string)\n",
    "string = 'Normal part, \\'Escaped Part\\''\n",
    "print(string)"
   ]
  },
  {
   "cell_type": "code",
   "execution_count": 21,
   "id": "1cd488f3",
   "metadata": {},
   "outputs": [
    {
     "name": "stdout",
     "output_type": "stream",
     "text": [
      "Data Science\n",
      "Science Data\n"
     ]
    }
   ],
   "source": [
    "# formatting\n",
    "string = \"{} {}\".format('Data', 'Science')\n",
    "print(string)\n",
    "string = \"{1} {0}\".format('Data', 'Science')\n",
    "print(string)"
   ]
  },
  {
   "cell_type": "code",
   "execution_count": 22,
   "id": "7c212487",
   "metadata": {},
   "outputs": [
    {
     "name": "stdout",
     "output_type": "stream",
     "text": [
      "|Data  | Science | Course|\n"
     ]
    }
   ],
   "source": [
    "# alingment\n",
    "string = \"|{:<5} | {:^5} | {:>5}|\".format('Data', 'Science', 'Course')\n",
    "print(string)"
   ]
  },
  {
   "cell_type": "code",
   "execution_count": 17,
   "id": "8c7f573a",
   "metadata": {},
   "outputs": [
    {
     "name": "stdout",
     "output_type": "stream",
     "text": [
      "Value as string = 1\n",
      "Value as raw data = 1\n",
      "Value as integer = 1\n",
      "Value as float = 1.000000\n",
      "The value upto 2 decimal format is = 1234.57\n",
      "1234.57\n",
      "1234.57\n"
     ]
    }
   ],
   "source": [
    "# formatting using %\n",
    "\n",
    "value = 1\n",
    "print (\"Value as string = %s\" %(value))\n",
    "\n",
    "print (\"Value as raw data = %r\" %(value))\n",
    "  \n",
    "print (\"Value as integer = %d\" %(value)) \n",
    "print (\"Value as float = %f\" %(value))\n",
    "\n",
    "value = 1234.5678\n",
    "print('The value upto 2 decimal format is = %.2f' %value)\n",
    "print('{0:.2f}'.format(value))\n",
    "print(round(value,2))"
   ]
  },
  {
   "cell_type": "markdown",
   "id": "5ffda22c",
   "metadata": {},
   "source": [
    "### List"
   ]
  },
  {
   "cell_type": "code",
   "execution_count": 23,
   "id": "176dff25",
   "metadata": {},
   "outputs": [
    {
     "name": "stdout",
     "output_type": "stream",
     "text": [
      "[]\n",
      "[1, 2, 3]\n"
     ]
    }
   ],
   "source": [
    "# creating a list\n",
    "list = []\n",
    "print(list)\n",
    "\n",
    "list = [1,2,3]\n",
    "print(list)"
   ]
  },
  {
   "cell_type": "code",
   "execution_count": 24,
   "id": "fd00b70b",
   "metadata": {},
   "outputs": [
    {
     "name": "stdout",
     "output_type": "stream",
     "text": [
      "3\n",
      "1\n",
      "3\n"
     ]
    }
   ],
   "source": [
    "print(len(list))\n",
    "print(list[0])\n",
    "print(list[-1])"
   ]
  },
  {
   "cell_type": "code",
   "execution_count": 25,
   "id": "efc1b3c3",
   "metadata": {},
   "outputs": [
    {
     "name": "stdout",
     "output_type": "stream",
     "text": [
      "[1, 2, 3, 4]\n",
      "[1, 2, 3, 4, 5]\n",
      "[1, 2, 3, 4, 5, 6, 7, 8]\n"
     ]
    }
   ],
   "source": [
    "list.append(4)\n",
    "print(list)\n",
    "\n",
    "list.insert(4,5)\n",
    "print(list)\n",
    "\n",
    "list.extend([6,7,8])\n",
    "print(list)"
   ]
  },
  {
   "cell_type": "code",
   "execution_count": 26,
   "id": "a58c1f89",
   "metadata": {},
   "outputs": [
    {
     "name": "stdout",
     "output_type": "stream",
     "text": [
      "[1, 2, 3, 4, 5]\n",
      "[3, 4, 5]\n",
      "[1, 2, 3]\n",
      "[4, 5, 6]\n"
     ]
    }
   ],
   "source": [
    "print(list[:5])\n",
    "print(list[2:5])\n",
    "print(list[:-5])\n",
    "print(list[-5:-2])"
   ]
  },
  {
   "cell_type": "code",
   "execution_count": 27,
   "id": "71fbd8a1",
   "metadata": {},
   "outputs": [
    {
     "name": "stdout",
     "output_type": "stream",
     "text": [
      "[1, 2, 3, 5, 6, 7, 8]\n",
      "[1, 2, 3, 5, 6, 7]\n",
      "[2, 3, 5, 6, 7]\n"
     ]
    }
   ],
   "source": [
    "list.remove(4)\n",
    "print(list)\n",
    "\n",
    "list.pop()\n",
    "print(list)\n",
    "\n",
    "list.pop(0)\n",
    "print(list)"
   ]
  },
  {
   "cell_type": "code",
   "execution_count": 28,
   "id": "95505b51",
   "metadata": {},
   "outputs": [
    {
     "name": "stdout",
     "output_type": "stream",
     "text": [
      "[1, 1.1, 'Souro', ['nested', 'list']]\n"
     ]
    }
   ],
   "source": [
    "list = [1, 1.1, 'Souro', ['nested', 'list']]\n",
    "print(list)"
   ]
  },
  {
   "cell_type": "markdown",
   "id": "c36b5121",
   "metadata": {},
   "source": [
    "### Tuples\n",
    "#### Tuple is a collection of Python objects much like a list but immutable\n",
    "#### Separated by ‘comma’ with or without the use of parentheses for grouping the data sequence "
   ]
  },
  {
   "cell_type": "code",
   "execution_count": 356,
   "id": "6b58b4d2",
   "metadata": {},
   "outputs": [
    {
     "name": "stdout",
     "output_type": "stream",
     "text": [
      "()\n",
      "('Souro', 'M')\n",
      "(1, 2, 3, 4, 5, 6)\n",
      "('S', 'o', 'u', 'r', 'o')\n"
     ]
    }
   ],
   "source": [
    "tuple1 = ()\n",
    "print (tuple1)\n",
    "\n",
    "tuple1 = 'Souro', 'M'\n",
    "# tuple1 = ('Souro', 'M')\n",
    "print(tuple1)\n",
    " \n",
    "list1 = [1, 2, 3, 4, 5, 6]\n",
    "print(tuple(list1))\n",
    " \n",
    "tuple1 = tuple('Souro')\n",
    "print(tuple1)\n",
    "\n",
    "# tuple1[0]='M'"
   ]
  },
  {
   "cell_type": "code",
   "execution_count": 34,
   "id": "4a4307a5",
   "metadata": {},
   "outputs": [
    {
     "name": "stdout",
     "output_type": "stream",
     "text": [
      "(5, 'Souro', 3, 'M')\n",
      "((0, 1, 2, 3), ('Souro', 'M'))\n",
      "(0, 1, 2, 3, 'Souro', 'M')\n",
      "('Souro', 'Souro', 'Souro')\n"
     ]
    }
   ],
   "source": [
    "tuple1 = (5, 'Souro', 3, 'M')\n",
    "print(tuple1)\n",
    "\n",
    "tuple1 = (0, 1, 2, 3)\n",
    "tuple2 = ('Souro', 'M')\n",
    "tuple3 = (tuple1, tuple2)\n",
    "print(tuple3)\n",
    "\n",
    "tuple3 = tuple1+tuple2\n",
    "print(tuple3)\n",
    "\n",
    "# one element in the parentheses is not sufficient, there must be a trailing ‘comma’ to make it a tuple\n",
    "tuple1 = ('Souro',) * 3\n",
    "print(tuple1)"
   ]
  },
  {
   "cell_type": "code",
   "execution_count": 359,
   "id": "429b167c",
   "metadata": {},
   "outputs": [
    {
     "name": "stdout",
     "output_type": "stream",
     "text": [
      "S\n",
      "('o', 'u', 'r', 'o')\n",
      "('S',)\n",
      "('o', 'u', 'r')\n",
      "Souro\n",
      "Data\n",
      "Science\n"
     ]
    }
   ],
   "source": [
    "tuple1 = tuple(\"Souro\")\n",
    "print(tuple1[0])\n",
    "print(tuple1[1:])\n",
    "print(tuple1[:1])\n",
    "print(tuple1[1:4])\n",
    "\n",
    "# del tuple1\n",
    "# print(tuple1)\n",
    " \n",
    "tuple1 = (\"Souro\", \"Data\", \"Science\")\n",
    " \n",
    "a, b, c = tuple1\n",
    "print(a)\n",
    "print(b)\n",
    "print(c)"
   ]
  },
  {
   "cell_type": "markdown",
   "id": "1c424667",
   "metadata": {},
   "source": [
    "### Set\n",
    "#### Unordered collection of data, iterable, mutable, no duplicate elements\n",
    "#### Distinctness of the set’s elements -> hashability"
   ]
  },
  {
   "cell_type": "code",
   "execution_count": 361,
   "id": "af0dd5d1",
   "metadata": {},
   "outputs": [
    {
     "name": "stdout",
     "output_type": "stream",
     "text": [
      "set()\n",
      "{'u', 'o', 'r', 'S'}\n",
      "{'u', 'o', 'r', 'S'}\n",
      "{'Science', 'Souro', 'Data'}\n",
      "{1, 2, 3, 4}\n",
      "{1, 3, 4}\n",
      "{1, 4}\n",
      "{4}\n",
      "set()\n",
      "{1, 2, 3, 4, 5, 6, 7, 8, 9, 10, 11, 12}\n",
      "{1, 2, ('Souro', 3), 4, 'Science', 'Data'}\n",
      "{1, 2, (3, 4)}\n",
      "{1, 2, 5, 6, (3, 4)}\n"
     ]
    }
   ],
   "source": [
    "set1 = set()\n",
    "print(set1)\n",
    " \n",
    "set1 = set(\"Souro\")\n",
    "print(set1)\n",
    "\n",
    "# for s in set1:\n",
    "#     print(s)\n",
    " \n",
    "string = 'Souro'\n",
    "set1 = set(string)\n",
    "print(set1)\n",
    " \n",
    "set1 = set([\"Souro\", \"Data\", \"Science\"])\n",
    "print(set1)\n",
    "\n",
    "set1 = set([1, 2, 2, 3, 3, 3, 4, 4, 4])\n",
    "print(set1)\n",
    "\n",
    "# remove() function, KeyError arises\n",
    "set1.remove(2)\n",
    "print(set1)\n",
    "\n",
    "# without KeyError, use discard()\n",
    "set1.discard(3)\n",
    "print(set1)\n",
    "\n",
    "# remove and return last element(but remember set is unordered) from the set\n",
    "set1.pop()\n",
    "print(set1)\n",
    "\n",
    "# remove all\n",
    "set1.clear()\n",
    "print(set1)\n",
    "\n",
    "set1 = set([1, 2, 3, 4, 5, 6, 7, 8, 9, 10, 11, 12])\n",
    "print(set1)\n",
    "\n",
    "set1 = set([1, 2, ('Souro', 3), 'Data', 4, 'Science'])\n",
    "print(set1)\n",
    "\n",
    "set1 = set()\n",
    "set1.add(1)\n",
    "set1.add(2)\n",
    "set1.add((3,4))\n",
    "print(set1)\n",
    "\n",
    "set1 = set([ 1, 2, (3, 4)])\n",
    "# update() method accepts lists, strings, tuples, other sets too ...\n",
    "set1.update([5, 6])\n",
    "print(set1)\n",
    "\n",
    "# set cannot have mutable elements like a list ...\n",
    "# set1 = set([1, 2, ('Souro', 3), 'Data', 4, 'Science'])\n",
    "# set1 = set([1, 2, ['Souro', 3], 'Data', 4, 'Science'])"
   ]
  },
  {
   "cell_type": "markdown",
   "id": "3f9de126",
   "metadata": {},
   "source": [
    "#### set type is mutable, while the frozenset type is immutable\n",
    "#### (integers, strings, tuples, frozenset -> immutable, lists, dictionaries, and sets -> mutable)\n",
    "#### sets aren’t hashable(a set object can’t contain any set objects), but remember set's elements are hashable\n",
    "#### but frozenset objects are hashable"
   ]
  },
  {
   "cell_type": "code",
   "execution_count": 366,
   "id": "a4ebbf74",
   "metadata": {
    "scrolled": true
   },
   "outputs": [
    {
     "name": "stdout",
     "output_type": "stream",
     "text": [
      "frozenset({1, 2, 3})\n"
     ]
    },
    {
     "data": {
      "text/plain": [
       "-272375401224217160"
      ]
     },
     "execution_count": 366,
     "metadata": {},
     "output_type": "execute_result"
    }
   ],
   "source": [
    "fset1 = frozenset([1,2,3])\n",
    "print(fset1)\n",
    "\n",
    "# fset1.add(4)\n",
    "# fset1.remove(2)\n",
    "# fset1.discard(2)\n",
    "# fset1.update([4,5])\n",
    "\n",
    "# set1 = set([1,2,3])\n",
    "# set2 = set([4,5])\n",
    "# set3 = set([set1, set2])\n",
    "# hash(set1)\n",
    "\n",
    "# but set's elements are hashable\n",
    "# for s in set('Souro'):\n",
    "#     print(hash(s))\n",
    "\n",
    "fset1 = frozenset([1,2,3])\n",
    "fset2 = frozenset([4,5])\n",
    "fset3 = frozenset([fset1, fset2])\n",
    "hash(fset1)"
   ]
  },
  {
   "cell_type": "markdown",
   "id": "01d262f5",
   "metadata": {},
   "source": [
    "### Dictionary\n",
    "#### ordered collection (maintained from Python 3.7), holds key:value pair\n",
    "#### values can be of any datatype, duplicated, keys can’t be repeated and and must be immutable\n",
    "#### keys are case sensitive, same name but different cases of key -> treated distinctly"
   ]
  },
  {
   "cell_type": "code",
   "execution_count": 368,
   "id": "76ec12cb",
   "metadata": {},
   "outputs": [
    {
     "name": "stdout",
     "output_type": "stream",
     "text": [
      "{}\n",
      "{1: 'Souro1', 2: 'Data', 3: 'Science'}\n",
      "{1: 'Souro', 2: 'Data', 3: 'Science'}\n",
      "{1: 'Souro', 2: 'Datascience'}\n",
      "{'Name': 'Souro', 1: [1, 2, 3, 4]}\n",
      "{1: 'Souro', 2: 'M', 3: {'course1': 'Datascience', 'course2': 'Python'}}\n"
     ]
    }
   ],
   "source": [
    "dict1 = {}\n",
    "print(dict1)\n",
    "\n",
    "dict1 = {1: 'Souro', 2: 'Data', 3: 'Science'}\n",
    "print(dict1)\n",
    "\n",
    "dict1 = dict({1: 'Souro', 2: 'Data', 3: 'Science'})\n",
    "print(dict1)\n",
    "\n",
    "# pair-wise\n",
    "dict1 = dict([(1, 'Souro'), (2, 'Datascience')])\n",
    "print(dict1)\n",
    "\n",
    "# mix type\n",
    "dict1 = {'Name': 'Souro', 1: [1, 2, 3, 4]}\n",
    "print(dict1)\n",
    "\n",
    "# nested dictionary\n",
    "dict1 = {1: 'Souro', 2: 'M', 3:{'course1' : 'Datascience', 'course2' : 'Python'}}\n",
    " \n",
    "print(dict1)"
   ]
  },
  {
   "cell_type": "code",
   "execution_count": 372,
   "id": "0b5c5b68",
   "metadata": {},
   "outputs": [
    {
     "name": "stdout",
     "output_type": "stream",
     "text": [
      "DataScience\n",
      "name Souro\n",
      "course DataScience\n"
     ]
    }
   ],
   "source": [
    "d = { \"name\" : \"Souro\", \"course\" : \"DataScience\" }\n",
    " \n",
    "# for key,value in d.iteritems(): #python 2.x\n",
    "#     print(key,value)\n",
    "print(d['course'])\n",
    "for key,value in d.items():\n",
    "    print(key,value)"
   ]
  },
  {
   "cell_type": "markdown",
   "id": "4c00c6fc",
   "metadata": {},
   "source": [
    "### Array\n",
    "#### collection of items stored at contiguous memory locations\n",
    "#### all elements of the array must be of the same type"
   ]
  },
  {
   "cell_type": "code",
   "execution_count": 379,
   "id": "db8e58dc",
   "metadata": {},
   "outputs": [
    {
     "name": "stdout",
     "output_type": "stream",
     "text": [
      "1 2 3 \n",
      "1.0 2.0 3.0 \n",
      "1 4 2 3 5 \n",
      "array('i', [4, 2, 3])\n",
      "0\n",
      "1 6 2 3 5 \n",
      "5\n",
      "6\n",
      "1 2 "
     ]
    }
   ],
   "source": [
    "import array as arr\n",
    " \n",
    "a = arr.array('i', [1, 2, 3])\n",
    "# a = arr.array('i', [1, 2, 3, 'Souro'])\n",
    "\n",
    "for i in range(0, 3):\n",
    "    print (a[i], end =\" \")\n",
    "print()\n",
    " \n",
    "b = arr.array('f', [1.0, 2.0, 3.0])\n",
    "for i in range (0, 3):\n",
    "    print (b[i], end =\" \")\n",
    "print()\n",
    "\n",
    "a.insert(1, 4)\n",
    "a.append(5)\n",
    "\n",
    "for i in range (0, 5):\n",
    "    print (a[i], end =\" \")\n",
    "print()\n",
    "\n",
    "print(a[1:4])\n",
    "print (a.index(1)) # 1st occurrence of 1\n",
    "\n",
    "a[1] = 6\n",
    "for i in range (0, 5):\n",
    "    print (a[i], end =\" \")\n",
    "print()\n",
    "\n",
    "print (a.pop())\n",
    "print (a.pop(1))\n",
    "a.remove(3) # remove 1st occurrence of 3\n",
    "for i in range (0, 2):\n",
    "    print (a[i], end =\" \")"
   ]
  },
  {
   "cell_type": "markdown",
   "id": "b640259b",
   "metadata": {},
   "source": [
    "## Operators"
   ]
  },
  {
   "cell_type": "markdown",
   "id": "83e394bb",
   "metadata": {},
   "source": [
    "### Arithmetic"
   ]
  },
  {
   "cell_type": "code",
   "execution_count": 89,
   "id": "e61d317f",
   "metadata": {},
   "outputs": [
    {
     "name": "stdout",
     "output_type": "stream",
     "text": [
      "8\n",
      "2\n",
      "15\n",
      "1.6666666666666667\n",
      "1\n",
      "2\n",
      "125\n"
     ]
    }
   ],
   "source": [
    "a = 5\n",
    "b = 3\n",
    "add = a + b\n",
    "print(add) \n",
    "sub = a - b\n",
    "print(sub)\n",
    "mul = a * b\n",
    "print(mul)\n",
    "div1 = a / b\n",
    "print(div1)\n",
    "div2 = a // b\n",
    "print(div2)\n",
    "mod = a % b\n",
    "print(mod)\n",
    "p = a ** b\n",
    "print(p)"
   ]
  },
  {
   "cell_type": "markdown",
   "id": "492bd8f9",
   "metadata": {},
   "source": [
    "### Relational"
   ]
  },
  {
   "cell_type": "code",
   "execution_count": 30,
   "id": "cdfda539",
   "metadata": {},
   "outputs": [
    {
     "name": "stdout",
     "output_type": "stream",
     "text": [
      "True\n",
      "False\n",
      "False\n",
      "True\n",
      "True\n",
      "False\n"
     ]
    }
   ],
   "source": [
    "a = 5\n",
    "b = 3  \n",
    "print(a > b)\n",
    "print(a < b)\n",
    "print(a == b)\n",
    "print(a != b)\n",
    "print(a >= b)\n",
    "print(a <= b)"
   ]
  },
  {
   "cell_type": "markdown",
   "id": "a9da74be",
   "metadata": {},
   "source": [
    "### Bitwise"
   ]
  },
  {
   "cell_type": "code",
   "execution_count": 31,
   "id": "0c437b0f",
   "metadata": {},
   "outputs": [
    {
     "name": "stdout",
     "output_type": "stream",
     "text": [
      "1\n",
      "7\n",
      "-6\n",
      "6\n",
      "1\n",
      "20\n"
     ]
    }
   ],
   "source": [
    "a = 5\n",
    "b = 3  \n",
    "print(a & b)\n",
    "print(a | b)\n",
    "print(~a)\n",
    "print(a ^ b) \n",
    "print(a >> 2)\n",
    "print(a << 2)"
   ]
  },
  {
   "cell_type": "markdown",
   "id": "014450ca",
   "metadata": {},
   "source": [
    "### Logical"
   ]
  },
  {
   "cell_type": "code",
   "execution_count": 32,
   "id": "92814c5b",
   "metadata": {},
   "outputs": [
    {
     "name": "stdout",
     "output_type": "stream",
     "text": [
      "False\n",
      "True\n",
      "False\n"
     ]
    }
   ],
   "source": [
    "print (False and True)\n",
    "print (True or False)\n",
    "print (not True)"
   ]
  },
  {
   "cell_type": "markdown",
   "id": "9594f6ef",
   "metadata": {},
   "source": [
    "### Identity"
   ]
  },
  {
   "cell_type": "code",
   "execution_count": 33,
   "id": "8bc42cdf",
   "metadata": {},
   "outputs": [
    {
     "name": "stdout",
     "output_type": "stream",
     "text": [
      "False\n",
      "True\n",
      "False\n"
     ]
    }
   ],
   "source": [
    "a1 = 1\n",
    "b1 = 1\n",
    "a2 = 'DataScience'\n",
    "b2 = 'DataScience'\n",
    "a3 = [1,2,3]\n",
    "b3 = [1,2,3]\n",
    "print(a1 is not b1)\n",
    "print(a2 is b2)\n",
    "print(a3 is b3)"
   ]
  },
  {
   "cell_type": "markdown",
   "id": "771a6721",
   "metadata": {},
   "source": [
    "### Membership"
   ]
  },
  {
   "cell_type": "code",
   "execution_count": 34,
   "id": "c5cff568",
   "metadata": {},
   "outputs": [
    {
     "name": "stdout",
     "output_type": "stream",
     "text": [
      "True\n",
      "True\n"
     ]
    }
   ],
   "source": [
    "x = 'Data Science'\n",
    "  \n",
    "print('Sc' in x)\n",
    "  \n",
    "print('So' not in x)"
   ]
  },
  {
   "cell_type": "markdown",
   "id": "4dc3920e",
   "metadata": {},
   "source": [
    "### Precedence"
   ]
  },
  {
   "cell_type": "code",
   "execution_count": 35,
   "id": "1d53b908",
   "metadata": {},
   "outputs": [
    {
     "name": "stdout",
     "output_type": "stream",
     "text": [
      "7\n",
      "Correct\n"
     ]
    }
   ],
   "source": [
    "expr = 1 + 2 * 3\n",
    "print(expr)\n",
    "\n",
    "name = \"Souro\"\n",
    "id = 0\n",
    "    \n",
    "if name == \"Souro\" or name == \"Souro1\" and id >= 0 :  \n",
    "    print(\"Correct\") \n",
    "else : \n",
    "    print(\"Wrong\")"
   ]
  },
  {
   "cell_type": "markdown",
   "id": "afb654c0",
   "metadata": {},
   "source": [
    "###  Associativity"
   ]
  },
  {
   "cell_type": "code",
   "execution_count": 36,
   "id": "d22267bc",
   "metadata": {},
   "outputs": [
    {
     "name": "stdout",
     "output_type": "stream",
     "text": [
      "1.5\n",
      "4\n",
      "0\n",
      "1\n"
     ]
    }
   ],
   "source": [
    "print(1 / 2 * 3)\n",
    "print(3 - 1 + 2) \n",
    "print(3 - (1 + 2)) \n",
    "print(1 ** 2 ** 3)"
   ]
  },
  {
   "cell_type": "markdown",
   "id": "3628e121",
   "metadata": {},
   "source": [
    "## Control Statement"
   ]
  },
  {
   "cell_type": "code",
   "execution_count": 384,
   "id": "322a79bc",
   "metadata": {},
   "outputs": [
    {
     "name": "stdout",
     "output_type": "stream",
     "text": [
      "b is greater than a\n",
      "again\n"
     ]
    }
   ],
   "source": [
    "a = 5\n",
    "b = 3\n",
    "if a > b:\n",
    "  print(\"b is greater than a\")\n",
    "if True:\n",
    "    print('again')\n",
    "elif True:\n",
    "    print('again elif')\n",
    "elif a == b:\n",
    "  print(\"a and b are equal\")\n",
    "else:\n",
    "  print(\"a is greater than b\")"
   ]
  },
  {
   "cell_type": "markdown",
   "id": "16de6ecd",
   "metadata": {},
   "source": [
    "#### Python does not have a switch or case statement (Until Python 3.10) ..."
   ]
  },
  {
   "cell_type": "code",
   "execution_count": 196,
   "id": "a9e90b96",
   "metadata": {},
   "outputs": [
    {
     "name": "stdout",
     "output_type": "stream",
     "text": [
      "one\n"
     ]
    }
   ],
   "source": [
    "# work around as a replacement of switch case\n",
    "def num_to_str(num):\n",
    "    switch = {\n",
    "        0: \"zero\",\n",
    "        1: \"one\",\n",
    "        2: \"two\",\n",
    "    }\n",
    "    return switch.get(num)\n",
    "  \n",
    "print (num_to_str(1))"
   ]
  },
  {
   "cell_type": "markdown",
   "id": "8634b559",
   "metadata": {},
   "source": [
    "## Functions\n",
    "\n",
    "#### Instead of writing the same code again and again -> reuse code\n",
    "#### Some commonly or repeatedly done task together -> make a function\n",
    "#### Function helps code to be concise, non-repetitive, and organized"
   ]
  },
  {
   "cell_type": "code",
   "execution_count": 386,
   "id": "56c013fb",
   "metadata": {},
   "outputs": [
    {
     "name": "stdout",
     "output_type": "stream",
     "text": [
      "This funcion prints a welcome message with name\n",
      "Welcome Souro!\n"
     ]
    }
   ],
   "source": [
    "def showName():\n",
    "    # docstring -> optional but good practice\n",
    "    \"This funcion prints a welcome message with name\"\n",
    "    print('Welcome {name}!'.format(name='Souro'))\n",
    "\n",
    "print(showName.__doc__)\n",
    "showName()"
   ]
  },
  {
   "cell_type": "code",
   "execution_count": 389,
   "id": "da746d7b",
   "metadata": {},
   "outputs": [
    {
     "name": "stdout",
     "output_type": "stream",
     "text": [
      "8\n"
     ]
    }
   ],
   "source": [
    "def add(num1, num2):\n",
    "    return num1+num2\n",
    "    #print('Souro')\n",
    "    #return # if nothing then return None\n",
    "\n",
    "print(add(5,3))"
   ]
  },
  {
   "cell_type": "markdown",
   "id": "d28c6b16",
   "metadata": {},
   "source": [
    "#### pass a variable to a function, a new reference to the object is created\n",
    "#### pass a reference -> change received reference to something else, connection between passed and received parameter is broken"
   ]
  },
  {
   "cell_type": "code",
   "execution_count": 390,
   "id": "875da168",
   "metadata": {},
   "outputs": [
    {
     "name": "stdout",
     "output_type": "stream",
     "text": [
      "[0, 2, 3, 4]\n"
     ]
    }
   ],
   "source": [
    "def fun(list2): # x is a new reference to same list lst\n",
    "    list2[0] = 0\n",
    "  \n",
    "list1 = [1, 2, 3, 4]\n",
    "fun(list1)\n",
    "print(list1)"
   ]
  },
  {
   "cell_type": "code",
   "execution_count": 398,
   "id": "7e88606f",
   "metadata": {},
   "outputs": [
    {
     "name": "stdout",
     "output_type": "stream",
     "text": [
      "[1, 2, 3, 4]\n",
      "2\n",
      "1\n",
      "1\n",
      "2\n"
     ]
    }
   ],
   "source": [
    "def fun1(list2):\n",
    "    list2 = [5,6,7,8]  \n",
    "list1 = [1, 2, 3, 4]\n",
    "fun1(list1)\n",
    "print(list1)\n",
    "\n",
    "def fun2(val):\n",
    "    val = 2\n",
    "    print(val)\n",
    "val = 1\n",
    "fun2(val)\n",
    "print(val)\n",
    "\n",
    "def swapFun(val1, val2):\n",
    "    temp = val1\n",
    "    val1 = val2\n",
    "    val2 = temp\n",
    "    # val1, val2 = val2, val1\n",
    "val1 = 1\n",
    "val2 = 2\n",
    "# val1, val2 = val2, val1\n",
    "swapFun(val1, val2)\n",
    "print(val1)\n",
    "print(val2)"
   ]
  },
  {
   "cell_type": "code",
   "execution_count": 401,
   "id": "aa8e54a9",
   "metadata": {},
   "outputs": [
    {
     "name": "stdout",
     "output_type": "stream",
     "text": [
      "5\n",
      "3\n",
      "5\n",
      "3\n"
     ]
    }
   ],
   "source": [
    "# default arguments \n",
    "def fun(val1, val2=3):\n",
    "    print(val1)\n",
    "    print(val2)\n",
    "fun(5)\n",
    "\n",
    "def fun(val2, val1):\n",
    "    print(val1)\n",
    "    print(val2)\n",
    "fun(val2 = 3, val1 = 5)"
   ]
  },
  {
   "cell_type": "markdown",
   "id": "d92d88d8",
   "metadata": {},
   "source": [
    "#### normal and keyword variable number of arguments"
   ]
  },
  {
   "cell_type": "code",
   "execution_count": 153,
   "id": "8063ead4",
   "metadata": {},
   "outputs": [
    {
     "name": "stdout",
     "output_type": "stream",
     "text": [
      "Souro\n",
      "Data\n",
      "Science\n",
      "name : Souro\n",
      "course : DataScience\n"
     ]
    }
   ],
   "source": [
    "def fun(*argv):\n",
    "    for arg in argv:\n",
    "        print(arg)\n",
    "  \n",
    "fun('Souro', 'Data', 'Science')\n",
    "\n",
    "def fun(**kwargs):\n",
    "    for key, value in kwargs.items():\n",
    "        print(\"%s : %s\" % (key, value))\n",
    "  \n",
    "fun(name = 'Souro', course = 'DataScience')"
   ]
  },
  {
   "cell_type": "markdown",
   "id": "e149c0af",
   "metadata": {},
   "source": [
    "#### anonymous function\n",
    "#### lambda keyword is used to create anonymous functions (lambda arguments: expression)\n",
    "#### lambda functions are syntactically restricted to a single expression"
   ]
  },
  {
   "cell_type": "code",
   "execution_count": 162,
   "id": "2a1fcd1b",
   "metadata": {},
   "outputs": [
    {
     "name": "stdout",
     "output_type": "stream",
     "text": [
      "8\n",
      "8\n"
     ]
    }
   ],
   "source": [
    "def add(val1, val2):\n",
    "    return val1+val2\n",
    "\n",
    "add2 = lambda val1, val2 : val1+val2\n",
    "  \n",
    "print(add(5,3))\n",
    "print(add2(5,3))"
   ]
  },
  {
   "cell_type": "markdown",
   "id": "59acd189",
   "metadata": {},
   "source": [
    "#### yield instead of return\n",
    "###### suspends function’s execution and sends a value back to the caller\n",
    "###### but retains enough state to enable function to resume where it is left off\n",
    "###### allows to produce a series of values over time, rather than computing them at once and sending them back like a list\n",
    "###### use yield when iterate over a sequence, but don’t want to store the entire sequence in memory\n",
    "###### yield are used in Python generators"
   ]
  },
  {
   "cell_type": "code",
   "execution_count": 352,
   "id": "6dad3cce",
   "metadata": {},
   "outputs": [
    {
     "name": "stdout",
     "output_type": "stream",
     "text": [
      "1\n",
      "2\n",
      "3\n"
     ]
    }
   ],
   "source": [
    "def simpleGenerator():\n",
    "    yield 1\n",
    "    yield 2\n",
    "    yield 3\n",
    "  \n",
    "for value in simpleGenerator(): \n",
    "    print(value)"
   ]
  },
  {
   "cell_type": "markdown",
   "id": "4ff30435",
   "metadata": {},
   "source": [
    "## Loops"
   ]
  },
  {
   "cell_type": "code",
   "execution_count": 163,
   "id": "493603de",
   "metadata": {},
   "outputs": [
    {
     "name": "stdout",
     "output_type": "stream",
     "text": [
      "Data Science\n",
      "Data Science\n",
      "Data Science\n"
     ]
    }
   ],
   "source": [
    "count = 0\n",
    "while(count < 3):   \n",
    "    count = count + 1\n",
    "    print(\"Data Science\")"
   ]
  },
  {
   "cell_type": "code",
   "execution_count": 164,
   "id": "80c76572",
   "metadata": {},
   "outputs": [
    {
     "name": "stdout",
     "output_type": "stream",
     "text": [
      "Data Science\n",
      "Data Science\n",
      "Data Science\n",
      "Souro\n"
     ]
    }
   ],
   "source": [
    "count = 0\n",
    "while (count < 3):   \n",
    "    count = count + 1\n",
    "    print('Data Science')\n",
    "else:\n",
    "    print('Souro')"
   ]
  },
  {
   "cell_type": "code",
   "execution_count": 403,
   "id": "3ffa6940",
   "metadata": {},
   "outputs": [
    {
     "name": "stdout",
     "output_type": "stream",
     "text": [
      "Data Science\n",
      "Data Science\n",
      "Data Science\n"
     ]
    }
   ],
   "source": [
    "for i in range(3):\n",
    "    print('Data Science')"
   ]
  },
  {
   "cell_type": "code",
   "execution_count": 170,
   "id": "0fc5112f",
   "metadata": {},
   "outputs": [
    {
     "name": "stdout",
     "output_type": "stream",
     "text": [
      "Souro\n",
      "Data\n",
      "Science\n",
      "Souro\n",
      "Data\n",
      "Science\n",
      "Souro\n",
      "Data\n",
      "Science\n",
      "After End of for loop\n",
      "Souro\n",
      "Data\n",
      "Science\n",
      "S\n",
      "o\n",
      "u\n",
      "r\n",
      "o\n",
      "name  Souro\n",
      "course  Data Science\n"
     ]
    }
   ],
   "source": [
    "l = [\"Souro\", \"Data\", \"Science\"]\n",
    "for i in l:\n",
    "    print(i)\n",
    "    \n",
    "for idx in range(len(l)):\n",
    "    print(l[idx])\n",
    "\n",
    "for idx in range(len(l)):\n",
    "    print(l[idx])\n",
    "else:\n",
    "    print('After End of for loop')\n",
    "      \n",
    "t = (\"Souro\", \"Data\", \"Science\")\n",
    "for i in t:\n",
    "    print(i)\n",
    "      \n",
    "s = \"Souro\"\n",
    "for i in s :\n",
    "    print(i)\n",
    "      \n",
    "d = dict()\n",
    "d['name'] = 'Souro'\n",
    "d['course'] = 'Data Science'\n",
    "for i in d :\n",
    "    print(\"%s  %s\" %(i, d[i]))"
   ]
  },
  {
   "cell_type": "code",
   "execution_count": 171,
   "id": "bc0b2a2e",
   "metadata": {},
   "outputs": [
    {
     "name": "stdout",
     "output_type": "stream",
     "text": [
      "Souro\n",
      "Data\n",
      "Science\n"
     ]
    }
   ],
   "source": [
    "str_list = [\"Souro\", \"Data\", \"Science\"]\n",
    " \n",
    "iter_obj = iter(str_list)\n",
    " \n",
    "while True:\n",
    "  try:\n",
    "    str = next(iter_obj)\n",
    "    print(str)\n",
    "  except StopIteration:\n",
    "    break"
   ]
  },
  {
   "cell_type": "code",
   "execution_count": 173,
   "id": "32defd5b",
   "metadata": {},
   "outputs": [
    {
     "name": "stdout",
     "output_type": "stream",
     "text": [
      "Current Letter : D\n",
      "Current Letter : a\n",
      "Current Letter : t\n",
      "Current Letter : a\n",
      "Current Letter : c\n",
      "Current Letter : i\n",
      "Current Letter : e\n",
      "Current Letter : n\n",
      "Current Letter : c\n",
      "Current Letter : e\n"
     ]
    }
   ],
   "source": [
    "for letter in 'DataScience': \n",
    "    if letter == 'S':\n",
    "         continue\n",
    "    print('Current Letter :', letter)"
   ]
  },
  {
   "cell_type": "code",
   "execution_count": 174,
   "id": "71cdcd9e",
   "metadata": {},
   "outputs": [
    {
     "name": "stdout",
     "output_type": "stream",
     "text": [
      "Current Letter : D\n",
      "Current Letter : a\n",
      "Current Letter : t\n",
      "Current Letter : a\n",
      "Current Letter after break: S\n"
     ]
    }
   ],
   "source": [
    "for letter in 'DataScience':\n",
    "    if letter == 'S':\n",
    "         break\n",
    "    print('Current Letter :', letter)\n",
    "  \n",
    "print('Current Letter after break:', letter)"
   ]
  },
  {
   "cell_type": "code",
   "execution_count": 179,
   "id": "f2af54c3",
   "metadata": {},
   "outputs": [
    {
     "name": "stdout",
     "output_type": "stream",
     "text": [
      "Last Letter : e\n"
     ]
    }
   ],
   "source": [
    "for letter in 'DataScience':\n",
    "    pass\n",
    "print('Last Letter :', letter)"
   ]
  },
  {
   "cell_type": "markdown",
   "id": "4336748b",
   "metadata": {},
   "source": [
    "#### pass vs continue\n",
    "#### pass simply does nothing, while continue goes on with the next loop iteration"
   ]
  },
  {
   "cell_type": "code",
   "execution_count": 405,
   "id": "bb5bedec",
   "metadata": {},
   "outputs": [
    {
     "name": "stdout",
     "output_type": "stream",
     "text": [
      "0\n",
      "1\n",
      "2\n",
      "1\n",
      "2\n"
     ]
    }
   ],
   "source": [
    "list1 = [0, 1, 2]\n",
    "for element in list1:\n",
    "    if element == 0:\n",
    "        pass\n",
    "    print(element)\n",
    "\n",
    "for element in list1:\n",
    "    if element == 0:\n",
    "        continue\n",
    "    print(element)"
   ]
  },
  {
   "cell_type": "markdown",
   "id": "6e45c6d4",
   "metadata": {},
   "source": [
    "#### enumerate() is used -> printing the index number along with the value"
   ]
  },
  {
   "cell_type": "code",
   "execution_count": 180,
   "id": "af9bf4dd",
   "metadata": {},
   "outputs": [
    {
     "name": "stdout",
     "output_type": "stream",
     "text": [
      "0 Souro\n",
      "1 Data\n",
      "2 Science\n"
     ]
    }
   ],
   "source": [
    "for key, value in enumerate(['Souro', 'Data', 'Science']):\n",
    "    print(key, value)"
   ]
  },
  {
   "cell_type": "markdown",
   "id": "970fe497",
   "metadata": {},
   "source": [
    "#### zip() is used to combine 2 similar containers(list-list or dict-dict)\n",
    "#### loop exists only till the smaller container ends"
   ]
  },
  {
   "cell_type": "code",
   "execution_count": 185,
   "id": "eca7e46d",
   "metadata": {},
   "outputs": [
    {
     "name": "stdout",
     "output_type": "stream",
     "text": [
      "Key: name,  Value: Souro\n",
      "Key: course,  Value: DataScience\n",
      "Key: programming,  Value: Python\n"
     ]
    }
   ],
   "source": [
    "key = ['name', 'course', 'programming']\n",
    "value = ['Souro', 'DataScience', 'Python']\n",
    "\n",
    "for key, value in zip(key, value):\n",
    "    print('Key: {0},  Value: {1}'.format(key, value))"
   ]
  },
  {
   "cell_type": "code",
   "execution_count": 193,
   "id": "3a703c56",
   "metadata": {},
   "outputs": [
    {
     "name": "stdout",
     "output_type": "stream",
     "text": [
      "Python\n",
      "Souro\n",
      "MachineLearning\n",
      "Math\n",
      "Python\n",
      "DataScience\n",
      "Souro\n",
      "\n",
      "\n",
      "DataScience\n",
      "MachineLearning\n",
      "Math\n",
      "Python\n",
      "Souro\n"
     ]
    }
   ],
   "source": [
    "string_list = ['Souro', 'DataScience', 'Python', 'Math',\n",
    "          'MachineLearning', 'Souro', 'Python']\n",
    " \n",
    "for string in reversed(string_list) :\n",
    "    print (string)\n",
    "print('\\n')\n",
    "for string in sorted(set(string_list)):\n",
    "    print(string)"
   ]
  },
  {
   "cell_type": "markdown",
   "id": "65b22f0f",
   "metadata": {},
   "source": [
    "## File Handling\n",
    "#### open () -> open a file in read or write mode, open ( ) will return a file object\n",
    "#### open() function -> two arguments, file name and the mode, whether to read or write\n",
    "#### mode is not mandatory ... If not passed, then 'r' by default\n",
    "#### Each line of text is terminated with a special character called EOL (End of Line), by default new line character (‘\\n’) in python"
   ]
  },
  {
   "cell_type": "markdown",
   "id": "c97c8d71",
   "metadata": {},
   "source": [
    "###### Read Only (‘r’) : Open text file for reading. The handle is positioned at the beginning of the file. If the file does not exists, raises I/O error. This is also the default mode in which file is opened.\n",
    "###### Read and Write (‘r+’) : Open the file for reading and writing. The handle is positioned at the beginning of the file. Raises I/O error if the file does not exists.\n",
    "###### Write Only (‘w’) : Open the file for writing. For existing file, the data is truncated and over-written. The handle is positioned at the beginning of the file. Creates the file if the file does not exists.\n",
    "###### Write and Read (‘w+’) : Open the file for reading and writing. For existing file, data is truncated and over-written. The handle is positioned at the beginning of the file.\n",
    "###### Append Only (‘a’) : Open the file for writing. The file is created if it does not exist. The handle is positioned at the end of the file. The data being written will be inserted at the end, after the existing data.\n",
    "###### Append and Read (‘a+’) : Open the file for reading and writing. The file is created if it does not exist. The handle is positioned at the end of the file. The data being written will be inserted at the end, after the existing data.\n"
   ]
  },
  {
   "cell_type": "code",
   "execution_count": 416,
   "id": "634a33b0",
   "metadata": {},
   "outputs": [
    {
     "name": "stdout",
     "output_type": "stream",
     "text": [
      "file for\n",
      "read example\n",
      "   example with space before\n",
      "example with space after\n"
     ]
    }
   ],
   "source": [
    "file = open('file_read_example.txt', 'r')\n",
    "\n",
    "# print(file.read())\n",
    "# print(file.read(15)) # read the first 15 characters\n",
    "\n",
    "#print(file.readline())\n",
    "#print(file.readlines())\n",
    "\n",
    "for line in file:\n",
    "    #print(line)\n",
    "    #print(line.lstrip()) # strips each line of a file off spaces from the right-hand side.\n",
    "    print(line.rstrip()) # strips each line of a file off spaces from the left-hand side.\n",
    "    #print(file.readline())"
   ]
  },
  {
   "cell_type": "code",
   "execution_count": 419,
   "id": "a8497efe",
   "metadata": {},
   "outputs": [],
   "source": [
    "file = open(\"file_write_example.txt\",\"w\")\n",
    "file.write(\"file for\")\n",
    "file.seek(0) # seek(n) -> takes the file handle to the nth bite from the beginning\n",
    "file.write(\"\\n\")\n",
    "file.write(\"write example\")\n",
    "\n",
    "L = [\"\\nWrite using \\n\",\"writelines \\n\",\"method \\n\"]\n",
    "file.writelines(L)\n",
    "\n",
    "file.close() # close() terminates all the resources in use, frees the acquired memory space"
   ]
  },
  {
   "cell_type": "code",
   "execution_count": 420,
   "id": "ac80f816",
   "metadata": {},
   "outputs": [],
   "source": [
    "file = open(\"file_write_example.txt\",'a')\n",
    "file.write(\"\\n\")\n",
    "file.write(\"Adding in the existing file\")\n",
    "file.close()"
   ]
  },
  {
   "cell_type": "code",
   "execution_count": 294,
   "id": "275dee9e",
   "metadata": {},
   "outputs": [
    {
     "name": "stdout",
     "output_type": "stream",
     "text": [
      "file for\n",
      "read example\n",
      "   example with space before\n",
      "example with space after      \n",
      "\n"
     ]
    }
   ],
   "source": [
    "# cleaner syntax and exceptions handling\n",
    "# using this way, files opened will be closed automatically once done, so auto-cleanup ...\n",
    "with open(\"file_read_example.txt\") as file:  \n",
    "    data = file.read()\n",
    "    print(data)\n",
    "#     data = file.readlines()\n",
    "#     for line in data:\n",
    "#         word = line.split()\n",
    "#         print (word)\n",
    "with open(\"file_write_example.txt\", \"w\") as file:\n",
    "    file.write(\"file for\")\n",
    "    file.write(\"\\n\")\n",
    "    file.write(\"write example\")\n",
    "with open(\"file_write_example.txt\", \"a\") as file:\n",
    "    file.write(\"\\n\")\n",
    "    file.write(\"Adding in the existing file\")"
   ]
  },
  {
   "cell_type": "code",
   "execution_count": 421,
   "id": "93e792b4",
   "metadata": {},
   "outputs": [
    {
     "name": "stdout",
     "output_type": "stream",
     "text": [
      "file for\n",
      "read example\n",
      "   example with space before\n",
      "example with space after   \n",
      "\n"
     ]
    }
   ],
   "source": [
    "file = open('file_read_example.txt', 'r+')\n",
    "\n",
    "print(file.read())\n",
    "file.write(\"file write in r+ mode\")\n",
    "file.close()"
   ]
  },
  {
   "cell_type": "markdown",
   "id": "1be15725",
   "metadata": {},
   "source": [
    "## Exception Handling\n",
    "#### Error in Python, two types: Syntax errors and Exceptions\n",
    "#### Syntax errors (wrong syntax) -> problems in a program due to which the program will stop the execution \n",
    "#### Exceptions are raised when some internal events occur which changes the normal flow of the program "
   ]
  },
  {
   "cell_type": "code",
   "execution_count": 423,
   "id": "9d24bc08",
   "metadata": {},
   "outputs": [
    {
     "name": "stdout",
     "output_type": "stream",
     "text": [
      "Value is greater than 3\n"
     ]
    }
   ],
   "source": [
    "value = 5\n",
    "if(value>3):\n",
    "    print(\"Value is greater than 3\")"
   ]
  },
  {
   "cell_type": "code",
   "execution_count": 430,
   "id": "2a084835",
   "metadata": {},
   "outputs": [
    {
     "name": "stdout",
     "output_type": "stream",
     "text": [
      "ZeroDivisionError\n",
      "Error has been handled to continue with the rest of the program\n"
     ]
    }
   ],
   "source": [
    "# div = value/0\n",
    "# print('After Error')\n",
    "try:\n",
    "    div = value/0\n",
    "except ZeroDivisionError:\n",
    "    print('ZeroDivisionError')\n",
    "except:\n",
    "    print('error')\n",
    "print('Error has been handled to continue with the rest of the program')"
   ]
  },
  {
   "cell_type": "code",
   "execution_count": 432,
   "id": "bf7e83a7",
   "metadata": {},
   "outputs": [
    {
     "name": "stdout",
     "output_type": "stream",
     "text": [
      "Entered into the else clause\n"
     ]
    }
   ],
   "source": [
    "# enters the else block only if the try clause does not raise an exception\n",
    "try:\n",
    "    div = value/3\n",
    "except ZeroDivisionError:\n",
    "    print('ZeroDivisionError')\n",
    "else:\n",
    "    print('Entered into the else clause')"
   ]
  },
  {
   "cell_type": "code",
   "execution_count": 346,
   "id": "14dea773",
   "metadata": {},
   "outputs": [
    {
     "name": "stdout",
     "output_type": "stream",
     "text": [
      "ZeroDivisionError\n",
      "This will be always executed\n"
     ]
    }
   ],
   "source": [
    "# finally block always executes after normal termination or after try block terminates due to exception\n",
    "try:\n",
    "    div = value/0\n",
    "except ZeroDivisionError:\n",
    "    print('ZeroDivisionError')\n",
    "finally:\n",
    "    print('This will be always executed')"
   ]
  },
  {
   "cell_type": "code",
   "execution_count": 348,
   "id": "907fa8af",
   "metadata": {},
   "outputs": [
    {
     "ename": "Exception",
     "evalue": "Sorry, no numbers above 3",
     "output_type": "error",
     "traceback": [
      "\u001b[0;31m---------------------------------------------------------------------------\u001b[0m",
      "\u001b[0;31mException\u001b[0m                                 Traceback (most recent call last)",
      "\u001b[0;32m<ipython-input-348-b6403152d059>\u001b[0m in \u001b[0;36m<module>\u001b[0;34m\u001b[0m\n\u001b[1;32m      2\u001b[0m \u001b[0;34m\u001b[0m\u001b[0m\n\u001b[1;32m      3\u001b[0m \u001b[0;32mif\u001b[0m \u001b[0mvalue\u001b[0m \u001b[0;34m>\u001b[0m \u001b[0;36m3\u001b[0m\u001b[0;34m:\u001b[0m\u001b[0;34m\u001b[0m\u001b[0;34m\u001b[0m\u001b[0m\n\u001b[0;32m----> 4\u001b[0;31m   \u001b[0;32mraise\u001b[0m \u001b[0mException\u001b[0m\u001b[0;34m(\u001b[0m\u001b[0;34m\"Sorry, no numbers above 3\"\u001b[0m\u001b[0;34m)\u001b[0m\u001b[0;34m\u001b[0m\u001b[0;34m\u001b[0m\u001b[0m\n\u001b[0m",
      "\u001b[0;31mException\u001b[0m: Sorry, no numbers above 3"
     ]
    }
   ],
   "source": [
    "value = 5\n",
    "\n",
    "if value > 3:\n",
    "  raise Exception(\"Sorry, no numbers above 3\")"
   ]
  },
  {
   "cell_type": "code",
   "execution_count": 435,
   "id": "dcbee249",
   "metadata": {},
   "outputs": [
    {
     "name": "stdout",
     "output_type": "stream",
     "text": [
      "A New Exception occured, error message:  Custom Error\n"
     ]
    }
   ],
   "source": [
    "class customError(Exception):\n",
    "\n",
    "    def __init__(self, msg):\n",
    "        self.msg = msg\n",
    " \n",
    "    def __show__(self):\n",
    "        return self.msg\n",
    " \n",
    "try:\n",
    "    raise(customError('Custom Error'))\n",
    " \n",
    "except customError as error:\n",
    "    print('A New Exception occured, error message: ',error.msg)"
   ]
  },
  {
   "cell_type": "code",
   "execution_count": null,
   "id": "478d62ea",
   "metadata": {},
   "outputs": [],
   "source": []
  }
 ],
 "metadata": {
  "kernelspec": {
   "display_name": "Python 3",
   "language": "python",
   "name": "python3"
  },
  "language_info": {
   "codemirror_mode": {
    "name": "ipython",
    "version": 3
   },
   "file_extension": ".py",
   "mimetype": "text/x-python",
   "name": "python",
   "nbconvert_exporter": "python",
   "pygments_lexer": "ipython3",
   "version": "3.6.9"
  }
 },
 "nbformat": 4,
 "nbformat_minor": 5
}
