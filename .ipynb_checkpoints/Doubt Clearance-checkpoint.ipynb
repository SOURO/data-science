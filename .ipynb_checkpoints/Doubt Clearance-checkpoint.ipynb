{
 "cells": [
  {
   "cell_type": "markdown",
   "id": "5df6179c",
   "metadata": {},
   "source": [
    "# 1: List, String, Mutable, Immutable, is , == operator"
   ]
  },
  {
   "cell_type": "markdown",
   "id": "a3a870a1",
   "metadata": {},
   "source": [
    " ### id() function returns an identity of an object"
   ]
  },
  {
   "cell_type": "code",
   "execution_count": 5,
   "id": "7bdb5364",
   "metadata": {},
   "outputs": [
    {
     "name": "stdout",
     "output_type": "stream",
     "text": [
      "10914560\n",
      "10914560\n"
     ]
    }
   ],
   "source": [
    "a = 3\n",
    "b = 3\n",
    "print(id(a))\n",
    "print(id(b))"
   ]
  },
  {
   "cell_type": "code",
   "execution_count": 1,
   "id": "e713bb55",
   "metadata": {},
   "outputs": [
    {
     "name": "stdout",
     "output_type": "stream",
     "text": [
      "140296365704280\n",
      "140296365704280\n"
     ]
    }
   ],
   "source": [
    "s1 = \"souro\"\n",
    "s2 = \"souro\"\n",
    "print(id(s1))\n",
    "print(id(s2))"
   ]
  },
  {
   "cell_type": "code",
   "execution_count": 2,
   "id": "9de81f2a",
   "metadata": {},
   "outputs": [
    {
     "name": "stdout",
     "output_type": "stream",
     "text": [
      "140296254295880\n",
      "140296254296328\n"
     ]
    }
   ],
   "source": [
    "list1 = [1,2,3]\n",
    "list2 = [1,2,3]\n",
    "print(id(list1))\n",
    "print(id(list2))"
   ]
  },
  {
   "cell_type": "code",
   "execution_count": 3,
   "id": "b3d31a0a",
   "metadata": {},
   "outputs": [
    {
     "name": "stdout",
     "output_type": "stream",
     "text": [
      "True\n",
      "True\n"
     ]
    }
   ],
   "source": [
    "print(s1 == s2)\n",
    "print(list1 == list2)"
   ]
  },
  {
   "cell_type": "code",
   "execution_count": 4,
   "id": "13a9ae3c",
   "metadata": {},
   "outputs": [
    {
     "name": "stdout",
     "output_type": "stream",
     "text": [
      "True\n",
      "False\n"
     ]
    }
   ],
   "source": [
    "print(s1 is s2)\n",
    "print(list1 is list2)"
   ]
  },
  {
   "cell_type": "code",
   "execution_count": 9,
   "id": "24dc6b72",
   "metadata": {},
   "outputs": [
    {
     "name": "stdout",
     "output_type": "stream",
     "text": [
      "souro\n",
      "souro\n",
      "True\n",
      "140296365704280\n",
      "140296254646512\n",
      "False\n"
     ]
    }
   ],
   "source": [
    "s1 = \"souro\"\n",
    "s2 = \"so\"\n",
    "s3 = s2+\"uro\"\n",
    "print(s1)\n",
    "print(s3)\n",
    "print(s1==s3)\n",
    "print(id(s1))\n",
    "print(id(s3))\n",
    "print(s1 is s3)"
   ]
  },
  {
   "cell_type": "code",
   "execution_count": 2,
   "id": "f04df749",
   "metadata": {},
   "outputs": [
    {
     "name": "stdout",
     "output_type": "stream",
     "text": [
      "140469159830616\n",
      "140469159830616\n",
      "True\n",
      "True\n",
      "souro M\n",
      "souro\n",
      "140469006805792\n",
      "140469159830616\n",
      "False\n",
      "False\n"
     ]
    }
   ],
   "source": [
    "s1 = \"souro\"\n",
    "s2 = s1\n",
    "print(id(s1))\n",
    "print(id(s2))\n",
    "print(s1==s2)\n",
    "print(s1 is s2)\n",
    "\n",
    "s1+=\" M\" # it will not update the current string, it will create a new string and assign it's memory ref to s1\n",
    "print(s1)\n",
    "print(s2)\n",
    "print(id(s1))\n",
    "print(id(s2))\n",
    "print(s1==s2)\n",
    "print(s1 is s2)"
   ]
  },
  {
   "cell_type": "code",
   "execution_count": null,
   "id": "13fe9413",
   "metadata": {},
   "outputs": [],
   "source": []
  }
 ],
 "metadata": {
  "kernelspec": {
   "display_name": "Python 3",
   "language": "python",
   "name": "python3"
  },
  "language_info": {
   "codemirror_mode": {
    "name": "ipython",
    "version": 3
   },
   "file_extension": ".py",
   "mimetype": "text/x-python",
   "name": "python",
   "nbconvert_exporter": "python",
   "pygments_lexer": "ipython3",
   "version": "3.6.9"
  }
 },
 "nbformat": 4,
 "nbformat_minor": 5
}
