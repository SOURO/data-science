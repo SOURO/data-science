{
 "cells": [
  {
   "cell_type": "markdown",
   "id": "603b0e3d",
   "metadata": {},
   "source": [
    "## Hello World Traditions"
   ]
  },
  {
   "cell_type": "code",
   "execution_count": 1,
   "id": "6ec5e89d",
   "metadata": {},
   "outputs": [
    {
     "name": "stdout",
     "output_type": "stream",
     "text": [
      "Hello World\n"
     ]
    }
   ],
   "source": [
    "# print hello world\n",
    "print (\"Hello World\")"
   ]
  },
  {
   "cell_type": "code",
   "execution_count": 2,
   "id": "2c30f20d",
   "metadata": {},
   "outputs": [
    {
     "name": "stdout",
     "output_type": "stream",
     "text": [
      "14\n"
     ]
    }
   ],
   "source": [
    "a = 2 + 5\n",
    "b = 3 + 4\n",
    "c = a + b\n",
    "print(c)"
   ]
  },
  {
   "cell_type": "markdown",
   "id": "4acaa4f2",
   "metadata": {},
   "source": [
    "#### Simple syntax\n",
    "#### comments with \\#\n",
    "#### print function also adds a newline after printing the message\n",
    "#### In Python 2, “print” not function but keyword (therefore can be used without parentheses)\n",
    "#### In Python 3, it is a function, parentheses must"
   ]
  },
  {
   "cell_type": "code",
   "execution_count": 3,
   "id": "1d01f3f4",
   "metadata": {},
   "outputs": [
    {
     "name": "stdout",
     "output_type": "stream",
     "text": [
      "Data Science\n"
     ]
    }
   ],
   "source": [
    "# Print without newline\n",
    "\n",
    "print(\"Data\", end =\" \")\n",
    "print(\"Science\")"
   ]
  },
  {
   "cell_type": "markdown",
   "id": "a7164a48",
   "metadata": {},
   "source": [
    "## Keywords"
   ]
  },
  {
   "cell_type": "markdown",
   "id": "da00fdc7",
   "metadata": {},
   "source": [
    "### True, False"
   ]
  },
  {
   "cell_type": "code",
   "execution_count": 4,
   "id": "0e55a833",
   "metadata": {},
   "outputs": [
    {
     "name": "stdout",
     "output_type": "stream",
     "text": [
      "True\n",
      "True\n"
     ]
    }
   ],
   "source": [
    "print (False == 0)\n",
    "print (True == 1)"
   ]
  },
  {
   "cell_type": "markdown",
   "id": "cd1b4215",
   "metadata": {},
   "source": [
    "#### False : keyword, boolean false, 0\n",
    "#### True : keyword, boolean true, 1"
   ]
  },
  {
   "cell_type": "markdown",
   "id": "099134af",
   "metadata": {},
   "source": [
    "### None"
   ]
  },
  {
   "cell_type": "code",
   "execution_count": 5,
   "id": "ddbe8192",
   "metadata": {},
   "outputs": [
    {
     "name": "stdout",
     "output_type": "stream",
     "text": [
      "False\n",
      "True\n",
      "None\n",
      "2\n"
     ]
    }
   ],
   "source": [
    "print (None == 0)\n",
    "\n",
    "x = None\n",
    "y = None\n",
    "print (x == y)\n",
    "\n",
    "a = None\n",
    "print(a)\n",
    "a=2\n",
    "print(a)"
   ]
  },
  {
   "cell_type": "markdown",
   "id": "63872b57",
   "metadata": {},
   "source": [
    "#### None: a null value or a void"
   ]
  },
  {
   "cell_type": "markdown",
   "id": "ad196487",
   "metadata": {},
   "source": [
    "### assert"
   ]
  },
  {
   "cell_type": "code",
   "execution_count": 6,
   "id": "a6813680",
   "metadata": {},
   "outputs": [],
   "source": [
    "# assert 5 < 3, \"3 is smaller than 5\""
   ]
  },
  {
   "cell_type": "markdown",
   "id": "d9cd9588",
   "metadata": {},
   "source": [
    "### More Keywords:\n",
    "#### and, or, not\n",
    "#### if, else, elif\n",
    "#### for, while\n",
    "#### break, continue, pass\n",
    "#### class, def, return, yield, with\n",
    "#### import, from, as\n",
    "#### try, except, raise, finally\n",
    "#### in, is\n",
    "#### global, non-local\n",
    "#### lambda"
   ]
  },
  {
   "cell_type": "markdown",
   "id": "98f914dd",
   "metadata": {},
   "source": [
    "## Variables"
   ]
  },
  {
   "cell_type": "code",
   "execution_count": 7,
   "id": "53f11f66",
   "metadata": {},
   "outputs": [
    {
     "name": "stdout",
     "output_type": "stream",
     "text": [
      "3\n",
      "4\n"
     ]
    }
   ],
   "source": [
    "a = 3\n",
    "A = 4\n",
    "print(a)\n",
    "print(A)"
   ]
  },
  {
   "cell_type": "markdown",
   "id": "5b77ff93",
   "metadata": {},
   "source": [
    "#### Variables in python are case sensitive"
   ]
  },
  {
   "cell_type": "markdown",
   "id": "686f2dca",
   "metadata": {},
   "source": [
    "### Namespaces and Scope"
   ]
  },
  {
   "cell_type": "code",
   "execution_count": 8,
   "id": "2f8937f0",
   "metadata": {},
   "outputs": [
    {
     "name": "stdout",
     "output_type": "stream",
     "text": [
      "1\n",
      "1\n",
      "2\n",
      "1\n",
      "2\n",
      "3\n"
     ]
    }
   ],
   "source": [
    "var1 = 1 # global namespace\n",
    "print(var1)\n",
    "#print(var2)\n",
    "#print(var3)\n",
    "\n",
    "def function1():\n",
    "    var2 = 2 # local namespace\n",
    "    print(var1)\n",
    "    print(var2)\n",
    "    #print(var3)\n",
    "    \n",
    "    def function2():\n",
    "        var3 = 3 # nested local namespace\n",
    "        print(var1)\n",
    "        print(var2)\n",
    "        print(var3)\n",
    "    function2()\n",
    "function1()"
   ]
  },
  {
   "cell_type": "markdown",
   "id": "5c180442",
   "metadata": {},
   "source": [
    "### global and nonlocal"
   ]
  },
  {
   "cell_type": "code",
   "execution_count": 9,
   "id": "4326695b",
   "metadata": {},
   "outputs": [
    {
     "name": "stdout",
     "output_type": "stream",
     "text": [
      "This variable is in global scope\n",
      "This vaiable is in local scope\n",
      "This vaiable is in local scope\n"
     ]
    }
   ],
   "source": [
    "def function():\n",
    "    global var\n",
    "    print(var)\n",
    "    var = \"This vaiable is in local scope\"\n",
    "    print(var)\n",
    " \n",
    "var = \"This variable is in global scope\"\n",
    "function()\n",
    "print(var)"
   ]
  },
  {
   "cell_type": "code",
   "execution_count": 10,
   "id": "5da692ea",
   "metadata": {},
   "outputs": [
    {
     "name": "stdout",
     "output_type": "stream",
     "text": [
      "10\n"
     ]
    }
   ],
   "source": [
    "def outerFunction():\n",
    "    var = 5\n",
    "    def innerFunction():\n",
    "        nonlocal var\n",
    "        var = 10\n",
    "    innerFunction()\n",
    "    print (var)\n",
    " \n",
    "outerFunction()"
   ]
  },
  {
   "cell_type": "markdown",
   "id": "a72ac1f2",
   "metadata": {},
   "source": [
    "## Input, Output"
   ]
  },
  {
   "cell_type": "code",
   "execution_count": 11,
   "id": "e395b88c",
   "metadata": {},
   "outputs": [
    {
     "name": "stdout",
     "output_type": "stream",
     "text": [
      "Please enter your name: Souro\n",
      "<class 'str'>\n",
      "Souro\n",
      "Please enter your ID: 5\n",
      "<class 'str'>\n",
      "5\n",
      "<class 'int'>\n",
      "5\n",
      "Please enter your name and ID: Souro 5\n",
      "<class 'list'>\n",
      "Souro\n",
      "5\n"
     ]
    }
   ],
   "source": [
    "input1 = input(\"Please enter your name: \")\n",
    "# val = raw_input(\"Enter your name: \") # Python 2.x\n",
    "print(type(input1))\n",
    "print(input1)\n",
    "\n",
    "input2 = input(\"Please enter your ID: \")\n",
    "print(type(input2))\n",
    "print(input2)\n",
    "input2 = int(input2)\n",
    "print(type(input2))\n",
    "print(input2)\n",
    "\n",
    "multiple_inputs = input(\"Please enter your name and ID: \").split()\n",
    "print(type(multiple_inputs))\n",
    "print(multiple_inputs[0])\n",
    "print(multiple_inputs[1])\n",
    "# for ip in multiple_inputs:\n",
    "#     print(ip)"
   ]
  },
  {
   "cell_type": "markdown",
   "id": "0a4f94fb",
   "metadata": {},
   "source": [
    "#### Whatever will be given, input function will convert it into a string\n",
    "#### For other type, explicit typecasting required\n",
    "#### For multiple inputs, using split() method"
   ]
  },
  {
   "cell_type": "markdown",
   "id": "03c5bff6",
   "metadata": {},
   "source": [
    "## Data Types"
   ]
  },
  {
   "cell_type": "markdown",
   "id": "373f230f",
   "metadata": {},
   "source": [
    "### int, float"
   ]
  },
  {
   "cell_type": "code",
   "execution_count": 12,
   "id": "3961179b",
   "metadata": {},
   "outputs": [
    {
     "name": "stdout",
     "output_type": "stream",
     "text": [
      "<class 'int'>\n",
      "<class 'int'>\n",
      "<class 'float'>\n"
     ]
    }
   ],
   "source": [
    "#int\n",
    "x = 1\n",
    "print(type(x))\n",
    "\n",
    "# n Python, value of an integer not restricted by number of bits, can expand to the limit of the available memory\n",
    "x = 10000000000000000000000000000000000000000000\n",
    "print(type(x))\n",
    "\n",
    "x=1.1\n",
    "print(type(x))"
   ]
  },
  {
   "cell_type": "markdown",
   "id": "9ec0e031",
   "metadata": {},
   "source": [
    "#### In Python 2.x there are two separate types “int” (which is 32 bit) and “long int” that is same as “int” of Python 3.x"
   ]
  },
  {
   "cell_type": "markdown",
   "id": "76cb098b",
   "metadata": {},
   "source": [
    "### string"
   ]
  },
  {
   "cell_type": "code",
   "execution_count": 13,
   "id": "524bec87",
   "metadata": {},
   "outputs": [
    {
     "name": "stdout",
     "output_type": "stream",
     "text": [
      "This is a String\n"
     ]
    }
   ],
   "source": [
    "# creating a string\n",
    "string = 'This is a String'\n",
    "print(string)"
   ]
  },
  {
   "cell_type": "code",
   "execution_count": 14,
   "id": "2e15c1be",
   "metadata": {},
   "outputs": [
    {
     "name": "stdout",
     "output_type": "stream",
     "text": [
      "16\n"
     ]
    }
   ],
   "source": [
    "# length\n",
    "print(len(string))"
   ]
  },
  {
   "cell_type": "code",
   "execution_count": 15,
   "id": "681c1885",
   "metadata": {},
   "outputs": [
    {
     "name": "stdout",
     "output_type": "stream",
     "text": [
      "T\n",
      "g\n"
     ]
    }
   ],
   "source": [
    "# accessing charecter\n",
    "print(string[0])\n",
    "# last charecter\n",
    "print(string[-1])"
   ]
  },
  {
   "cell_type": "code",
   "execution_count": 16,
   "id": "a1dbef89",
   "metadata": {},
   "outputs": [
    {
     "name": "stdout",
     "output_type": "stream",
     "text": [
      "hi\n"
     ]
    }
   ],
   "source": [
    "# slicing\n",
    "print (string[1:3])"
   ]
  },
  {
   "cell_type": "code",
   "execution_count": 17,
   "id": "28206704",
   "metadata": {},
   "outputs": [
    {
     "ename": "TypeError",
     "evalue": "'str' object does not support item assignment",
     "output_type": "error",
     "traceback": [
      "\u001b[0;31m---------------------------------------------------------------------------\u001b[0m",
      "\u001b[0;31mTypeError\u001b[0m                                 Traceback (most recent call last)",
      "\u001b[0;32m<ipython-input-17-c27a5aca5d32>\u001b[0m in \u001b[0;36m<module>\u001b[0;34m\u001b[0m\n\u001b[1;32m      1\u001b[0m \u001b[0;31m# updating charecter\u001b[0m\u001b[0;34m\u001b[0m\u001b[0;34m\u001b[0m\u001b[0;34m\u001b[0m\u001b[0m\n\u001b[0;32m----> 2\u001b[0;31m \u001b[0mstring\u001b[0m\u001b[0;34m[\u001b[0m\u001b[0;36m2\u001b[0m\u001b[0;34m]\u001b[0m\u001b[0;34m=\u001b[0m\u001b[0;34m'a'\u001b[0m\u001b[0;34m\u001b[0m\u001b[0;34m\u001b[0m\u001b[0m\n\u001b[0m\u001b[1;32m      3\u001b[0m \u001b[0mstring\u001b[0m\u001b[0;34m[\u001b[0m\u001b[0;36m3\u001b[0m\u001b[0;34m]\u001b[0m\u001b[0;34m=\u001b[0m\u001b[0;34m't'\u001b[0m\u001b[0;34m\u001b[0m\u001b[0;34m\u001b[0m\u001b[0m\n\u001b[1;32m      4\u001b[0m \u001b[0mprint\u001b[0m\u001b[0;34m(\u001b[0m\u001b[0mstring\u001b[0m\u001b[0;34m)\u001b[0m\u001b[0;34m\u001b[0m\u001b[0;34m\u001b[0m\u001b[0m\n",
      "\u001b[0;31mTypeError\u001b[0m: 'str' object does not support item assignment"
     ]
    }
   ],
   "source": [
    "# updating charecter\n",
    "string[2]='a'\n",
    "string[3]='t'\n",
    "print(string)"
   ]
  },
  {
   "cell_type": "code",
   "execution_count": 18,
   "id": "d5547385",
   "metadata": {},
   "outputs": [
    {
     "name": "stdout",
     "output_type": "stream",
     "text": [
      "Updated String\n"
     ]
    }
   ],
   "source": [
    "# updating whole string\n",
    "string = 'Updated String'\n",
    "print(string)"
   ]
  },
  {
   "cell_type": "code",
   "execution_count": 19,
   "id": "f65a0a75",
   "metadata": {},
   "outputs": [
    {
     "ename": "NameError",
     "evalue": "name 'string' is not defined",
     "output_type": "error",
     "traceback": [
      "\u001b[0;31m---------------------------------------------------------------------------\u001b[0m",
      "\u001b[0;31mNameError\u001b[0m                                 Traceback (most recent call last)",
      "\u001b[0;32m<ipython-input-19-e4e109b675b4>\u001b[0m in \u001b[0;36m<module>\u001b[0;34m\u001b[0m\n\u001b[1;32m      1\u001b[0m \u001b[0;31m# deleting the string\u001b[0m\u001b[0;34m\u001b[0m\u001b[0;34m\u001b[0m\u001b[0;34m\u001b[0m\u001b[0m\n\u001b[1;32m      2\u001b[0m \u001b[0;32mdel\u001b[0m \u001b[0mstring\u001b[0m\u001b[0;34m\u001b[0m\u001b[0;34m\u001b[0m\u001b[0m\n\u001b[0;32m----> 3\u001b[0;31m \u001b[0mprint\u001b[0m\u001b[0;34m(\u001b[0m\u001b[0mstring\u001b[0m\u001b[0;34m)\u001b[0m\u001b[0;34m\u001b[0m\u001b[0;34m\u001b[0m\u001b[0m\n\u001b[0m",
      "\u001b[0;31mNameError\u001b[0m: name 'string' is not defined"
     ]
    }
   ],
   "source": [
    "# deleting the string\n",
    "del string\n",
    "print(string)"
   ]
  },
  {
   "cell_type": "code",
   "execution_count": 20,
   "id": "30081f81",
   "metadata": {},
   "outputs": [
    {
     "name": "stdout",
     "output_type": "stream",
     "text": [
      "Normal part, \"Escaped Part\"\n",
      "Normal part, 'Escaped Part'\n"
     ]
    }
   ],
   "source": [
    "# escape\n",
    "string = 'Normal part, \"Escaped Part\"'\n",
    "print(string)\n",
    "string = 'Normal part, \\'Escaped Part\\''\n",
    "print(string)"
   ]
  },
  {
   "cell_type": "code",
   "execution_count": 21,
   "id": "1cd488f3",
   "metadata": {},
   "outputs": [
    {
     "name": "stdout",
     "output_type": "stream",
     "text": [
      "Data Science\n",
      "Science Data\n"
     ]
    }
   ],
   "source": [
    "# formatting\n",
    "string = \"{} {}\".format('Data', 'Science')\n",
    "print(string)\n",
    "string = \"{1} {0}\".format('Data', 'Science')\n",
    "print(string)"
   ]
  },
  {
   "cell_type": "code",
   "execution_count": 22,
   "id": "7c212487",
   "metadata": {},
   "outputs": [
    {
     "name": "stdout",
     "output_type": "stream",
     "text": [
      "|Data  | Science | Course|\n"
     ]
    }
   ],
   "source": [
    "# alingment\n",
    "string = \"|{:<5} | {:^5} | {:>5}|\".format('Data', 'Science', 'Course')\n",
    "print(string)"
   ]
  },
  {
   "cell_type": "markdown",
   "id": "5ffda22c",
   "metadata": {},
   "source": [
    "### List"
   ]
  },
  {
   "cell_type": "code",
   "execution_count": 23,
   "id": "176dff25",
   "metadata": {},
   "outputs": [
    {
     "name": "stdout",
     "output_type": "stream",
     "text": [
      "[]\n",
      "[1, 2, 3]\n"
     ]
    }
   ],
   "source": [
    "# creating a list\n",
    "list = []\n",
    "print(list)\n",
    "\n",
    "list = [1,2,3]\n",
    "print(list)"
   ]
  },
  {
   "cell_type": "code",
   "execution_count": 24,
   "id": "fd00b70b",
   "metadata": {},
   "outputs": [
    {
     "name": "stdout",
     "output_type": "stream",
     "text": [
      "3\n",
      "1\n",
      "3\n"
     ]
    }
   ],
   "source": [
    "print(len(list))\n",
    "print(list[0])\n",
    "print(list[-1])"
   ]
  },
  {
   "cell_type": "code",
   "execution_count": 25,
   "id": "efc1b3c3",
   "metadata": {},
   "outputs": [
    {
     "name": "stdout",
     "output_type": "stream",
     "text": [
      "[1, 2, 3, 4]\n",
      "[1, 2, 3, 4, 5]\n",
      "[1, 2, 3, 4, 5, 6, 7, 8]\n"
     ]
    }
   ],
   "source": [
    "list.append(4)\n",
    "print(list)\n",
    "\n",
    "list.insert(4,5)\n",
    "print(list)\n",
    "\n",
    "list.extend([6,7,8])\n",
    "print(list)"
   ]
  },
  {
   "cell_type": "code",
   "execution_count": 26,
   "id": "a58c1f89",
   "metadata": {},
   "outputs": [
    {
     "name": "stdout",
     "output_type": "stream",
     "text": [
      "[1, 2, 3, 4, 5]\n",
      "[3, 4, 5]\n",
      "[1, 2, 3]\n",
      "[4, 5, 6]\n"
     ]
    }
   ],
   "source": [
    "print(list[:5])\n",
    "print(list[2:5])\n",
    "print(list[:-5])\n",
    "print(list[-5:-2])"
   ]
  },
  {
   "cell_type": "code",
   "execution_count": 27,
   "id": "71fbd8a1",
   "metadata": {},
   "outputs": [
    {
     "name": "stdout",
     "output_type": "stream",
     "text": [
      "[1, 2, 3, 5, 6, 7, 8]\n",
      "[1, 2, 3, 5, 6, 7]\n",
      "[2, 3, 5, 6, 7]\n"
     ]
    }
   ],
   "source": [
    "list.remove(4)\n",
    "print(list)\n",
    "\n",
    "list.pop()\n",
    "print(list)\n",
    "\n",
    "list.pop(0)\n",
    "print(list)"
   ]
  },
  {
   "cell_type": "code",
   "execution_count": 28,
   "id": "95505b51",
   "metadata": {},
   "outputs": [
    {
     "name": "stdout",
     "output_type": "stream",
     "text": [
      "[1, 1.1, 'Souro', ['nested', 'list']]\n"
     ]
    }
   ],
   "source": [
    "list = [1, 1.1, 'Souro', ['nested', 'list']]\n",
    "print(list)"
   ]
  },
  {
   "cell_type": "markdown",
   "id": "b640259b",
   "metadata": {},
   "source": [
    "## Operators"
   ]
  },
  {
   "cell_type": "markdown",
   "id": "83e394bb",
   "metadata": {},
   "source": [
    "### Arithmetic"
   ]
  },
  {
   "cell_type": "code",
   "execution_count": 29,
   "id": "e61d317f",
   "metadata": {},
   "outputs": [
    {
     "name": "stdout",
     "output_type": "stream",
     "text": [
      "8\n",
      "2\n",
      "15\n",
      "1.6666666666666667\n",
      "1\n",
      "2\n",
      "125\n"
     ]
    }
   ],
   "source": [
    "a = 5\n",
    "b = 3\n",
    "add = a + b\n",
    "print(add) \n",
    "sub = a - b\n",
    "print(sub)\n",
    "mul = a * b\n",
    "print(mul)\n",
    "div1 = a / b\n",
    "print(div1)\n",
    "div2 = a // b\n",
    "print(div2)\n",
    "mod = a % b\n",
    "print(mod)\n",
    "p = a ** b\n",
    "print(p)"
   ]
  },
  {
   "cell_type": "markdown",
   "id": "492bd8f9",
   "metadata": {},
   "source": [
    "### Relational"
   ]
  },
  {
   "cell_type": "code",
   "execution_count": 30,
   "id": "cdfda539",
   "metadata": {},
   "outputs": [
    {
     "name": "stdout",
     "output_type": "stream",
     "text": [
      "True\n",
      "False\n",
      "False\n",
      "True\n",
      "True\n",
      "False\n"
     ]
    }
   ],
   "source": [
    "a = 5\n",
    "b = 3  \n",
    "print(a > b)\n",
    "print(a < b)\n",
    "print(a == b)\n",
    "print(a != b)\n",
    "print(a >= b)\n",
    "print(a <= b)"
   ]
  },
  {
   "cell_type": "markdown",
   "id": "a9da74be",
   "metadata": {},
   "source": [
    "### Bitwise"
   ]
  },
  {
   "cell_type": "code",
   "execution_count": 31,
   "id": "0c437b0f",
   "metadata": {},
   "outputs": [
    {
     "name": "stdout",
     "output_type": "stream",
     "text": [
      "1\n",
      "7\n",
      "-6\n",
      "6\n",
      "1\n",
      "20\n"
     ]
    }
   ],
   "source": [
    "a = 5\n",
    "b = 3  \n",
    "print(a & b)\n",
    "print(a | b)\n",
    "print(~a)\n",
    "print(a ^ b) \n",
    "print(a >> 2)\n",
    "print(a << 2)"
   ]
  },
  {
   "cell_type": "markdown",
   "id": "014450ca",
   "metadata": {},
   "source": [
    "### Logical"
   ]
  },
  {
   "cell_type": "code",
   "execution_count": 32,
   "id": "92814c5b",
   "metadata": {},
   "outputs": [
    {
     "name": "stdout",
     "output_type": "stream",
     "text": [
      "False\n",
      "True\n",
      "False\n"
     ]
    }
   ],
   "source": [
    "print (False and True)\n",
    "print (True or False)\n",
    "print (not True)"
   ]
  },
  {
   "cell_type": "markdown",
   "id": "9594f6ef",
   "metadata": {},
   "source": [
    "### Identity"
   ]
  },
  {
   "cell_type": "code",
   "execution_count": 33,
   "id": "8bc42cdf",
   "metadata": {},
   "outputs": [
    {
     "name": "stdout",
     "output_type": "stream",
     "text": [
      "False\n",
      "True\n",
      "False\n"
     ]
    }
   ],
   "source": [
    "a1 = 1\n",
    "b1 = 1\n",
    "a2 = 'DataScience'\n",
    "b2 = 'DataScience'\n",
    "a3 = [1,2,3]\n",
    "b3 = [1,2,3]\n",
    "print(a1 is not b1)\n",
    "print(a2 is b2)\n",
    "print(a3 is b3)"
   ]
  },
  {
   "cell_type": "markdown",
   "id": "771a6721",
   "metadata": {},
   "source": [
    "### Membership"
   ]
  },
  {
   "cell_type": "code",
   "execution_count": 34,
   "id": "c5cff568",
   "metadata": {},
   "outputs": [
    {
     "name": "stdout",
     "output_type": "stream",
     "text": [
      "True\n",
      "True\n"
     ]
    }
   ],
   "source": [
    "x = 'Data Science'\n",
    "  \n",
    "print('Sc' in x)\n",
    "  \n",
    "print('So' not in x)"
   ]
  },
  {
   "cell_type": "markdown",
   "id": "4dc3920e",
   "metadata": {},
   "source": [
    "### Precedence"
   ]
  },
  {
   "cell_type": "code",
   "execution_count": 35,
   "id": "1d53b908",
   "metadata": {},
   "outputs": [
    {
     "name": "stdout",
     "output_type": "stream",
     "text": [
      "7\n",
      "Correct\n"
     ]
    }
   ],
   "source": [
    "expr = 1 + 2 * 3\n",
    "print(expr)\n",
    "\n",
    "name = \"Souro\"\n",
    "id = 0\n",
    "    \n",
    "if name == \"Souro\" or name == \"Souro1\" and id >= 0 :  \n",
    "    print(\"Correct\") \n",
    "else : \n",
    "    print(\"Wrong\")"
   ]
  },
  {
   "cell_type": "markdown",
   "id": "afb654c0",
   "metadata": {},
   "source": [
    "###  Associativity"
   ]
  },
  {
   "cell_type": "code",
   "execution_count": 36,
   "id": "d22267bc",
   "metadata": {},
   "outputs": [
    {
     "name": "stdout",
     "output_type": "stream",
     "text": [
      "1.5\n",
      "4\n",
      "0\n",
      "1\n"
     ]
    }
   ],
   "source": [
    "print(1 / 2 * 3)\n",
    "print(3 - 1 + 2) \n",
    "print(3 - (1 + 2)) \n",
    "print(1 ** 2 ** 3)"
   ]
  }
 ],
 "metadata": {
  "kernelspec": {
   "display_name": "Python 3",
   "language": "python",
   "name": "python3"
  },
  "language_info": {
   "codemirror_mode": {
    "name": "ipython",
    "version": 3
   },
   "file_extension": ".py",
   "mimetype": "text/x-python",
   "name": "python",
   "nbconvert_exporter": "python",
   "pygments_lexer": "ipython3",
   "version": "3.6.9"
  }
 },
 "nbformat": 4,
 "nbformat_minor": 5
}
