{
 "cells": [
  {
   "cell_type": "markdown",
   "id": "603b0e3d",
   "metadata": {},
   "source": [
    "## Hello World Traditions"
   ]
  },
  {
   "cell_type": "code",
   "execution_count": 1,
   "id": "6ec5e89d",
   "metadata": {},
   "outputs": [
    {
     "name": "stdout",
     "output_type": "stream",
     "text": [
      "Hello World\n"
     ]
    }
   ],
   "source": [
    "# print hello world\n",
    "print (\"Hello World\")"
   ]
  },
  {
   "cell_type": "code",
   "execution_count": 2,
   "id": "2c30f20d",
   "metadata": {},
   "outputs": [
    {
     "name": "stdout",
     "output_type": "stream",
     "text": [
      "14\n"
     ]
    }
   ],
   "source": [
    "a = 2 + 5\n",
    "b = 3 + 4\n",
    "c = a + b\n",
    "print(c)"
   ]
  },
  {
   "cell_type": "markdown",
   "id": "4acaa4f2",
   "metadata": {},
   "source": [
    "#### Simple syntax\n",
    "#### comments with \\#\n",
    "#### print function also adds a newline after printing the message\n",
    "#### In Python 2, “print” not function but keyword (therefore can be used without parentheses)\n",
    "#### In Python 3, it is a function, parentheses must"
   ]
  },
  {
   "cell_type": "code",
   "execution_count": 3,
   "id": "1d01f3f4",
   "metadata": {},
   "outputs": [
    {
     "name": "stdout",
     "output_type": "stream",
     "text": [
      "Data Science\n"
     ]
    }
   ],
   "source": [
    "# Print without newline\n",
    "\n",
    "print(\"Data\", end =\" \")\n",
    "print(\"Science\")"
   ]
  },
  {
   "cell_type": "markdown",
   "id": "a7164a48",
   "metadata": {},
   "source": [
    "## Keywords"
   ]
  },
  {
   "cell_type": "markdown",
   "id": "da00fdc7",
   "metadata": {},
   "source": [
    "### True, False"
   ]
  },
  {
   "cell_type": "code",
   "execution_count": 4,
   "id": "0e55a833",
   "metadata": {},
   "outputs": [
    {
     "name": "stdout",
     "output_type": "stream",
     "text": [
      "True\n",
      "True\n"
     ]
    }
   ],
   "source": [
    "print (False == 0)\n",
    "print (True == 1)"
   ]
  },
  {
   "cell_type": "markdown",
   "id": "cd1b4215",
   "metadata": {},
   "source": [
    "#### False : keyword, boolean false, 0\n",
    "#### True : keyword, boolean true, 1"
   ]
  },
  {
   "cell_type": "markdown",
   "id": "099134af",
   "metadata": {},
   "source": [
    "### None"
   ]
  },
  {
   "cell_type": "code",
   "execution_count": 5,
   "id": "ddbe8192",
   "metadata": {},
   "outputs": [
    {
     "name": "stdout",
     "output_type": "stream",
     "text": [
      "False\n",
      "True\n",
      "None\n",
      "2\n"
     ]
    }
   ],
   "source": [
    "print (None == 0)\n",
    "\n",
    "x = None\n",
    "y = None\n",
    "print (x == y)\n",
    "\n",
    "a = None\n",
    "print(a)\n",
    "a=2\n",
    "print(a)"
   ]
  },
  {
   "cell_type": "markdown",
   "id": "63872b57",
   "metadata": {},
   "source": [
    "#### None: a null value or a void"
   ]
  },
  {
   "cell_type": "markdown",
   "id": "ad196487",
   "metadata": {},
   "source": [
    "### assert"
   ]
  },
  {
   "cell_type": "code",
   "execution_count": 6,
   "id": "a6813680",
   "metadata": {},
   "outputs": [],
   "source": [
    "# assert 5 < 3, \"3 is smaller than 5\""
   ]
  },
  {
   "cell_type": "markdown",
   "id": "d9cd9588",
   "metadata": {},
   "source": [
    "### More Keywords:\n",
    "#### and, or, not\n",
    "#### if, else, elif\n",
    "#### for, while\n",
    "#### break, continue, pass\n",
    "#### class, def, return, yield, with\n",
    "#### import, from, as\n",
    "#### try, except, raise, finally\n",
    "#### in, is\n",
    "#### global, non-local\n",
    "#### lambda"
   ]
  },
  {
   "cell_type": "markdown",
   "id": "98f914dd",
   "metadata": {},
   "source": [
    "## Variables"
   ]
  },
  {
   "cell_type": "code",
   "execution_count": 7,
   "id": "53f11f66",
   "metadata": {},
   "outputs": [
    {
     "name": "stdout",
     "output_type": "stream",
     "text": [
      "3\n",
      "4\n"
     ]
    }
   ],
   "source": [
    "a = 3\n",
    "A = 4\n",
    "print(a)\n",
    "print(A)"
   ]
  },
  {
   "cell_type": "markdown",
   "id": "5b77ff93",
   "metadata": {},
   "source": [
    "#### Variables in python are case sensitive"
   ]
  },
  {
   "cell_type": "markdown",
   "id": "686f2dca",
   "metadata": {},
   "source": [
    "### Namespaces and Scope"
   ]
  },
  {
   "cell_type": "code",
   "execution_count": 8,
   "id": "2f8937f0",
   "metadata": {},
   "outputs": [
    {
     "name": "stdout",
     "output_type": "stream",
     "text": [
      "1\n",
      "1\n",
      "2\n",
      "1\n",
      "2\n",
      "3\n"
     ]
    }
   ],
   "source": [
    "var1 = 1 # global namespace\n",
    "print(var1)\n",
    "#print(var2)\n",
    "#print(var3)\n",
    "\n",
    "def function1():\n",
    "    var2 = 2 # local namespace\n",
    "    print(var1)\n",
    "    print(var2)\n",
    "    #print(var3)\n",
    "    \n",
    "    def function2():\n",
    "        var3 = 3 # nested local namespace\n",
    "        print(var1)\n",
    "        print(var2)\n",
    "        print(var3)\n",
    "    function2()\n",
    "function1()"
   ]
  },
  {
   "cell_type": "markdown",
   "id": "5c180442",
   "metadata": {},
   "source": [
    "### global and nonlocal"
   ]
  },
  {
   "cell_type": "code",
   "execution_count": 9,
   "id": "4326695b",
   "metadata": {},
   "outputs": [
    {
     "name": "stdout",
     "output_type": "stream",
     "text": [
      "This variable is in global scope\n",
      "This vaiable is in local scope\n",
      "This vaiable is in local scope\n"
     ]
    }
   ],
   "source": [
    "def function():\n",
    "    global var\n",
    "    print(var)\n",
    "    var = \"This vaiable is in local scope\"\n",
    "    print(var)\n",
    " \n",
    "var = \"This variable is in global scope\"\n",
    "function()\n",
    "print(var)"
   ]
  },
  {
   "cell_type": "code",
   "execution_count": 10,
   "id": "5da692ea",
   "metadata": {},
   "outputs": [
    {
     "name": "stdout",
     "output_type": "stream",
     "text": [
      "10\n"
     ]
    }
   ],
   "source": [
    "def outerFunction():\n",
    "    var = 5\n",
    "    def innerFunction():\n",
    "        nonlocal var\n",
    "        var = 10\n",
    "    innerFunction()\n",
    "    print (var)\n",
    " \n",
    "outerFunction()"
   ]
  },
  {
   "cell_type": "markdown",
   "id": "a72ac1f2",
   "metadata": {},
   "source": [
    "## Input, Output"
   ]
  },
  {
   "cell_type": "code",
   "execution_count": 11,
   "id": "e395b88c",
   "metadata": {},
   "outputs": [
    {
     "name": "stdout",
     "output_type": "stream",
     "text": [
      "Please enter your name: Souro\n",
      "<class 'str'>\n",
      "Souro\n",
      "Please enter your ID: 5\n",
      "<class 'str'>\n",
      "5\n",
      "<class 'int'>\n",
      "5\n",
      "Please enter your name and ID: Souro 5\n",
      "<class 'list'>\n",
      "Souro\n",
      "5\n"
     ]
    }
   ],
   "source": [
    "input1 = input(\"Please enter your name: \")\n",
    "# val = raw_input(\"Enter your name: \") # Python 2.x\n",
    "print(type(input1))\n",
    "print(input1)\n",
    "\n",
    "input2 = input(\"Please enter your ID: \")\n",
    "print(type(input2))\n",
    "print(input2)\n",
    "input2 = int(input2)\n",
    "print(type(input2))\n",
    "print(input2)\n",
    "\n",
    "multiple_inputs = input(\"Please enter your name and ID: \").split()\n",
    "print(type(multiple_inputs))\n",
    "print(multiple_inputs[0])\n",
    "print(multiple_inputs[1])\n",
    "# for ip in multiple_inputs:\n",
    "#     print(ip)"
   ]
  },
  {
   "cell_type": "markdown",
   "id": "0a4f94fb",
   "metadata": {},
   "source": [
    "#### Whatever will be given, input function will convert it into a string\n",
    "#### For other type, explicit typecasting required\n",
    "#### For multiple inputs, using split() method"
   ]
  },
  {
   "cell_type": "markdown",
   "id": "03c5bff6",
   "metadata": {},
   "source": [
    "## Data Types"
   ]
  },
  {
   "cell_type": "markdown",
   "id": "373f230f",
   "metadata": {},
   "source": [
    "### int, float"
   ]
  },
  {
   "cell_type": "code",
   "execution_count": 12,
   "id": "3961179b",
   "metadata": {},
   "outputs": [
    {
     "name": "stdout",
     "output_type": "stream",
     "text": [
      "<class 'int'>\n",
      "<class 'int'>\n",
      "<class 'float'>\n"
     ]
    }
   ],
   "source": [
    "#int\n",
    "x = 1\n",
    "print(type(x))\n",
    "\n",
    "# n Python, value of an integer not restricted by number of bits, can expand to the limit of the available memory\n",
    "x = 10000000000000000000000000000000000000000000\n",
    "print(type(x))\n",
    "\n",
    "x=1.1\n",
    "print(type(x))"
   ]
  },
  {
   "cell_type": "markdown",
   "id": "9ec0e031",
   "metadata": {},
   "source": [
    "#### In Python 2.x there are two separate types “int” (which is 32 bit) and “long int” that is same as “int” of Python 3.x"
   ]
  },
  {
   "cell_type": "markdown",
   "id": "76cb098b",
   "metadata": {},
   "source": [
    "### string"
   ]
  },
  {
   "cell_type": "code",
   "execution_count": 13,
   "id": "524bec87",
   "metadata": {},
   "outputs": [
    {
     "name": "stdout",
     "output_type": "stream",
     "text": [
      "This is a String\n"
     ]
    }
   ],
   "source": [
    "# creating a string\n",
    "string = 'This is a String'\n",
    "print(string)"
   ]
  },
  {
   "cell_type": "code",
   "execution_count": 14,
   "id": "2e15c1be",
   "metadata": {},
   "outputs": [
    {
     "name": "stdout",
     "output_type": "stream",
     "text": [
      "16\n"
     ]
    }
   ],
   "source": [
    "# length\n",
    "print(len(string))"
   ]
  },
  {
   "cell_type": "code",
   "execution_count": 15,
   "id": "681c1885",
   "metadata": {},
   "outputs": [
    {
     "name": "stdout",
     "output_type": "stream",
     "text": [
      "T\n",
      "g\n"
     ]
    }
   ],
   "source": [
    "# accessing charecter\n",
    "print(string[0])\n",
    "# last charecter\n",
    "print(string[-1])"
   ]
  },
  {
   "cell_type": "code",
   "execution_count": 16,
   "id": "a1dbef89",
   "metadata": {},
   "outputs": [
    {
     "name": "stdout",
     "output_type": "stream",
     "text": [
      "hi\n"
     ]
    }
   ],
   "source": [
    "# slicing\n",
    "print (string[1:3])"
   ]
  },
  {
   "cell_type": "code",
   "execution_count": 17,
   "id": "28206704",
   "metadata": {},
   "outputs": [
    {
     "ename": "TypeError",
     "evalue": "'str' object does not support item assignment",
     "output_type": "error",
     "traceback": [
      "\u001b[0;31m---------------------------------------------------------------------------\u001b[0m",
      "\u001b[0;31mTypeError\u001b[0m                                 Traceback (most recent call last)",
      "\u001b[0;32m<ipython-input-17-c27a5aca5d32>\u001b[0m in \u001b[0;36m<module>\u001b[0;34m\u001b[0m\n\u001b[1;32m      1\u001b[0m \u001b[0;31m# updating charecter\u001b[0m\u001b[0;34m\u001b[0m\u001b[0;34m\u001b[0m\u001b[0;34m\u001b[0m\u001b[0m\n\u001b[0;32m----> 2\u001b[0;31m \u001b[0mstring\u001b[0m\u001b[0;34m[\u001b[0m\u001b[0;36m2\u001b[0m\u001b[0;34m]\u001b[0m\u001b[0;34m=\u001b[0m\u001b[0;34m'a'\u001b[0m\u001b[0;34m\u001b[0m\u001b[0;34m\u001b[0m\u001b[0m\n\u001b[0m\u001b[1;32m      3\u001b[0m \u001b[0mstring\u001b[0m\u001b[0;34m[\u001b[0m\u001b[0;36m3\u001b[0m\u001b[0;34m]\u001b[0m\u001b[0;34m=\u001b[0m\u001b[0;34m't'\u001b[0m\u001b[0;34m\u001b[0m\u001b[0;34m\u001b[0m\u001b[0m\n\u001b[1;32m      4\u001b[0m \u001b[0mprint\u001b[0m\u001b[0;34m(\u001b[0m\u001b[0mstring\u001b[0m\u001b[0;34m)\u001b[0m\u001b[0;34m\u001b[0m\u001b[0;34m\u001b[0m\u001b[0m\n",
      "\u001b[0;31mTypeError\u001b[0m: 'str' object does not support item assignment"
     ]
    }
   ],
   "source": [
    "# updating charecter\n",
    "string[2]='a'\n",
    "string[3]='t'\n",
    "print(string)"
   ]
  },
  {
   "cell_type": "code",
   "execution_count": 18,
   "id": "d5547385",
   "metadata": {},
   "outputs": [
    {
     "name": "stdout",
     "output_type": "stream",
     "text": [
      "Updated String\n"
     ]
    }
   ],
   "source": [
    "# updating whole string\n",
    "string = 'Updated String'\n",
    "print(string)"
   ]
  },
  {
   "cell_type": "code",
   "execution_count": 19,
   "id": "f65a0a75",
   "metadata": {},
   "outputs": [
    {
     "ename": "NameError",
     "evalue": "name 'string' is not defined",
     "output_type": "error",
     "traceback": [
      "\u001b[0;31m---------------------------------------------------------------------------\u001b[0m",
      "\u001b[0;31mNameError\u001b[0m                                 Traceback (most recent call last)",
      "\u001b[0;32m<ipython-input-19-e4e109b675b4>\u001b[0m in \u001b[0;36m<module>\u001b[0;34m\u001b[0m\n\u001b[1;32m      1\u001b[0m \u001b[0;31m# deleting the string\u001b[0m\u001b[0;34m\u001b[0m\u001b[0;34m\u001b[0m\u001b[0;34m\u001b[0m\u001b[0m\n\u001b[1;32m      2\u001b[0m \u001b[0;32mdel\u001b[0m \u001b[0mstring\u001b[0m\u001b[0;34m\u001b[0m\u001b[0;34m\u001b[0m\u001b[0m\n\u001b[0;32m----> 3\u001b[0;31m \u001b[0mprint\u001b[0m\u001b[0;34m(\u001b[0m\u001b[0mstring\u001b[0m\u001b[0;34m)\u001b[0m\u001b[0;34m\u001b[0m\u001b[0;34m\u001b[0m\u001b[0m\n\u001b[0m",
      "\u001b[0;31mNameError\u001b[0m: name 'string' is not defined"
     ]
    }
   ],
   "source": [
    "# deleting the string\n",
    "del string\n",
    "print(string)"
   ]
  },
  {
   "cell_type": "code",
   "execution_count": 20,
   "id": "30081f81",
   "metadata": {},
   "outputs": [
    {
     "name": "stdout",
     "output_type": "stream",
     "text": [
      "Normal part, \"Escaped Part\"\n",
      "Normal part, 'Escaped Part'\n"
     ]
    }
   ],
   "source": [
    "# escape\n",
    "string = 'Normal part, \"Escaped Part\"'\n",
    "print(string)\n",
    "string = 'Normal part, \\'Escaped Part\\''\n",
    "print(string)"
   ]
  },
  {
   "cell_type": "code",
   "execution_count": 21,
   "id": "1cd488f3",
   "metadata": {},
   "outputs": [
    {
     "name": "stdout",
     "output_type": "stream",
     "text": [
      "Data Science\n",
      "Science Data\n"
     ]
    }
   ],
   "source": [
    "# formatting\n",
    "string = \"{} {}\".format('Data', 'Science')\n",
    "print(string)\n",
    "string = \"{1} {0}\".format('Data', 'Science')\n",
    "print(string)"
   ]
  },
  {
   "cell_type": "code",
   "execution_count": 22,
   "id": "7c212487",
   "metadata": {},
   "outputs": [
    {
     "name": "stdout",
     "output_type": "stream",
     "text": [
      "|Data  | Science | Course|\n"
     ]
    }
   ],
   "source": [
    "# alingment\n",
    "string = \"|{:<5} | {:^5} | {:>5}|\".format('Data', 'Science', 'Course')\n",
    "print(string)"
   ]
  },
  {
   "cell_type": "code",
   "execution_count": 17,
   "id": "8c7f573a",
   "metadata": {},
   "outputs": [
    {
     "name": "stdout",
     "output_type": "stream",
     "text": [
      "Value as string = 1\n",
      "Value as raw data = 1\n",
      "Value as integer = 1\n",
      "Value as float = 1.000000\n",
      "The value upto 2 decimal format is = 1234.57\n",
      "1234.57\n",
      "1234.57\n"
     ]
    }
   ],
   "source": [
    "# formatting using %\n",
    "\n",
    "value = 1\n",
    "print (\"Value as string = %s\" %(value))\n",
    "\n",
    "print (\"Value as raw data = %r\" %(value))\n",
    "  \n",
    "print (\"Value as integer = %d\" %(value)) \n",
    "print (\"Value as float = %f\" %(value))\n",
    "\n",
    "value = 1234.5678\n",
    "print('The value upto 2 decimal format is = %.2f' %value)\n",
    "print('{0:.2f}'.format(value))\n",
    "print(round(value,2))"
   ]
  },
  {
   "cell_type": "markdown",
   "id": "5ffda22c",
   "metadata": {},
   "source": [
    "### List"
   ]
  },
  {
   "cell_type": "code",
   "execution_count": 23,
   "id": "176dff25",
   "metadata": {},
   "outputs": [
    {
     "name": "stdout",
     "output_type": "stream",
     "text": [
      "[]\n",
      "[1, 2, 3]\n"
     ]
    }
   ],
   "source": [
    "# creating a list\n",
    "list = []\n",
    "print(list)\n",
    "\n",
    "list = [1,2,3]\n",
    "print(list)"
   ]
  },
  {
   "cell_type": "code",
   "execution_count": 24,
   "id": "fd00b70b",
   "metadata": {},
   "outputs": [
    {
     "name": "stdout",
     "output_type": "stream",
     "text": [
      "3\n",
      "1\n",
      "3\n"
     ]
    }
   ],
   "source": [
    "print(len(list))\n",
    "print(list[0])\n",
    "print(list[-1])"
   ]
  },
  {
   "cell_type": "code",
   "execution_count": 25,
   "id": "efc1b3c3",
   "metadata": {},
   "outputs": [
    {
     "name": "stdout",
     "output_type": "stream",
     "text": [
      "[1, 2, 3, 4]\n",
      "[1, 2, 3, 4, 5]\n",
      "[1, 2, 3, 4, 5, 6, 7, 8]\n"
     ]
    }
   ],
   "source": [
    "list.append(4)\n",
    "print(list)\n",
    "\n",
    "list.insert(4,5)\n",
    "print(list)\n",
    "\n",
    "list.extend([6,7,8])\n",
    "print(list)"
   ]
  },
  {
   "cell_type": "code",
   "execution_count": 26,
   "id": "a58c1f89",
   "metadata": {},
   "outputs": [
    {
     "name": "stdout",
     "output_type": "stream",
     "text": [
      "[1, 2, 3, 4, 5]\n",
      "[3, 4, 5]\n",
      "[1, 2, 3]\n",
      "[4, 5, 6]\n"
     ]
    }
   ],
   "source": [
    "print(list[:5])\n",
    "print(list[2:5])\n",
    "print(list[:-5])\n",
    "print(list[-5:-2])"
   ]
  },
  {
   "cell_type": "code",
   "execution_count": 27,
   "id": "71fbd8a1",
   "metadata": {},
   "outputs": [
    {
     "name": "stdout",
     "output_type": "stream",
     "text": [
      "[1, 2, 3, 5, 6, 7, 8]\n",
      "[1, 2, 3, 5, 6, 7]\n",
      "[2, 3, 5, 6, 7]\n"
     ]
    }
   ],
   "source": [
    "list.remove(4)\n",
    "print(list)\n",
    "\n",
    "list.pop()\n",
    "print(list)\n",
    "\n",
    "list.pop(0)\n",
    "print(list)"
   ]
  },
  {
   "cell_type": "code",
   "execution_count": 28,
   "id": "95505b51",
   "metadata": {},
   "outputs": [
    {
     "name": "stdout",
     "output_type": "stream",
     "text": [
      "[1, 1.1, 'Souro', ['nested', 'list']]\n"
     ]
    }
   ],
   "source": [
    "list = [1, 1.1, 'Souro', ['nested', 'list']]\n",
    "print(list)"
   ]
  },
  {
   "cell_type": "markdown",
   "id": "c36b5121",
   "metadata": {},
   "source": [
    "### Tuples\n",
    "#### Tuple is a collection of Python objects much like a list but immutable\n",
    "#### Separated by ‘comma’ with or without the use of parentheses for grouping the data sequence "
   ]
  },
  {
   "cell_type": "code",
   "execution_count": 356,
   "id": "6b58b4d2",
   "metadata": {},
   "outputs": [
    {
     "name": "stdout",
     "output_type": "stream",
     "text": [
      "()\n",
      "('Souro', 'M')\n",
      "(1, 2, 3, 4, 5, 6)\n",
      "('S', 'o', 'u', 'r', 'o')\n"
     ]
    }
   ],
   "source": [
    "tuple1 = ()\n",
    "print (tuple1)\n",
    "\n",
    "tuple1 = 'Souro', 'M'\n",
    "# tuple1 = ('Souro', 'M')\n",
    "print(tuple1)\n",
    " \n",
    "list1 = [1, 2, 3, 4, 5, 6]\n",
    "print(tuple(list1))\n",
    " \n",
    "tuple1 = tuple('Souro')\n",
    "print(tuple1)\n",
    "\n",
    "# tuple1[0]='M'"
   ]
  },
  {
   "cell_type": "code",
   "execution_count": 34,
   "id": "4a4307a5",
   "metadata": {},
   "outputs": [
    {
     "name": "stdout",
     "output_type": "stream",
     "text": [
      "(5, 'Souro', 3, 'M')\n",
      "((0, 1, 2, 3), ('Souro', 'M'))\n",
      "(0, 1, 2, 3, 'Souro', 'M')\n",
      "('Souro', 'Souro', 'Souro')\n"
     ]
    }
   ],
   "source": [
    "tuple1 = (5, 'Souro', 3, 'M')\n",
    "print(tuple1)\n",
    "\n",
    "tuple1 = (0, 1, 2, 3)\n",
    "tuple2 = ('Souro', 'M')\n",
    "tuple3 = (tuple1, tuple2)\n",
    "print(tuple3)\n",
    "\n",
    "tuple3 = tuple1+tuple2\n",
    "print(tuple3)\n",
    "\n",
    "# one element in the parentheses is not sufficient, there must be a trailing ‘comma’ to make it a tuple\n",
    "tuple1 = ('Souro',) * 3\n",
    "print(tuple1)"
   ]
  },
  {
   "cell_type": "code",
   "execution_count": 359,
   "id": "429b167c",
   "metadata": {},
   "outputs": [
    {
     "name": "stdout",
     "output_type": "stream",
     "text": [
      "S\n",
      "('o', 'u', 'r', 'o')\n",
      "('S',)\n",
      "('o', 'u', 'r')\n",
      "Souro\n",
      "Data\n",
      "Science\n"
     ]
    }
   ],
   "source": [
    "tuple1 = tuple(\"Souro\")\n",
    "print(tuple1[0])\n",
    "print(tuple1[1:])\n",
    "print(tuple1[:1])\n",
    "print(tuple1[1:4])\n",
    "\n",
    "# del tuple1\n",
    "# print(tuple1)\n",
    " \n",
    "tuple1 = (\"Souro\", \"Data\", \"Science\")\n",
    " \n",
    "a, b, c = tuple1\n",
    "print(a)\n",
    "print(b)\n",
    "print(c)"
   ]
  },
  {
   "cell_type": "markdown",
   "id": "1c424667",
   "metadata": {},
   "source": [
    "### Set\n",
    "#### Unordered collection of data, iterable, mutable, no duplicate elements\n",
    "#### Distinctness of the set’s elements -> hashability"
   ]
  },
  {
   "cell_type": "code",
   "execution_count": 361,
   "id": "af0dd5d1",
   "metadata": {},
   "outputs": [
    {
     "name": "stdout",
     "output_type": "stream",
     "text": [
      "set()\n",
      "{'u', 'o', 'r', 'S'}\n",
      "{'u', 'o', 'r', 'S'}\n",
      "{'Science', 'Souro', 'Data'}\n",
      "{1, 2, 3, 4}\n",
      "{1, 3, 4}\n",
      "{1, 4}\n",
      "{4}\n",
      "set()\n",
      "{1, 2, 3, 4, 5, 6, 7, 8, 9, 10, 11, 12}\n",
      "{1, 2, ('Souro', 3), 4, 'Science', 'Data'}\n",
      "{1, 2, (3, 4)}\n",
      "{1, 2, 5, 6, (3, 4)}\n"
     ]
    }
   ],
   "source": [
    "set1 = set()\n",
    "print(set1)\n",
    " \n",
    "set1 = set(\"Souro\")\n",
    "print(set1)\n",
    "\n",
    "# for s in set1:\n",
    "#     print(s)\n",
    " \n",
    "string = 'Souro'\n",
    "set1 = set(string)\n",
    "print(set1)\n",
    " \n",
    "set1 = set([\"Souro\", \"Data\", \"Science\"])\n",
    "print(set1)\n",
    "\n",
    "set1 = set([1, 2, 2, 3, 3, 3, 4, 4, 4])\n",
    "print(set1)\n",
    "\n",
    "# remove() function, KeyError arises\n",
    "set1.remove(2)\n",
    "print(set1)\n",
    "\n",
    "# without KeyError, use discard()\n",
    "set1.discard(3)\n",
    "print(set1)\n",
    "\n",
    "# remove and return last element(but remember set is unordered) from the set\n",
    "set1.pop()\n",
    "print(set1)\n",
    "\n",
    "# remove all\n",
    "set1.clear()\n",
    "print(set1)\n",
    "\n",
    "set1 = set([1, 2, 3, 4, 5, 6, 7, 8, 9, 10, 11, 12])\n",
    "print(set1)\n",
    "\n",
    "set1 = set([1, 2, ('Souro', 3), 'Data', 4, 'Science'])\n",
    "print(set1)\n",
    "\n",
    "set1 = set()\n",
    "set1.add(1)\n",
    "set1.add(2)\n",
    "set1.add((3,4))\n",
    "print(set1)\n",
    "\n",
    "set1 = set([ 1, 2, (3, 4)])\n",
    "# update() method accepts lists, strings, tuples, other sets too ...\n",
    "set1.update([5, 6])\n",
    "print(set1)\n",
    "\n",
    "# set cannot have mutable elements like a list ...\n",
    "# set1 = set([1, 2, ('Souro', 3), 'Data', 4, 'Science'])\n",
    "# set1 = set([1, 2, ['Souro', 3], 'Data', 4, 'Science'])"
   ]
  },
  {
   "cell_type": "markdown",
   "id": "3f9de126",
   "metadata": {},
   "source": [
    "#### set type is mutable, while the frozenset type is immutable\n",
    "#### (integers, strings, tuples, frozenset -> immutable, lists, dictionaries, and sets -> mutable)\n",
    "#### sets aren’t hashable(a set object can’t contain any set objects), but remember set's elements are hashable\n",
    "#### but frozenset objects are hashable"
   ]
  },
  {
   "cell_type": "code",
   "execution_count": 366,
   "id": "a4ebbf74",
   "metadata": {
    "scrolled": true
   },
   "outputs": [
    {
     "name": "stdout",
     "output_type": "stream",
     "text": [
      "frozenset({1, 2, 3})\n"
     ]
    },
    {
     "data": {
      "text/plain": [
       "-272375401224217160"
      ]
     },
     "execution_count": 366,
     "metadata": {},
     "output_type": "execute_result"
    }
   ],
   "source": [
    "fset1 = frozenset([1,2,3])\n",
    "print(fset1)\n",
    "\n",
    "# fset1.add(4)\n",
    "# fset1.remove(2)\n",
    "# fset1.discard(2)\n",
    "# fset1.update([4,5])\n",
    "\n",
    "# set1 = set([1,2,3])\n",
    "# set2 = set([4,5])\n",
    "# set3 = set([set1, set2])\n",
    "# hash(set1)\n",
    "\n",
    "# but set's elements are hashable\n",
    "# for s in set('Souro'):\n",
    "#     print(hash(s))\n",
    "\n",
    "fset1 = frozenset([1,2,3])\n",
    "fset2 = frozenset([4,5])\n",
    "fset3 = frozenset([fset1, fset2])\n",
    "hash(fset1)"
   ]
  },
  {
   "cell_type": "markdown",
   "id": "01d262f5",
   "metadata": {},
   "source": [
    "### Dictionary\n",
    "#### ordered collection (maintained from Python 3.7), holds key:value pair\n",
    "#### values can be of any datatype, duplicated, keys can’t be repeated and and must be immutable\n",
    "#### keys are case sensitive, same name but different cases of key -> treated distinctly"
   ]
  },
  {
   "cell_type": "code",
   "execution_count": 368,
   "id": "76ec12cb",
   "metadata": {},
   "outputs": [
    {
     "name": "stdout",
     "output_type": "stream",
     "text": [
      "{}\n",
      "{1: 'Souro1', 2: 'Data', 3: 'Science'}\n",
      "{1: 'Souro', 2: 'Data', 3: 'Science'}\n",
      "{1: 'Souro', 2: 'Datascience'}\n",
      "{'Name': 'Souro', 1: [1, 2, 3, 4]}\n",
      "{1: 'Souro', 2: 'M', 3: {'course1': 'Datascience', 'course2': 'Python'}}\n"
     ]
    }
   ],
   "source": [
    "dict1 = {}\n",
    "print(dict1)\n",
    "\n",
    "dict1 = {1: 'Souro', 2: 'Data', 3: 'Science'}\n",
    "print(dict1)\n",
    "\n",
    "dict1 = dict({1: 'Souro', 2: 'Data', 3: 'Science'})\n",
    "print(dict1)\n",
    "\n",
    "# pair-wise\n",
    "dict1 = dict([(1, 'Souro'), (2, 'Datascience')])\n",
    "print(dict1)\n",
    "\n",
    "# mix type\n",
    "dict1 = {'Name': 'Souro', 1: [1, 2, 3, 4]}\n",
    "print(dict1)\n",
    "\n",
    "# nested dictionary\n",
    "dict1 = {1: 'Souro', 2: 'M', 3:{'course1' : 'Datascience', 'course2' : 'Python'}}\n",
    " \n",
    "print(dict1)"
   ]
  },
  {
   "cell_type": "code",
   "execution_count": 372,
   "id": "0b5c5b68",
   "metadata": {},
   "outputs": [
    {
     "name": "stdout",
     "output_type": "stream",
     "text": [
      "DataScience\n",
      "name Souro\n",
      "course DataScience\n"
     ]
    }
   ],
   "source": [
    "d = { \"name\" : \"Souro\", \"course\" : \"DataScience\" }\n",
    " \n",
    "# for key,value in d.iteritems(): #python 2.x\n",
    "#     print(key,value)\n",
    "print(d['course'])\n",
    "for key,value in d.items():\n",
    "    print(key,value)"
   ]
  },
  {
   "cell_type": "markdown",
   "id": "4c00c6fc",
   "metadata": {},
   "source": [
    "### Array\n",
    "#### collection of items stored at contiguous memory locations\n",
    "#### all elements of the array must be of the same type"
   ]
  },
  {
   "cell_type": "code",
   "execution_count": 379,
   "id": "db8e58dc",
   "metadata": {},
   "outputs": [
    {
     "name": "stdout",
     "output_type": "stream",
     "text": [
      "1 2 3 \n",
      "1.0 2.0 3.0 \n",
      "1 4 2 3 5 \n",
      "array('i', [4, 2, 3])\n",
      "0\n",
      "1 6 2 3 5 \n",
      "5\n",
      "6\n",
      "1 2 "
     ]
    }
   ],
   "source": [
    "import array as arr\n",
    " \n",
    "a = arr.array('i', [1, 2, 3])\n",
    "# a = arr.array('i', [1, 2, 3, 'Souro'])\n",
    "\n",
    "for i in range(0, 3):\n",
    "    print (a[i], end =\" \")\n",
    "print()\n",
    " \n",
    "b = arr.array('f', [1.0, 2.0, 3.0])\n",
    "for i in range (0, 3):\n",
    "    print (b[i], end =\" \")\n",
    "print()\n",
    "\n",
    "a.insert(1, 4)\n",
    "a.append(5)\n",
    "\n",
    "for i in range (0, 5):\n",
    "    print (a[i], end =\" \")\n",
    "print()\n",
    "\n",
    "print(a[1:4])\n",
    "print (a.index(1)) # 1st occurrence of 1\n",
    "\n",
    "a[1] = 6\n",
    "for i in range (0, 5):\n",
    "    print (a[i], end =\" \")\n",
    "print()\n",
    "\n",
    "print (a.pop())\n",
    "print (a.pop(1))\n",
    "a.remove(3) # remove 1st occurrence of 3\n",
    "for i in range (0, 2):\n",
    "    print (a[i], end =\" \")"
   ]
  },
  {
   "cell_type": "markdown",
   "id": "b640259b",
   "metadata": {},
   "source": [
    "## Operators"
   ]
  },
  {
   "cell_type": "markdown",
   "id": "83e394bb",
   "metadata": {},
   "source": [
    "### Arithmetic"
   ]
  },
  {
   "cell_type": "code",
   "execution_count": 89,
   "id": "e61d317f",
   "metadata": {},
   "outputs": [
    {
     "name": "stdout",
     "output_type": "stream",
     "text": [
      "8\n",
      "2\n",
      "15\n",
      "1.6666666666666667\n",
      "1\n",
      "2\n",
      "125\n"
     ]
    }
   ],
   "source": [
    "a = 5\n",
    "b = 3\n",
    "add = a + b\n",
    "print(add) \n",
    "sub = a - b\n",
    "print(sub)\n",
    "mul = a * b\n",
    "print(mul)\n",
    "div1 = a / b\n",
    "print(div1)\n",
    "div2 = a // b\n",
    "print(div2)\n",
    "mod = a % b\n",
    "print(mod)\n",
    "p = a ** b\n",
    "print(p)"
   ]
  },
  {
   "cell_type": "markdown",
   "id": "492bd8f9",
   "metadata": {},
   "source": [
    "### Relational"
   ]
  },
  {
   "cell_type": "code",
   "execution_count": 30,
   "id": "cdfda539",
   "metadata": {},
   "outputs": [
    {
     "name": "stdout",
     "output_type": "stream",
     "text": [
      "True\n",
      "False\n",
      "False\n",
      "True\n",
      "True\n",
      "False\n"
     ]
    }
   ],
   "source": [
    "a = 5\n",
    "b = 3  \n",
    "print(a > b)\n",
    "print(a < b)\n",
    "print(a == b)\n",
    "print(a != b)\n",
    "print(a >= b)\n",
    "print(a <= b)"
   ]
  },
  {
   "cell_type": "markdown",
   "id": "a9da74be",
   "metadata": {},
   "source": [
    "### Bitwise"
   ]
  },
  {
   "cell_type": "code",
   "execution_count": 31,
   "id": "0c437b0f",
   "metadata": {},
   "outputs": [
    {
     "name": "stdout",
     "output_type": "stream",
     "text": [
      "1\n",
      "7\n",
      "-6\n",
      "6\n",
      "1\n",
      "20\n"
     ]
    }
   ],
   "source": [
    "a = 5\n",
    "b = 3  \n",
    "print(a & b)\n",
    "print(a | b)\n",
    "print(~a)\n",
    "print(a ^ b) \n",
    "print(a >> 2)\n",
    "print(a << 2)"
   ]
  },
  {
   "cell_type": "markdown",
   "id": "014450ca",
   "metadata": {},
   "source": [
    "### Logical"
   ]
  },
  {
   "cell_type": "code",
   "execution_count": 32,
   "id": "92814c5b",
   "metadata": {},
   "outputs": [
    {
     "name": "stdout",
     "output_type": "stream",
     "text": [
      "False\n",
      "True\n",
      "False\n"
     ]
    }
   ],
   "source": [
    "print (False and True)\n",
    "print (True or False)\n",
    "print (not True)"
   ]
  },
  {
   "cell_type": "markdown",
   "id": "9594f6ef",
   "metadata": {},
   "source": [
    "### Identity"
   ]
  },
  {
   "cell_type": "code",
   "execution_count": 33,
   "id": "8bc42cdf",
   "metadata": {},
   "outputs": [
    {
     "name": "stdout",
     "output_type": "stream",
     "text": [
      "False\n",
      "True\n",
      "False\n"
     ]
    }
   ],
   "source": [
    "a1 = 1\n",
    "b1 = 1\n",
    "a2 = 'DataScience'\n",
    "b2 = 'DataScience'\n",
    "a3 = [1,2,3]\n",
    "b3 = [1,2,3]\n",
    "print(a1 is not b1)\n",
    "print(a2 is b2)\n",
    "print(a3 is b3)"
   ]
  },
  {
   "cell_type": "markdown",
   "id": "771a6721",
   "metadata": {},
   "source": [
    "### Membership"
   ]
  },
  {
   "cell_type": "code",
   "execution_count": 34,
   "id": "c5cff568",
   "metadata": {},
   "outputs": [
    {
     "name": "stdout",
     "output_type": "stream",
     "text": [
      "True\n",
      "True\n"
     ]
    }
   ],
   "source": [
    "x = 'Data Science'\n",
    "  \n",
    "print('Sc' in x)\n",
    "  \n",
    "print('So' not in x)"
   ]
  },
  {
   "cell_type": "markdown",
   "id": "4dc3920e",
   "metadata": {},
   "source": [
    "### Precedence"
   ]
  },
  {
   "cell_type": "code",
   "execution_count": 35,
   "id": "1d53b908",
   "metadata": {},
   "outputs": [
    {
     "name": "stdout",
     "output_type": "stream",
     "text": [
      "7\n",
      "Correct\n"
     ]
    }
   ],
   "source": [
    "expr = 1 + 2 * 3\n",
    "print(expr)\n",
    "\n",
    "name = \"Souro\"\n",
    "id = 0\n",
    "    \n",
    "if name == \"Souro\" or name == \"Souro1\" and id >= 0 :  \n",
    "    print(\"Correct\") \n",
    "else : \n",
    "    print(\"Wrong\")"
   ]
  },
  {
   "cell_type": "markdown",
   "id": "afb654c0",
   "metadata": {},
   "source": [
    "###  Associativity"
   ]
  },
  {
   "cell_type": "code",
   "execution_count": 36,
   "id": "d22267bc",
   "metadata": {},
   "outputs": [
    {
     "name": "stdout",
     "output_type": "stream",
     "text": [
      "1.5\n",
      "4\n",
      "0\n",
      "1\n"
     ]
    }
   ],
   "source": [
    "print(1 / 2 * 3)\n",
    "print(3 - 1 + 2) \n",
    "print(3 - (1 + 2)) \n",
    "print(1 ** 2 ** 3)"
   ]
  },
  {
   "cell_type": "markdown",
   "id": "3628e121",
   "metadata": {},
   "source": [
    "## Control Statement"
   ]
  },
  {
   "cell_type": "code",
   "execution_count": 384,
   "id": "322a79bc",
   "metadata": {},
   "outputs": [
    {
     "name": "stdout",
     "output_type": "stream",
     "text": [
      "b is greater than a\n",
      "again\n"
     ]
    }
   ],
   "source": [
    "a = 5\n",
    "b = 3\n",
    "if a > b:\n",
    "  print(\"b is greater than a\")\n",
    "if True:\n",
    "    print('again')\n",
    "elif True:\n",
    "    print('again elif')\n",
    "elif a == b:\n",
    "  print(\"a and b are equal\")\n",
    "else:\n",
    "  print(\"a is greater than b\")"
   ]
  },
  {
   "cell_type": "markdown",
   "id": "16de6ecd",
   "metadata": {},
   "source": [
    "#### Python does not have a switch or case statement (Until Python 3.10) ..."
   ]
  },
  {
   "cell_type": "code",
   "execution_count": 196,
   "id": "a9e90b96",
   "metadata": {},
   "outputs": [
    {
     "name": "stdout",
     "output_type": "stream",
     "text": [
      "one\n"
     ]
    }
   ],
   "source": [
    "# work around as a replacement of switch case\n",
    "def num_to_str(num):\n",
    "    switch = {\n",
    "        0: \"zero\",\n",
    "        1: \"one\",\n",
    "        2: \"two\",\n",
    "    }\n",
    "    return switch.get(num)\n",
    "  \n",
    "print (num_to_str(1))"
   ]
  },
  {
   "cell_type": "markdown",
   "id": "8634b559",
   "metadata": {},
   "source": [
    "## Functions\n",
    "\n",
    "#### Instead of writing the same code again and again -> reuse code\n",
    "#### Some commonly or repeatedly done task together -> make a function\n",
    "#### Function helps code to be concise, non-repetitive, and organized"
   ]
  },
  {
   "cell_type": "code",
   "execution_count": 386,
   "id": "56c013fb",
   "metadata": {},
   "outputs": [
    {
     "name": "stdout",
     "output_type": "stream",
     "text": [
      "This funcion prints a welcome message with name\n",
      "Welcome Souro!\n"
     ]
    }
   ],
   "source": [
    "def showName():\n",
    "    # docstring -> optional but good practice\n",
    "    \"This funcion prints a welcome message with name\"\n",
    "    print('Welcome {name}!'.format(name='Souro'))\n",
    "\n",
    "print(showName.__doc__)\n",
    "showName()"
   ]
  },
  {
   "cell_type": "code",
   "execution_count": 389,
   "id": "da746d7b",
   "metadata": {},
   "outputs": [
    {
     "name": "stdout",
     "output_type": "stream",
     "text": [
      "8\n"
     ]
    }
   ],
   "source": [
    "def add(num1, num2):\n",
    "    return num1+num2\n",
    "    #print('Souro')\n",
    "    #return # if nothing then return None\n",
    "\n",
    "print(add(5,3))"
   ]
  },
  {
   "cell_type": "markdown",
   "id": "d28c6b16",
   "metadata": {},
   "source": [
    "#### pass a variable to a function, a new reference to the object is created\n",
    "#### pass a reference -> change received reference to something else, connection between passed and received parameter is broken"
   ]
  },
  {
   "cell_type": "code",
   "execution_count": 390,
   "id": "875da168",
   "metadata": {},
   "outputs": [
    {
     "name": "stdout",
     "output_type": "stream",
     "text": [
      "[0, 2, 3, 4]\n"
     ]
    }
   ],
   "source": [
    "def fun(list2): # x is a new reference to same list lst\n",
    "    list2[0] = 0\n",
    "  \n",
    "list1 = [1, 2, 3, 4]\n",
    "fun(list1)\n",
    "print(list1)"
   ]
  },
  {
   "cell_type": "code",
   "execution_count": 398,
   "id": "7e88606f",
   "metadata": {},
   "outputs": [
    {
     "name": "stdout",
     "output_type": "stream",
     "text": [
      "[1, 2, 3, 4]\n",
      "2\n",
      "1\n",
      "1\n",
      "2\n"
     ]
    }
   ],
   "source": [
    "def fun1(list2):\n",
    "    list2 = [5,6,7,8]  \n",
    "list1 = [1, 2, 3, 4]\n",
    "fun1(list1)\n",
    "print(list1)\n",
    "\n",
    "def fun2(val):\n",
    "    val = 2\n",
    "    print(val)\n",
    "val = 1\n",
    "fun2(val)\n",
    "print(val)\n",
    "\n",
    "def swapFun(val1, val2):\n",
    "    temp = val1\n",
    "    val1 = val2\n",
    "    val2 = temp\n",
    "    # val1, val2 = val2, val1\n",
    "val1 = 1\n",
    "val2 = 2\n",
    "# val1, val2 = val2, val1\n",
    "swapFun(val1, val2)\n",
    "print(val1)\n",
    "print(val2)"
   ]
  },
  {
   "cell_type": "code",
   "execution_count": 401,
   "id": "aa8e54a9",
   "metadata": {},
   "outputs": [
    {
     "name": "stdout",
     "output_type": "stream",
     "text": [
      "5\n",
      "3\n",
      "5\n",
      "3\n"
     ]
    }
   ],
   "source": [
    "# default arguments \n",
    "def fun(val1, val2=3):\n",
    "    print(val1)\n",
    "    print(val2)\n",
    "fun(5)\n",
    "\n",
    "def fun(val2, val1):\n",
    "    print(val1)\n",
    "    print(val2)\n",
    "fun(val2 = 3, val1 = 5)"
   ]
  },
  {
   "cell_type": "markdown",
   "id": "d92d88d8",
   "metadata": {},
   "source": [
    "#### normal and keyword variable number of arguments"
   ]
  },
  {
   "cell_type": "code",
   "execution_count": 153,
   "id": "8063ead4",
   "metadata": {},
   "outputs": [
    {
     "name": "stdout",
     "output_type": "stream",
     "text": [
      "Souro\n",
      "Data\n",
      "Science\n",
      "name : Souro\n",
      "course : DataScience\n"
     ]
    }
   ],
   "source": [
    "def fun(*argv):\n",
    "    for arg in argv:\n",
    "        print(arg)\n",
    "  \n",
    "fun('Souro', 'Data', 'Science')\n",
    "\n",
    "def fun(**kwargs):\n",
    "    for key, value in kwargs.items():\n",
    "        print(\"%s : %s\" % (key, value))\n",
    "  \n",
    "fun(name = 'Souro', course = 'DataScience')"
   ]
  },
  {
   "cell_type": "markdown",
   "id": "e149c0af",
   "metadata": {},
   "source": [
    "#### anonymous function\n",
    "#### lambda keyword is used to create anonymous functions (lambda arguments: expression)\n",
    "#### lambda functions are syntactically restricted to a single expression"
   ]
  },
  {
   "cell_type": "code",
   "execution_count": 162,
   "id": "2a1fcd1b",
   "metadata": {},
   "outputs": [
    {
     "name": "stdout",
     "output_type": "stream",
     "text": [
      "8\n",
      "8\n"
     ]
    }
   ],
   "source": [
    "def add(val1, val2):\n",
    "    return val1+val2\n",
    "\n",
    "add2 = lambda val1, val2 : val1+val2\n",
    "  \n",
    "print(add(5,3))\n",
    "print(add2(5,3))"
   ]
  },
  {
   "cell_type": "markdown",
   "id": "59acd189",
   "metadata": {},
   "source": [
    "#### yield instead of return\n",
    "###### suspends function’s execution and sends a value back to the caller\n",
    "###### but retains enough state to enable function to resume where it is left off\n",
    "###### allows to produce a series of values over time, rather than computing them at once and sending them back like a list\n",
    "###### use yield when iterate over a sequence, but don’t want to store the entire sequence in memory\n",
    "###### yield are used in Python generators"
   ]
  },
  {
   "cell_type": "code",
   "execution_count": 352,
   "id": "6dad3cce",
   "metadata": {},
   "outputs": [
    {
     "name": "stdout",
     "output_type": "stream",
     "text": [
      "1\n",
      "2\n",
      "3\n"
     ]
    }
   ],
   "source": [
    "def simpleGenerator():\n",
    "    yield 1\n",
    "    yield 2\n",
    "    yield 3\n",
    "  \n",
    "for value in simpleGenerator(): \n",
    "    print(value)"
   ]
  },
  {
   "cell_type": "markdown",
   "id": "d276e660",
   "metadata": {},
   "source": [
    "### main() function in Python"
   ]
  },
  {
   "cell_type": "markdown",
   "id": "e18099e2",
   "metadata": {},
   "source": [
    "##### Main function is like the entry point of a program. However, Python interpreter runs the code right from the first line. The execution of the code starts from the starting line and goes line by line. It does not matter where the main function is present or it is present or not.\n",
    "##### Since there is no main() function in Python, when the command to run a Python program is given to the interpreter, the code that is at level 0 indentation is to be executed. However, before doing that, it will define a few special variables. __name__ is one such special variable. If the source file is executed as the main program, the interpreter sets the __name__ variable to have a value __main__. If this file is being imported from another module, __name__ will be set to the module’s name.\n",
    "##### __name__ is a built-in variable which evaluates to the name of the current module."
   ]
  },
  {
   "cell_type": "code",
   "execution_count": 153,
   "id": "d97f88bb",
   "metadata": {},
   "outputs": [
    {
     "name": "stdout",
     "output_type": "stream",
     "text": [
      "Outside of main function\n",
      "Within main function\n"
     ]
    }
   ],
   "source": [
    "print(\"Outside of main function\")\n",
    "  \n",
    "def main():\n",
    "    print(\"Within main function\")\n",
    "  \n",
    "if __name__==\"__main__\":\n",
    "    main()"
   ]
  },
  {
   "cell_type": "code",
   "execution_count": 24,
   "id": "3ad285f6",
   "metadata": {},
   "outputs": [
    {
     "name": "stdout",
     "output_type": "stream",
     "text": [
      "file __name__ = __main__\n",
      "file is being run directly\n"
     ]
    }
   ],
   "source": [
    "print(\"file __name__ = %s\" %__name__)\n",
    "    \n",
    "if __name__ == \"__main__\": \n",
    "    print(\"file is being run directly\")\n",
    "else: \n",
    "    print(\"file is being imported\")"
   ]
  },
  {
   "cell_type": "code",
   "execution_count": 25,
   "id": "782d88c1",
   "metadata": {},
   "outputs": [
    {
     "name": "stdout",
     "output_type": "stream",
     "text": [
      "file __name__ = file\n",
      "File1 is being imported\n",
      "file __name__ = __main__\n"
     ]
    }
   ],
   "source": [
    "import file \n",
    "    \n",
    "print(\"file __name__ = %s\" %__name__)"
   ]
  },
  {
   "cell_type": "markdown",
   "id": "4ff30435",
   "metadata": {},
   "source": [
    "## Loops"
   ]
  },
  {
   "cell_type": "code",
   "execution_count": 163,
   "id": "493603de",
   "metadata": {},
   "outputs": [
    {
     "name": "stdout",
     "output_type": "stream",
     "text": [
      "Data Science\n",
      "Data Science\n",
      "Data Science\n"
     ]
    }
   ],
   "source": [
    "count = 0\n",
    "while(count < 3):   \n",
    "    count = count + 1\n",
    "    print(\"Data Science\")"
   ]
  },
  {
   "cell_type": "code",
   "execution_count": 164,
   "id": "80c76572",
   "metadata": {},
   "outputs": [
    {
     "name": "stdout",
     "output_type": "stream",
     "text": [
      "Data Science\n",
      "Data Science\n",
      "Data Science\n",
      "Souro\n"
     ]
    }
   ],
   "source": [
    "count = 0\n",
    "while (count < 3):   \n",
    "    count = count + 1\n",
    "    print('Data Science')\n",
    "else:\n",
    "    print('Souro')"
   ]
  },
  {
   "cell_type": "code",
   "execution_count": 403,
   "id": "3ffa6940",
   "metadata": {},
   "outputs": [
    {
     "name": "stdout",
     "output_type": "stream",
     "text": [
      "Data Science\n",
      "Data Science\n",
      "Data Science\n"
     ]
    }
   ],
   "source": [
    "for i in range(3):\n",
    "    print('Data Science')"
   ]
  },
  {
   "cell_type": "code",
   "execution_count": 170,
   "id": "0fc5112f",
   "metadata": {},
   "outputs": [
    {
     "name": "stdout",
     "output_type": "stream",
     "text": [
      "Souro\n",
      "Data\n",
      "Science\n",
      "Souro\n",
      "Data\n",
      "Science\n",
      "Souro\n",
      "Data\n",
      "Science\n",
      "After End of for loop\n",
      "Souro\n",
      "Data\n",
      "Science\n",
      "S\n",
      "o\n",
      "u\n",
      "r\n",
      "o\n",
      "name  Souro\n",
      "course  Data Science\n"
     ]
    }
   ],
   "source": [
    "l = [\"Souro\", \"Data\", \"Science\"]\n",
    "for i in l:\n",
    "    print(i)\n",
    "    \n",
    "for idx in range(len(l)):\n",
    "    print(l[idx])\n",
    "\n",
    "for idx in range(len(l)):\n",
    "    print(l[idx])\n",
    "else:\n",
    "    print('After End of for loop')\n",
    "      \n",
    "t = (\"Souro\", \"Data\", \"Science\")\n",
    "for i in t:\n",
    "    print(i)\n",
    "      \n",
    "s = \"Souro\"\n",
    "for i in s :\n",
    "    print(i)\n",
    "      \n",
    "d = dict()\n",
    "d['name'] = 'Souro'\n",
    "d['course'] = 'Data Science'\n",
    "for i in d :\n",
    "    print(\"%s  %s\" %(i, d[i]))"
   ]
  },
  {
   "cell_type": "code",
   "execution_count": 171,
   "id": "bc0b2a2e",
   "metadata": {},
   "outputs": [
    {
     "name": "stdout",
     "output_type": "stream",
     "text": [
      "Souro\n",
      "Data\n",
      "Science\n"
     ]
    }
   ],
   "source": [
    "str_list = [\"Souro\", \"Data\", \"Science\"]\n",
    " \n",
    "iter_obj = iter(str_list)\n",
    " \n",
    "while True:\n",
    "  try:\n",
    "    str = next(iter_obj)\n",
    "    print(str)\n",
    "  except StopIteration:\n",
    "    break"
   ]
  },
  {
   "cell_type": "code",
   "execution_count": 173,
   "id": "32defd5b",
   "metadata": {},
   "outputs": [
    {
     "name": "stdout",
     "output_type": "stream",
     "text": [
      "Current Letter : D\n",
      "Current Letter : a\n",
      "Current Letter : t\n",
      "Current Letter : a\n",
      "Current Letter : c\n",
      "Current Letter : i\n",
      "Current Letter : e\n",
      "Current Letter : n\n",
      "Current Letter : c\n",
      "Current Letter : e\n"
     ]
    }
   ],
   "source": [
    "for letter in 'DataScience': \n",
    "    if letter == 'S':\n",
    "         continue\n",
    "    print('Current Letter :', letter)"
   ]
  },
  {
   "cell_type": "code",
   "execution_count": 174,
   "id": "71cdcd9e",
   "metadata": {},
   "outputs": [
    {
     "name": "stdout",
     "output_type": "stream",
     "text": [
      "Current Letter : D\n",
      "Current Letter : a\n",
      "Current Letter : t\n",
      "Current Letter : a\n",
      "Current Letter after break: S\n"
     ]
    }
   ],
   "source": [
    "for letter in 'DataScience':\n",
    "    if letter == 'S':\n",
    "         break\n",
    "    print('Current Letter :', letter)\n",
    "  \n",
    "print('Current Letter after break:', letter)"
   ]
  },
  {
   "cell_type": "code",
   "execution_count": 179,
   "id": "f2af54c3",
   "metadata": {},
   "outputs": [
    {
     "name": "stdout",
     "output_type": "stream",
     "text": [
      "Last Letter : e\n"
     ]
    }
   ],
   "source": [
    "for letter in 'DataScience':\n",
    "    pass\n",
    "print('Last Letter :', letter)"
   ]
  },
  {
   "cell_type": "markdown",
   "id": "4336748b",
   "metadata": {},
   "source": [
    "#### pass vs continue\n",
    "#### pass simply does nothing, while continue goes on with the next loop iteration"
   ]
  },
  {
   "cell_type": "code",
   "execution_count": 405,
   "id": "bb5bedec",
   "metadata": {},
   "outputs": [
    {
     "name": "stdout",
     "output_type": "stream",
     "text": [
      "0\n",
      "1\n",
      "2\n",
      "1\n",
      "2\n"
     ]
    }
   ],
   "source": [
    "list1 = [0, 1, 2]\n",
    "for element in list1:\n",
    "    if element == 0:\n",
    "        pass\n",
    "    print(element)\n",
    "\n",
    "for element in list1:\n",
    "    if element == 0:\n",
    "        continue\n",
    "    print(element)"
   ]
  },
  {
   "cell_type": "markdown",
   "id": "6e45c6d4",
   "metadata": {},
   "source": [
    "#### enumerate() is used -> printing the index number along with the value"
   ]
  },
  {
   "cell_type": "code",
   "execution_count": 180,
   "id": "af9bf4dd",
   "metadata": {},
   "outputs": [
    {
     "name": "stdout",
     "output_type": "stream",
     "text": [
      "0 Souro\n",
      "1 Data\n",
      "2 Science\n"
     ]
    }
   ],
   "source": [
    "for key, value in enumerate(['Souro', 'Data', 'Science']):\n",
    "    print(key, value)"
   ]
  },
  {
   "cell_type": "markdown",
   "id": "970fe497",
   "metadata": {},
   "source": [
    "#### zip() is used to combine 2 similar containers(list-list or dict-dict)\n",
    "#### loop exists only till the smaller container ends"
   ]
  },
  {
   "cell_type": "code",
   "execution_count": 185,
   "id": "eca7e46d",
   "metadata": {},
   "outputs": [
    {
     "name": "stdout",
     "output_type": "stream",
     "text": [
      "Key: name,  Value: Souro\n",
      "Key: course,  Value: DataScience\n",
      "Key: programming,  Value: Python\n"
     ]
    }
   ],
   "source": [
    "key = ['name', 'course', 'programming']\n",
    "value = ['Souro', 'DataScience', 'Python']\n",
    "\n",
    "for key, value in zip(key, value):\n",
    "    print('Key: {0},  Value: {1}'.format(key, value))"
   ]
  },
  {
   "cell_type": "code",
   "execution_count": 193,
   "id": "3a703c56",
   "metadata": {},
   "outputs": [
    {
     "name": "stdout",
     "output_type": "stream",
     "text": [
      "Python\n",
      "Souro\n",
      "MachineLearning\n",
      "Math\n",
      "Python\n",
      "DataScience\n",
      "Souro\n",
      "\n",
      "\n",
      "DataScience\n",
      "MachineLearning\n",
      "Math\n",
      "Python\n",
      "Souro\n"
     ]
    }
   ],
   "source": [
    "string_list = ['Souro', 'DataScience', 'Python', 'Math',\n",
    "          'MachineLearning', 'Souro', 'Python']\n",
    " \n",
    "for string in reversed(string_list) :\n",
    "    print (string)\n",
    "print('\\n')\n",
    "for string in sorted(set(string_list)):\n",
    "    print(string)"
   ]
  },
  {
   "cell_type": "markdown",
   "id": "65b22f0f",
   "metadata": {},
   "source": [
    "## File Handling\n",
    "#### open () -> open a file in read or write mode, open ( ) will return a file object\n",
    "#### open() function -> two arguments, file name and the mode, whether to read or write\n",
    "#### mode is not mandatory ... If not passed, then 'r' by default\n",
    "#### Each line of text is terminated with a special character called EOL (End of Line), by default new line character (‘\\n’) in python"
   ]
  },
  {
   "cell_type": "markdown",
   "id": "c97c8d71",
   "metadata": {},
   "source": [
    "###### Read Only (‘r’) : Open text file for reading. The handle is positioned at the beginning of the file. If the file does not exists, raises I/O error. This is also the default mode in which file is opened.\n",
    "###### Read and Write (‘r+’) : Open the file for reading and writing. The handle is positioned at the beginning of the file. Raises I/O error if the file does not exists.\n",
    "###### Write Only (‘w’) : Open the file for writing. For existing file, the data is truncated and over-written. The handle is positioned at the beginning of the file. Creates the file if the file does not exists.\n",
    "###### Write and Read (‘w+’) : Open the file for reading and writing. For existing file, data is truncated and over-written. The handle is positioned at the beginning of the file.\n",
    "###### Append Only (‘a’) : Open the file for writing. The file is created if it does not exist. The handle is positioned at the end of the file. The data being written will be inserted at the end, after the existing data.\n",
    "###### Append and Read (‘a+’) : Open the file for reading and writing. The file is created if it does not exist. The handle is positioned at the end of the file. The data being written will be inserted at the end, after the existing data.\n"
   ]
  },
  {
   "cell_type": "code",
   "execution_count": 416,
   "id": "634a33b0",
   "metadata": {},
   "outputs": [
    {
     "name": "stdout",
     "output_type": "stream",
     "text": [
      "file for\n",
      "read example\n",
      "   example with space before\n",
      "example with space after\n"
     ]
    }
   ],
   "source": [
    "file = open('file_read_example.txt', 'r')\n",
    "\n",
    "# print(file.read())\n",
    "# print(file.read(15)) # read the first 15 characters\n",
    "\n",
    "#print(file.readline())\n",
    "#print(file.readlines())\n",
    "\n",
    "for line in file:\n",
    "    #print(line)\n",
    "    #print(line.lstrip()) # strips each line of a file off spaces from the right-hand side.\n",
    "    print(line.rstrip()) # strips each line of a file off spaces from the left-hand side.\n",
    "    #print(file.readline())"
   ]
  },
  {
   "cell_type": "code",
   "execution_count": 419,
   "id": "a8497efe",
   "metadata": {},
   "outputs": [],
   "source": [
    "file = open(\"file_write_example.txt\",\"w\")\n",
    "file.write(\"file for\")\n",
    "file.seek(0) # seek(n) -> takes the file handle to the nth bite from the beginning\n",
    "file.write(\"\\n\")\n",
    "file.write(\"write example\")\n",
    "\n",
    "L = [\"\\nWrite using \\n\",\"writelines \\n\",\"method \\n\"]\n",
    "file.writelines(L)\n",
    "\n",
    "file.close() # close() terminates all the resources in use, frees the acquired memory space"
   ]
  },
  {
   "cell_type": "code",
   "execution_count": 420,
   "id": "ac80f816",
   "metadata": {},
   "outputs": [],
   "source": [
    "file = open(\"file_write_example.txt\",'a')\n",
    "file.write(\"\\n\")\n",
    "file.write(\"Adding in the existing file\")\n",
    "file.close()"
   ]
  },
  {
   "cell_type": "code",
   "execution_count": 294,
   "id": "275dee9e",
   "metadata": {},
   "outputs": [
    {
     "name": "stdout",
     "output_type": "stream",
     "text": [
      "file for\n",
      "read example\n",
      "   example with space before\n",
      "example with space after      \n",
      "\n"
     ]
    }
   ],
   "source": [
    "# cleaner syntax and exceptions handling\n",
    "# using this way, files opened will be closed automatically once done, so auto-cleanup ...\n",
    "with open(\"file_read_example.txt\") as file:  \n",
    "    data = file.read()\n",
    "    print(data)\n",
    "#     data = file.readlines()\n",
    "#     for line in data:\n",
    "#         word = line.split()\n",
    "#         print (word)\n",
    "with open(\"file_write_example.txt\", \"w\") as file:\n",
    "    file.write(\"file for\")\n",
    "    file.write(\"\\n\")\n",
    "    file.write(\"write example\")\n",
    "with open(\"file_write_example.txt\", \"a\") as file:\n",
    "    file.write(\"\\n\")\n",
    "    file.write(\"Adding in the existing file\")"
   ]
  },
  {
   "cell_type": "code",
   "execution_count": 421,
   "id": "93e792b4",
   "metadata": {},
   "outputs": [
    {
     "name": "stdout",
     "output_type": "stream",
     "text": [
      "file for\n",
      "read example\n",
      "   example with space before\n",
      "example with space after   \n",
      "\n"
     ]
    }
   ],
   "source": [
    "file = open('file_read_example.txt', 'r+')\n",
    "\n",
    "print(file.read())\n",
    "file.write(\"file write in r+ mode\")\n",
    "file.close()"
   ]
  },
  {
   "cell_type": "markdown",
   "id": "1be15725",
   "metadata": {},
   "source": [
    "## Exception Handling\n",
    "#### Error in Python, two types: Syntax errors and Exceptions\n",
    "#### Syntax errors (wrong syntax) -> problems in a program due to which the program will stop the execution \n",
    "#### Exceptions are raised when some internal events occur which changes the normal flow of the program "
   ]
  },
  {
   "cell_type": "code",
   "execution_count": 423,
   "id": "9d24bc08",
   "metadata": {},
   "outputs": [
    {
     "name": "stdout",
     "output_type": "stream",
     "text": [
      "Value is greater than 3\n"
     ]
    }
   ],
   "source": [
    "value = 5\n",
    "if(value>3):\n",
    "    print(\"Value is greater than 3\")"
   ]
  },
  {
   "cell_type": "code",
   "execution_count": 430,
   "id": "2a084835",
   "metadata": {},
   "outputs": [
    {
     "name": "stdout",
     "output_type": "stream",
     "text": [
      "ZeroDivisionError\n",
      "Error has been handled to continue with the rest of the program\n"
     ]
    }
   ],
   "source": [
    "# div = value/0\n",
    "# print('After Error')\n",
    "try:\n",
    "    div = value/0\n",
    "except ZeroDivisionError:\n",
    "    print('ZeroDivisionError')\n",
    "except:\n",
    "    print('error')\n",
    "print('Error has been handled to continue with the rest of the program')"
   ]
  },
  {
   "cell_type": "code",
   "execution_count": 432,
   "id": "bf7e83a7",
   "metadata": {},
   "outputs": [
    {
     "name": "stdout",
     "output_type": "stream",
     "text": [
      "Entered into the else clause\n"
     ]
    }
   ],
   "source": [
    "# enters the else block only if the try clause does not raise an exception\n",
    "try:\n",
    "    div = value/3\n",
    "except ZeroDivisionError:\n",
    "    print('ZeroDivisionError')\n",
    "else:\n",
    "    print('Entered into the else clause')"
   ]
  },
  {
   "cell_type": "code",
   "execution_count": 346,
   "id": "14dea773",
   "metadata": {},
   "outputs": [
    {
     "name": "stdout",
     "output_type": "stream",
     "text": [
      "ZeroDivisionError\n",
      "This will be always executed\n"
     ]
    }
   ],
   "source": [
    "# finally block always executes after normal termination or after try block terminates due to exception\n",
    "try:\n",
    "    div = value/0\n",
    "except ZeroDivisionError:\n",
    "    print('ZeroDivisionError')\n",
    "finally:\n",
    "    print('This will be always executed')"
   ]
  },
  {
   "cell_type": "code",
   "execution_count": 348,
   "id": "907fa8af",
   "metadata": {},
   "outputs": [
    {
     "ename": "Exception",
     "evalue": "Sorry, no numbers above 3",
     "output_type": "error",
     "traceback": [
      "\u001b[0;31m---------------------------------------------------------------------------\u001b[0m",
      "\u001b[0;31mException\u001b[0m                                 Traceback (most recent call last)",
      "\u001b[0;32m<ipython-input-348-b6403152d059>\u001b[0m in \u001b[0;36m<module>\u001b[0;34m\u001b[0m\n\u001b[1;32m      2\u001b[0m \u001b[0;34m\u001b[0m\u001b[0m\n\u001b[1;32m      3\u001b[0m \u001b[0;32mif\u001b[0m \u001b[0mvalue\u001b[0m \u001b[0;34m>\u001b[0m \u001b[0;36m3\u001b[0m\u001b[0;34m:\u001b[0m\u001b[0;34m\u001b[0m\u001b[0;34m\u001b[0m\u001b[0m\n\u001b[0;32m----> 4\u001b[0;31m   \u001b[0;32mraise\u001b[0m \u001b[0mException\u001b[0m\u001b[0;34m(\u001b[0m\u001b[0;34m\"Sorry, no numbers above 3\"\u001b[0m\u001b[0;34m)\u001b[0m\u001b[0;34m\u001b[0m\u001b[0;34m\u001b[0m\u001b[0m\n\u001b[0m",
      "\u001b[0;31mException\u001b[0m: Sorry, no numbers above 3"
     ]
    }
   ],
   "source": [
    "value = 5\n",
    "\n",
    "if value > 3:\n",
    "  raise Exception(\"Sorry, no numbers above 3\")"
   ]
  },
  {
   "cell_type": "code",
   "execution_count": 435,
   "id": "dcbee249",
   "metadata": {},
   "outputs": [
    {
     "name": "stdout",
     "output_type": "stream",
     "text": [
      "A New Exception occured, error message:  Custom Error\n"
     ]
    }
   ],
   "source": [
    "class customError(Exception):\n",
    "\n",
    "    def __init__(self, msg):\n",
    "        self.msg = msg\n",
    " \n",
    "    def __show__(self):\n",
    "        return self.msg\n",
    " \n",
    "try:\n",
    "    raise(customError('Custom Error'))\n",
    " \n",
    "except customError as error:\n",
    "    print('A New Exception occured, error message: ',error.msg)"
   ]
  },
  {
   "cell_type": "markdown",
   "id": "7823bc0f",
   "metadata": {},
   "source": [
    "## Object Oriented Concepts"
   ]
  },
  {
   "cell_type": "code",
   "execution_count": 15,
   "id": "478d62ea",
   "metadata": {},
   "outputs": [
    {
     "name": "stdout",
     "output_type": "stream",
     "text": [
      "Souro 5\n"
     ]
    }
   ],
   "source": [
    "class class1:\n",
    "    id = None       \n",
    "    name = None\n",
    "  \n",
    "def main():\n",
    "    cls = class1()\n",
    "    #cls = class1\n",
    "        \n",
    "    cls.id = 5    \n",
    "    cls.name = \"Souro\"\n",
    "    print(cls.name + \" \" + str(cls.id))\n",
    "\n",
    "#     class1.id = 5    \n",
    "#     class1.name = \"Souro\"\n",
    "#     print(class1.name + \" \" + str(class1.id))\n",
    "\n",
    "if __name__=='__main__':  \n",
    "    main()"
   ]
  },
  {
   "cell_type": "code",
   "execution_count": 20,
   "id": "580437c0",
   "metadata": {},
   "outputs": [
    {
     "name": "stdout",
     "output_type": "stream",
     "text": [
      "Souro 5\n"
     ]
    }
   ],
   "source": [
    "class class1:\n",
    "    id = None\n",
    "    name = None\n",
    "    def assign(self, name, id):       \n",
    "        self.name = name\n",
    "        self.id = id\n",
    "    def show(self):\n",
    "        print(self.name + \" \" + str(self.id))\n",
    "  \n",
    "def main():\n",
    "    cls = class1()\n",
    "    cls.assign(\"Souro\", 5)\n",
    "    cls.show()\n",
    "    \n",
    "\n",
    "if __name__=='__main__':  \n",
    "    main()"
   ]
  },
  {
   "cell_type": "markdown",
   "id": "bc2663f6",
   "metadata": {},
   "source": [
    "#### Class methods must have an extra first parameter in the method definition. We do not give a value for this parameter when we call the method, Python provides it"
   ]
  },
  {
   "cell_type": "code",
   "execution_count": 126,
   "id": "39eb674f",
   "metadata": {},
   "outputs": [
    {
     "name": "stdout",
     "output_type": "stream",
     "text": [
      "Hello\n"
     ]
    }
   ],
   "source": [
    "class Test:\n",
    "     \n",
    "    def fun(self):\n",
    "        print(\"Hello\")\n",
    " \n",
    "obj = Test()\n",
    "obj.fun()"
   ]
  },
  {
   "cell_type": "markdown",
   "id": "29619ff8",
   "metadata": {},
   "source": [
    "#### The __init__ method is run as soon as an object of a class is instantiated. The method is useful to do any initialization you want to do with your object. "
   ]
  },
  {
   "cell_type": "code",
   "execution_count": 127,
   "id": "7f4964e6",
   "metadata": {},
   "outputs": [
    {
     "name": "stdout",
     "output_type": "stream",
     "text": [
      "Hello, my name is Souro\n"
     ]
    }
   ],
   "source": [
    "class Person:\n",
    "    def __init__(self, name):\n",
    "        self.name = name\n",
    " \n",
    "    def say_hi(self):\n",
    "        print('Hello, my name is', self.name)\n",
    " \n",
    "p = Person('Souro')\n",
    "p.say_hi()"
   ]
  },
  {
   "cell_type": "markdown",
   "id": "7ed32079",
   "metadata": {},
   "source": [
    "#### Class and Instance Variables (Or attributes) \n",
    "    In Python, instance variables are variables whose value is assigned inside constructor or method with self. Class variables are variables whose value is assigned in class."
   ]
  },
  {
   "cell_type": "code",
   "execution_count": 129,
   "id": "81045ddb",
   "metadata": {},
   "outputs": [
    {
     "name": "stdout",
     "output_type": "stream",
     "text": [
      "cse\n",
      "cse\n",
      "5\n",
      "cse\n"
     ]
    }
   ],
   "source": [
    "class CSStudent:\n",
    " \n",
    "    # Class Variable\n",
    "    stream = 'cse'            \n",
    " \n",
    "    # The init method or constructor\n",
    "    def __init__(self, roll):\n",
    "   \n",
    "        # Instance Variable (We can define instance variables inside normal methods also)   \n",
    "        self.roll = roll      \n",
    "  \n",
    "# Objects of CSStudent class\n",
    "a = CSStudent(5)\n",
    "b = CSStudent(3)\n",
    "  \n",
    "print(a.stream)\n",
    "print(b.stream)\n",
    "print(a.roll)\n",
    "  \n",
    "# Class variables can be accessed using class name also\n",
    "print(CSStudent.stream)"
   ]
  },
  {
   "cell_type": "markdown",
   "id": "4b4ea488",
   "metadata": {},
   "source": [
    "#### Data hiding\n",
    "    In Python, we use double underscore before the attributes name and those attributes will not be directly visible outside."
   ]
  },
  {
   "cell_type": "code",
   "execution_count": 130,
   "id": "f19853d6",
   "metadata": {},
   "outputs": [
    {
     "name": "stdout",
     "output_type": "stream",
     "text": [
      "2\n",
      "7\n"
     ]
    },
    {
     "ename": "AttributeError",
     "evalue": "'MyClass' object has no attribute '__hiddenVariable'",
     "output_type": "error",
     "traceback": [
      "\u001b[0;31m---------------------------------------------------------------------------\u001b[0m",
      "\u001b[0;31mAttributeError\u001b[0m                            Traceback (most recent call last)",
      "\u001b[0;32m<ipython-input-130-d4e093710413>\u001b[0m in \u001b[0;36m<module>\u001b[0;34m\u001b[0m\n\u001b[1;32m     14\u001b[0m \u001b[0mmyObject\u001b[0m\u001b[0;34m.\u001b[0m\u001b[0madd\u001b[0m\u001b[0;34m(\u001b[0m\u001b[0;36m5\u001b[0m\u001b[0;34m)\u001b[0m\u001b[0;34m\u001b[0m\u001b[0;34m\u001b[0m\u001b[0m\n\u001b[1;32m     15\u001b[0m \u001b[0;34m\u001b[0m\u001b[0m\n\u001b[0;32m---> 16\u001b[0;31m \u001b[0mprint\u001b[0m \u001b[0;34m(\u001b[0m\u001b[0mmyObject\u001b[0m\u001b[0;34m.\u001b[0m\u001b[0m__hiddenVariable\u001b[0m\u001b[0;34m)\u001b[0m\u001b[0;34m\u001b[0m\u001b[0;34m\u001b[0m\u001b[0m\n\u001b[0m",
      "\u001b[0;31mAttributeError\u001b[0m: 'MyClass' object has no attribute '__hiddenVariable'"
     ]
    }
   ],
   "source": [
    "class MyClass:\n",
    "  \n",
    "    # Hidden member of MyClass\n",
    "    __hiddenVariable = 0\n",
    "    \n",
    "    # A member method that changes \n",
    "    # __hiddenVariable \n",
    "    def add(self, increment):\n",
    "        self.__hiddenVariable += increment\n",
    "        print (self.__hiddenVariable)\n",
    "   \n",
    "myObject = MyClass()     \n",
    "myObject.add(2)\n",
    "myObject.add(5)\n",
    "  \n",
    "print (myObject.__hiddenVariable)"
   ]
  },
  {
   "cell_type": "markdown",
   "id": "0a843494",
   "metadata": {},
   "source": [
    "#### We can access the value of hidden attribute by a tricky syntax\n",
    "    Private methods are accessible outside their class, just not easily accessible. Nothing in Python is truly private."
   ]
  },
  {
   "cell_type": "code",
   "execution_count": 131,
   "id": "bc3cd821",
   "metadata": {},
   "outputs": [
    {
     "name": "stdout",
     "output_type": "stream",
     "text": [
      "10\n"
     ]
    }
   ],
   "source": [
    "class MyClass:\n",
    "  \n",
    "    # Hidden member of MyClass\n",
    "    __hiddenVariable = 10\n",
    "  \n",
    "myObject = MyClass()     \n",
    "print(myObject._MyClass__hiddenVariable)"
   ]
  },
  {
   "cell_type": "markdown",
   "id": "5c9cc403",
   "metadata": {},
   "source": [
    "### Inheritence\n",
    "    In Python (from version 3.x), object is root of all classes. In Python 3.x, “class class1(object)” and “class class1” are same."
   ]
  },
  {
   "cell_type": "code",
   "execution_count": 132,
   "id": "25697cf1",
   "metadata": {},
   "outputs": [
    {
     "name": "stdout",
     "output_type": "stream",
     "text": [
      "False\n",
      "True\n",
      "True\n",
      "True\n",
      "True\n",
      "False\n",
      "Souro\n",
      "DataScience\n"
     ]
    }
   ],
   "source": [
    "class superclass:\n",
    "        def __init__(self, name, id):     \n",
    "                self.name = name\n",
    "                self.id = id\n",
    "  \n",
    "class derivedclass(superclass):         \n",
    "        def __init__(self, name, id):\n",
    "                super().__init__(name, id) \n",
    "  \n",
    "def main():\n",
    "        sc = superclass(\"Souro\", 5)\n",
    "        dc = derivedclass(\"DataScience\", 3)\n",
    "        print(isinstance(sc, derivedclass))\n",
    "        print(isinstance(sc, superclass))\n",
    "        print(isinstance(dc, superclass))\n",
    "        print(isinstance(dc, derivedclass))\n",
    "        \n",
    "        print(issubclass(derivedclass, superclass))\n",
    "        print(issubclass(superclass, derivedclass))\n",
    "        \n",
    "        print(sc.name)\n",
    "        print(dc.name)\n",
    "  \n",
    "if __name__=='__main__':\n",
    "        main()"
   ]
  },
  {
   "cell_type": "markdown",
   "id": "f3946ade",
   "metadata": {},
   "source": [
    "#### Python supports multiple inheritance"
   ]
  },
  {
   "cell_type": "code",
   "execution_count": 134,
   "id": "978ef149",
   "metadata": {},
   "outputs": [
    {
     "name": "stdout",
     "output_type": "stream",
     "text": [
      "Base1\n",
      "Base2\n",
      "Derived\n",
      "Souro1 Souro2\n"
     ]
    }
   ],
   "source": [
    "class Base1(object):\n",
    "    def __init__(self):\n",
    "        self.str1 = \"Souro1\"\n",
    "        print(\"Base1\")\n",
    "  \n",
    "class Base2(object):\n",
    "    def __init__(self):\n",
    "        self.str2 = \"Souro2\"        \n",
    "        print(\"Base2\")\n",
    "  \n",
    "class Derived(Base1, Base2):\n",
    "    def __init__(self):\n",
    "          \n",
    "        # Calling constructors of Base1\n",
    "        # and Base2 classes\n",
    "        Base1.__init__(self)\n",
    "        Base2.__init__(self)\n",
    "        print(\"Derived\")\n",
    "          \n",
    "    def printStrs(self):\n",
    "        print(self.str1, self.str2)\n",
    "         \n",
    "  \n",
    "ob = Derived()\n",
    "ob.printStrs()"
   ]
  },
  {
   "cell_type": "markdown",
   "id": "5d393325",
   "metadata": {},
   "source": [
    "#### Access parent members in a subclass"
   ]
  },
  {
   "cell_type": "code",
   "execution_count": 141,
   "id": "202c04cc",
   "metadata": {},
   "outputs": [
    {
     "name": "stdout",
     "output_type": "stream",
     "text": [
      "5 3\n"
     ]
    }
   ],
   "source": [
    "# Using Parent class name\n",
    "\n",
    "class Base(object):\n",
    "  \n",
    "    def __init__(self, x):\n",
    "        self.x = x    \n",
    "  \n",
    "class Derived(Base):\n",
    "  \n",
    "    # Constructor\n",
    "    def __init__(self, x, y):\n",
    "        Base.x = x \n",
    "        self.y = y\n",
    "  \n",
    "    def printXY(self):\n",
    "       \n",
    "       # print(self.x, self.y) will also work\n",
    "       print(Base.x, self.y)\n",
    "  \n",
    "  \n",
    "d = Derived(5, 3)\n",
    "d.printXY()"
   ]
  },
  {
   "cell_type": "code",
   "execution_count": 140,
   "id": "acbe9b29",
   "metadata": {},
   "outputs": [
    {
     "name": "stdout",
     "output_type": "stream",
     "text": [
      "5 3\n"
     ]
    }
   ],
   "source": [
    "# Using super\n",
    "\n",
    "class Base(object):\n",
    "  \n",
    "    # Constructor\n",
    "    def __init__(self, x):\n",
    "        self.x = x    \n",
    "  \n",
    "class Derived(Base):\n",
    "  \n",
    "    # Constructor\n",
    "    def __init__(self, x, y):\n",
    "          \n",
    "        super().__init__(x)\n",
    "        self.y = y\n",
    "  \n",
    "    def printXY(self):\n",
    "  \n",
    "       print(self.x, self.y)\n",
    "  \n",
    "  \n",
    "# Driver Code\n",
    "d = Derived(5, 3)\n",
    "d.printXY()"
   ]
  },
  {
   "cell_type": "markdown",
   "id": "4fb9322a",
   "metadata": {},
   "source": [
    "### Polymorphism\n",
    "    Means the same function name (but different signatures) being used for different types"
   ]
  },
  {
   "cell_type": "code",
   "execution_count": 143,
   "id": "a8a80289",
   "metadata": {},
   "outputs": [
    {
     "name": "stdout",
     "output_type": "stream",
     "text": [
      "5\n",
      "3\n"
     ]
    }
   ],
   "source": [
    "print(len(\"Souro\"))\n",
    "print(len([10, 20, 30]))"
   ]
  },
  {
   "cell_type": "code",
   "execution_count": 144,
   "id": "f7321d8a",
   "metadata": {},
   "outputs": [
    {
     "name": "stdout",
     "output_type": "stream",
     "text": [
      "5\n",
      "9\n"
     ]
    }
   ],
   "source": [
    "def add(x, y, z = 0):\n",
    "    return x + y+z\n",
    " \n",
    "print(add(2, 3))\n",
    "print(add(2, 3, 4))"
   ]
  },
  {
   "cell_type": "code",
   "execution_count": 149,
   "id": "36ba9afd",
   "metadata": {},
   "outputs": [
    {
     "name": "stdout",
     "output_type": "stream",
     "text": [
      "fun of class1\n",
      "fun of class2\n"
     ]
    }
   ],
   "source": [
    "# Polymorphism with class methods\n",
    "class class1():\n",
    "    def fun(self):\n",
    "        print(\"fun of class1\")\n",
    "class class2():\n",
    "    def fun(self):\n",
    "        print(\"fun of class2\")\n",
    "obj_class1 = class1()\n",
    "obj_class2 = class2()\n",
    "for obj in (obj_class1, obj_class2):\n",
    "    obj.fun()"
   ]
  },
  {
   "cell_type": "code",
   "execution_count": 151,
   "id": "7bef2f04",
   "metadata": {},
   "outputs": [
    {
     "name": "stdout",
     "output_type": "stream",
     "text": [
      "fun of class1\n",
      "fun of class2\n",
      "fun of class3\n"
     ]
    }
   ],
   "source": [
    "# Polymorphism with Inheritance\n",
    "# (process of re-implementing a method in the child class is known as Method Overriding)\n",
    "\n",
    "class class1():\n",
    "    def fun(self):\n",
    "        print(\"fun of class1\")\n",
    "class class2(class1):\n",
    "    def fun(self):\n",
    "        print(\"fun of class2\")\n",
    "class class3(class2):\n",
    "    def fun(self):\n",
    "        print(\"fun of class3\")\n",
    "obj_class1 = class1()\n",
    "obj_class2 = class2()\n",
    "obj_class3 = class3()\n",
    "for obj in (obj_class1, obj_class2, obj_class3):\n",
    "    obj.fun()"
   ]
  },
  {
   "cell_type": "markdown",
   "id": "2ae4101c",
   "metadata": {},
   "source": [
    "## Collections"
   ]
  },
  {
   "cell_type": "markdown",
   "id": "2f68126e",
   "metadata": {},
   "source": [
    "### Counters\n",
    "#### Counter is a container included in the collections module\n",
    "#### Containers are objects that hold objects. They provide a way to access the contained objects and iterate over them. Examples of built in containers are Tuple, list, and dictionary. Others are included in \"Collections\" module.\n",
    "#### A Counter is a subclass of dict. Therefore it is an unordered collection where elements and their respective count are stored as a dictionary."
   ]
  },
  {
   "cell_type": "code",
   "execution_count": 27,
   "id": "cfc48e9d",
   "metadata": {},
   "outputs": [
    {
     "name": "stdout",
     "output_type": "stream",
     "text": [
      "Counter({'B': 5, 'A': 3, 'C': 2})\n",
      "Counter({'B': 5, 'A': 3, 'C': 2})\n",
      "Counter({'B': 5, 'A': 3, 'C': 2})\n",
      "Counter({1: 4, 2: 3, 3: 1})\n",
      "Counter({1: 5, 2: 4, 3: 1, 4: 1})\n"
     ]
    }
   ],
   "source": [
    "from collections import Counter\n",
    "  \n",
    "# With sequence of items \n",
    "print(Counter(['B','B','A','B','C','A','B','B','A','C']))\n",
    "  \n",
    "# with dictionary\n",
    "print(Counter({'A':3, 'B':5, 'C':2}))\n",
    "  \n",
    "# with keyword arguments\n",
    "print(Counter(A=3, B=5, C=2))\n",
    "\n",
    "coun = Counter()\n",
    "  \n",
    "coun.update([1, 2, 3, 1, 2, 1, 1, 2])\n",
    "print(coun)\n",
    "  \n",
    "coun.update([1, 2, 4])\n",
    "print(coun)"
   ]
  },
  {
   "cell_type": "code",
   "execution_count": 28,
   "id": "0ab073c2",
   "metadata": {},
   "outputs": [
    {
     "name": "stdout",
     "output_type": "stream",
     "text": [
      "Counter({'C': 6, 'B': 0, 'A': -6})\n"
     ]
    }
   ],
   "source": [
    "from collections import Counter\n",
    "  \n",
    "c1 = Counter(A=4,  B=3, C=10)\n",
    "c2 = Counter(A=10, B=3, C=4)\n",
    "  \n",
    "c1.subtract(c2)\n",
    "print(c1)"
   ]
  },
  {
   "cell_type": "code",
   "execution_count": 29,
   "id": "5f948b8e",
   "metadata": {},
   "outputs": [
    {
     "name": "stdout",
     "output_type": "stream",
     "text": [
      "Counter({'blue': 3, 'red': 2, 'yellow': 1})\n"
     ]
    }
   ],
   "source": [
    "from collections import Counter\n",
    "  \n",
    "z = ['blue', 'red', 'blue', 'yellow', 'blue', 'red']\n",
    "  \n",
    "# Count distinct elements and print Counter aboject\n",
    "print(Counter(z))"
   ]
  },
  {
   "cell_type": "markdown",
   "id": "369fa9cb",
   "metadata": {},
   "source": [
    "### Ordered dictionary"
   ]
  },
  {
   "cell_type": "markdown",
   "id": "5ad38ce8",
   "metadata": {},
   "source": [
    "#### OrderedDict preserves the order in which the keys are inserted. A regular dict doesn’t track the insertion order, and iterating it gives the values in an arbitrary order.\n",
    "##### Ordered dict in Python version 2.7 consumes more memory than normal dict. This is due to the underlying Doubly Linked List implementation for keeping the order. In Python 2.7 Ordered Dict is not dict subclass, it’s a specialized container from collections module. Starting from Python 3.7, insertion order of Python dictionaries is guaranteed."
   ]
  },
  {
   "cell_type": "code",
   "execution_count": 31,
   "id": "ad933f88",
   "metadata": {},
   "outputs": [
    {
     "name": "stdout",
     "output_type": "stream",
     "text": [
      "This is a Dict:\n",
      "\n",
      "a 1\n",
      "b 2\n",
      "c 3\n",
      "d 4\n",
      "\n",
      "This is an Ordered Dict:\n",
      "\n",
      "a 1\n",
      "b 2\n",
      "c 3\n",
      "d 4\n"
     ]
    }
   ],
   "source": [
    "from collections import OrderedDict\n",
    " \n",
    "print(\"This is a Dict:\\n\")\n",
    "d = {}\n",
    "d['a'] = 1\n",
    "d['b'] = 2\n",
    "d['c'] = 3\n",
    "d['d'] = 4\n",
    " \n",
    "for key, value in d.items():\n",
    "    print(key, value)\n",
    " \n",
    "print(\"\\nThis is an Ordered Dict:\\n\")\n",
    "od = OrderedDict()\n",
    "od['a'] = 1\n",
    "od['b'] = 2\n",
    "od['c'] = 3\n",
    "od['d'] = 4\n",
    " \n",
    "for key, value in od.items():\n",
    "    print(key, value)"
   ]
  },
  {
   "cell_type": "markdown",
   "id": "2676185d",
   "metadata": {},
   "source": [
    "### Default dictionary\n",
    "#### Sometimes, when the KeyError is raised, it might become a problem. To overcome this Python introduces another dictionary like container known as Defaultdict which is present inside the collections module.\n",
    "##### Defaultdict is a container like dictionaries present in the module collections. Defaultdict is a sub-class of the dict class that returns a dictionary-like object. The functionality of both dictionaries and defualtdict are almost same except for the fact that defualtdict never raises a KeyError. It provides a default value for the key that does not exists."
   ]
  },
  {
   "cell_type": "code",
   "execution_count": 34,
   "id": "85981d6b",
   "metadata": {},
   "outputs": [
    {
     "name": "stdout",
     "output_type": "stream",
     "text": [
      "Dictionary:\n",
      "{1: 'Souro', 2: 'Data', 3: 'Science'}\n"
     ]
    },
    {
     "ename": "KeyError",
     "evalue": "4",
     "output_type": "error",
     "traceback": [
      "\u001b[0;31m---------------------------------------------------------------------------\u001b[0m",
      "\u001b[0;31mKeyError\u001b[0m                                  Traceback (most recent call last)",
      "\u001b[0;32m<ipython-input-34-95d88c034520>\u001b[0m in \u001b[0;36m<module>\u001b[0;34m\u001b[0m\n\u001b[1;32m      2\u001b[0m \u001b[0mprint\u001b[0m\u001b[0;34m(\u001b[0m\u001b[0;34m\"Dictionary:\"\u001b[0m\u001b[0;34m)\u001b[0m\u001b[0;34m\u001b[0m\u001b[0;34m\u001b[0m\u001b[0m\n\u001b[1;32m      3\u001b[0m \u001b[0mprint\u001b[0m\u001b[0;34m(\u001b[0m\u001b[0mDict\u001b[0m\u001b[0;34m)\u001b[0m\u001b[0;34m\u001b[0m\u001b[0;34m\u001b[0m\u001b[0m\n\u001b[0;32m----> 4\u001b[0;31m \u001b[0mprint\u001b[0m\u001b[0;34m(\u001b[0m\u001b[0mDict\u001b[0m\u001b[0;34m[\u001b[0m\u001b[0;36m4\u001b[0m\u001b[0;34m]\u001b[0m\u001b[0;34m)\u001b[0m\u001b[0;34m\u001b[0m\u001b[0;34m\u001b[0m\u001b[0m\n\u001b[0m",
      "\u001b[0;31mKeyError\u001b[0m: 4"
     ]
    }
   ],
   "source": [
    "Dict = {1: 'Souro', 2: 'Data', 3: 'Science'} \n",
    "print(\"Dictionary:\") \n",
    "print(Dict)\n",
    "print(Dict[4])"
   ]
  },
  {
   "cell_type": "code",
   "execution_count": 154,
   "id": "94722a9c",
   "metadata": {},
   "outputs": [
    {
     "name": "stdout",
     "output_type": "stream",
     "text": [
      "1\n",
      "2\n",
      "Not Present\n"
     ]
    }
   ],
   "source": [
    "from collections import defaultdict\n",
    "\n",
    "def def_value():\n",
    "    return \"Not Present\"\n",
    "      \n",
    "#d = defaultdict(def_value)\n",
    "d = defaultdict(lambda: \"Not Present\")\n",
    "d[\"a\"] = 1\n",
    "d[\"b\"] = 2\n",
    "  \n",
    "print(d[\"a\"])\n",
    "print(d[\"b\"])\n",
    "print(d[\"c\"])"
   ]
  },
  {
   "cell_type": "markdown",
   "id": "c7e7814f",
   "metadata": {},
   "source": [
    "### Chain Map\n",
    "#### Encapsulates many dictionaries into one unit\n",
    "#### keys() :- This function is used to display all the keys of all the dictionaries in ChainMap.\n",
    "#### values() :- This function is used to display values of all the dictionaries in ChainMap.\n",
    "#### maps() :- This function is used to display keys with corresponding values of all the dictionaries in ChainMap."
   ]
  },
  {
   "cell_type": "code",
   "execution_count": 40,
   "id": "610c8b72",
   "metadata": {},
   "outputs": [
    {
     "name": "stdout",
     "output_type": "stream",
     "text": [
      "ChainMap({'a': 1, 'b': 2}, {'c': 3, 'd': 4}, {'e': 5, 'f': 6})\n",
      "All the ChainMap contents are : \n",
      "[{'a': 1, 'b': 2}, {'c': 3, 'd': 4}, {'e': 5, 'f': 6}]\n",
      "All keys of ChainMap are : \n",
      "['c', 'e', 'f', 'b', 'a', 'd']\n",
      "All values of ChainMap are : \n",
      "[3, 5, 6, 2, 1, 4]\n"
     ]
    }
   ],
   "source": [
    "from collections import ChainMap  \n",
    "       \n",
    "       \n",
    "d1 = {'a': 1, 'b': 2} \n",
    "d2 = {'c': 3, 'd': 4} \n",
    "d3 = {'e': 5, 'f': 6} \n",
    "  \n",
    "chain = ChainMap(d1, d2, d3)  \n",
    "       \n",
    "print(chain)\n",
    "\n",
    "# printing chainMap using maps\n",
    "print (\"All the ChainMap contents are : \")\n",
    "print (chain.maps)\n",
    "  \n",
    "# printing keys using keys()\n",
    "print (\"All keys of ChainMap are : \")\n",
    "print (list(chain.keys()))\n",
    "  \n",
    "# printing keys using keys()\n",
    "print (\"All values of ChainMap are : \")\n",
    "print (list(chain.values()))"
   ]
  },
  {
   "cell_type": "markdown",
   "id": "5d1a488f",
   "metadata": {},
   "source": [
    "#### new_child() :- This function adds a new dictionary in the beginning of the ChainMap.\n",
    "#### reversed() :- This function reverses the relative ordering of dictionaries in the ChainMap."
   ]
  },
  {
   "cell_type": "code",
   "execution_count": 41,
   "id": "cbb5f8a2",
   "metadata": {},
   "outputs": [
    {
     "name": "stdout",
     "output_type": "stream",
     "text": [
      "All the ChainMap contents are : \n",
      "[{'a': 1, 'b': 2}, {'b': 3, 'c': 4}]\n",
      "Displaying new ChainMap : \n",
      "[{'f': 5}, {'a': 1, 'b': 2}, {'b': 3, 'c': 4}]\n",
      "Value associated with b before reversing is : 2\n",
      "Value associated with b after reversing is : 3\n"
     ]
    }
   ],
   "source": [
    "import collections\n",
    "  \n",
    "dic1 = { 'a' : 1, 'b' : 2 }\n",
    "dic2 = { 'b' : 3, 'c' : 4 }\n",
    "dic3 = { 'f' : 5 }\n",
    "  \n",
    "chain = collections.ChainMap(dic1, dic2)\n",
    "  \n",
    "print (\"All the ChainMap contents are : \")\n",
    "print (chain.maps)\n",
    "  \n",
    "# using new_child() to add new dictionary\n",
    "chain1 = chain.new_child(dic3)\n",
    "  \n",
    "print (\"Displaying new ChainMap : \")\n",
    "print (chain1.maps)\n",
    "  \n",
    "# displaying value associated with b before reversing\n",
    "print (\"Value associated with b before reversing is : \",end=\"\")\n",
    "print (chain1['b'])\n",
    "  \n",
    "# reversing the ChainMap\n",
    "chain1.maps = reversed(chain1.maps)\n",
    "  \n",
    "# displaying value associated with b after reversing\n",
    "print (\"Value associated with b after reversing is : \",end=\"\")\n",
    "print (chain1['b'])"
   ]
  },
  {
   "cell_type": "markdown",
   "id": "e9713de3",
   "metadata": {},
   "source": [
    "## Modules\n",
    "#### A module is a file containing Python definitions and statements. A module can define functions, classes, and variables.\n",
    "#### Grouping related code into a module makes the code easier to organized, understand and use."
   ]
  },
  {
   "cell_type": "code",
   "execution_count": 43,
   "id": "8cc3390c",
   "metadata": {},
   "outputs": [
    {
     "name": "stdout",
     "output_type": "stream",
     "text": [
      "12\n"
     ]
    }
   ],
   "source": [
    "import calc\n",
    " \n",
    "print(calc.add(10, 2))"
   ]
  },
  {
   "cell_type": "code",
   "execution_count": 44,
   "id": "af5e2d7f",
   "metadata": {},
   "outputs": [
    {
     "name": "stdout",
     "output_type": "stream",
     "text": [
      "4.0\n",
      "720\n"
     ]
    }
   ],
   "source": [
    "from math import sqrt, factorial\n",
    " \n",
    "print(sqrt(16))\n",
    "print(factorial(6))"
   ]
  },
  {
   "cell_type": "markdown",
   "id": "cfb81e01",
   "metadata": {},
   "source": [
    "#### The add function that we define overrides the add function from the module ‘calc’ that we imported. It becomes very difficult to identify which function is actually being called in case of large programs."
   ]
  },
  {
   "cell_type": "code",
   "execution_count": 49,
   "id": "4c2b414a",
   "metadata": {},
   "outputs": [
    {
     "name": "stdout",
     "output_type": "stream",
     "text": [
      "8\n"
     ]
    }
   ],
   "source": [
    "from calc import *\n",
    "def add(a,b):\n",
    "    return a-b #just for the experiment('-' used in add), to check which add is getting called\n",
    "print(add(10, 2))"
   ]
  },
  {
   "cell_type": "code",
   "execution_count": 50,
   "id": "d19492a2",
   "metadata": {},
   "outputs": [
    {
     "name": "stdout",
     "output_type": "stream",
     "text": [
      "12\n"
     ]
    }
   ],
   "source": [
    "import calc as c\n",
    "def add(a,b):\n",
    "    return a+b\n",
    "print(c.add(10, 2))"
   ]
  },
  {
   "cell_type": "markdown",
   "id": "3318544d",
   "metadata": {},
   "source": [
    "#### The dir() built-in function returns a sorted list of strings containing the names defined by a module. The list contains the names of all the modules, variables, and functions that are defined in a module."
   ]
  },
  {
   "cell_type": "code",
   "execution_count": 45,
   "id": "feec9ebc",
   "metadata": {},
   "outputs": [
    {
     "name": "stdout",
     "output_type": "stream",
     "text": [
      "['__call__', '__class__', '__delattr__', '__dir__', '__doc__', '__eq__', '__format__', '__ge__', '__getattribute__', '__gt__', '__hash__', '__init__', '__init_subclass__', '__le__', '__lt__', '__module__', '__name__', '__ne__', '__new__', '__qualname__', '__reduce__', '__reduce_ex__', '__repr__', '__self__', '__setattr__', '__sizeof__', '__str__', '__subclasshook__', '__text_signature__']\n"
     ]
    }
   ],
   "source": [
    "from random import *\n",
    " \n",
    "print(dir(random))"
   ]
  },
  {
   "cell_type": "code",
   "execution_count": 46,
   "id": "d363a73b",
   "metadata": {},
   "outputs": [
    {
     "name": "stdout",
     "output_type": "stream",
     "text": [
      "['BPF', 'LOG4', 'NV_MAGICCONST', 'RECIP_BPF', 'Random', 'SG_MAGICCONST', 'SystemRandom', 'TWOPI', '_BuiltinMethodType', '_MethodType', '_Sequence', '_Set', '__all__', '__builtins__', '__cached__', '__doc__', '__file__', '__loader__', '__name__', '__package__', '__spec__', '_acos', '_bisect', '_ceil', '_cos', '_e', '_exp', '_inst', '_itertools', '_log', '_pi', '_random', '_sha512', '_sin', '_sqrt', '_test', '_test_generator', '_urandom', '_warn', 'betavariate', 'choice', 'choices', 'expovariate', 'gammavariate', 'gauss', 'getrandbits', 'getstate', 'lognormvariate', 'normalvariate', 'paretovariate', 'randint', 'random', 'randrange', 'sample', 'seed', 'setstate', 'shuffle', 'triangular', 'uniform', 'vonmisesvariate', 'weibullvariate']\n"
     ]
    }
   ],
   "source": [
    "import  random\n",
    "print(dir(random))"
   ]
  },
  {
   "cell_type": "markdown",
   "id": "c7ea35ff",
   "metadata": {},
   "source": [
    "### Few python built-in modules"
   ]
  },
  {
   "cell_type": "code",
   "execution_count": 51,
   "id": "99eb859f",
   "metadata": {},
   "outputs": [
    {
     "name": "stdout",
     "output_type": "stream",
     "text": [
      "5.0\n",
      "3.141592653589793\n",
      "114.59155902616465\n",
      "1.0471975511965976\n",
      "0.9092974268256817\n",
      "0.8775825618903728\n",
      "0.23414336235146527\n",
      "24\n"
     ]
    }
   ],
   "source": [
    "# importing built-in module math\n",
    "import math\n",
    " \n",
    "# using square root(sqrt) function contained\n",
    "# in math module\n",
    "print(math.sqrt(25))\n",
    " \n",
    "# using pi function contained in math module\n",
    "print(math.pi)\n",
    " \n",
    "# 2 radians = 114.59 degreees\n",
    "print(math.degrees(2)) \n",
    " \n",
    "# 60 degrees = 1.04 radians\n",
    "print(math.radians(60)) \n",
    " \n",
    "# Sine of 2 radians\n",
    "print(math.sin(2)) \n",
    " \n",
    "# Cosine of 0.5 radians\n",
    "print(math.cos(0.5)) \n",
    " \n",
    "# Tangent of 0.23 radians\n",
    "print(math.tan(0.23))\n",
    " \n",
    "# 1 * 2 * 3 * 4 = 24\n",
    "print(math.factorial(4))"
   ]
  },
  {
   "cell_type": "code",
   "execution_count": 52,
   "id": "a66c08af",
   "metadata": {},
   "outputs": [
    {
     "name": "stdout",
     "output_type": "stream",
     "text": [
      "4\n",
      "0.05748646645954936\n",
      "70.75261980078608\n",
      "27\n"
     ]
    }
   ],
   "source": [
    "# importing built in module random\n",
    "import random\n",
    " \n",
    "# printing random integer between 0 and 5\n",
    "print(random.randint(0, 5)) \n",
    " \n",
    "# print random floating point number between 0 and 1\n",
    "print(random.random()) \n",
    " \n",
    "# random number between 0 and 100\n",
    "print(random.random() * 100) \n",
    " \n",
    "List = [1, 4, True, 800, \"python\", 27, \"hello\"]\n",
    " \n",
    "# using choice function in random module for choosing\n",
    "# a random element from a set such as a list\n",
    "print(random.choice(List))"
   ]
  },
  {
   "cell_type": "code",
   "execution_count": 53,
   "id": "620cb9f4",
   "metadata": {},
   "outputs": [
    {
     "name": "stdout",
     "output_type": "stream",
     "text": [
      "1629626413.050615\n",
      "1970-01-06\n"
     ]
    }
   ],
   "source": [
    "# importing built in module datetime\n",
    "import datetime\n",
    "from datetime import date\n",
    "import time\n",
    " \n",
    "# Returns the number of seconds since the\n",
    "# Unix Epoch, January 1st 1970\n",
    "print(time.time()) \n",
    " \n",
    "# Converts a number of seconds to a date object\n",
    "print(date.fromtimestamp(454554)) "
   ]
  },
  {
   "cell_type": "markdown",
   "id": "9b3bab2f",
   "metadata": {},
   "source": [
    "### OS Module in Python"
   ]
  },
  {
   "cell_type": "code",
   "execution_count": 155,
   "id": "392d0937",
   "metadata": {},
   "outputs": [
    {
     "name": "stdout",
     "output_type": "stream",
     "text": [
      "posix\n",
      "linux\n"
     ]
    }
   ],
   "source": [
    "import os\n",
    "print(os.name) # os.name == 'nt'. Mac/Linux/BSD: os.name == 'posix'\n",
    "# Portable Operating System Interface (POSIX)\n",
    "# Windows NT is a proprietary graphical operating system produced by Microsoft\n",
    "\n",
    "import sys\n",
    "print(sys.platform)"
   ]
  },
  {
   "cell_type": "code",
   "execution_count": 54,
   "id": "4a1bccff",
   "metadata": {},
   "outputs": [
    {
     "name": "stdout",
     "output_type": "stream",
     "text": [
      "Current working directory: /home/souro/Desktop/DataScienceCourse/data-science\n"
     ]
    }
   ],
   "source": [
    "import os\n",
    "     \n",
    "cwd = os.getcwd()\n",
    "\n",
    "print(\"Current working directory:\", cwd)"
   ]
  },
  {
   "cell_type": "code",
   "execution_count": 60,
   "id": "a98c95cd",
   "metadata": {},
   "outputs": [
    {
     "name": "stdout",
     "output_type": "stream",
     "text": [
      "Current working directory before\n",
      "/home/souro/Desktop/DataScienceCourse/data-science\n",
      "\n",
      "Current working directory before\n",
      "/home/souro/Desktop/DataScienceCourse\n",
      "\n"
     ]
    }
   ],
   "source": [
    "import os\n",
    "   \n",
    "def current_path():\n",
    "    print(\"Current working directory before\")\n",
    "    print(os.getcwd())\n",
    "    print()\n",
    "   \n",
    "# Printing CWD before\n",
    "current_path()\n",
    "   \n",
    "# Changing the CWD\n",
    "os.chdir('../')\n",
    "   \n",
    "# Printing CWD after\n",
    "current_path()\n",
    "\n",
    "os.chdir('/home/souro/Desktop/DataScienceCourse/data-science') #just to revert back the dir change"
   ]
  },
  {
   "cell_type": "code",
   "execution_count": 156,
   "id": "453cfaa7",
   "metadata": {},
   "outputs": [
    {
     "name": "stdout",
     "output_type": "stream",
     "text": [
      "Directory 'newdir' created\n",
      "Directory 'newdir2' created\n"
     ]
    }
   ],
   "source": [
    "import os\n",
    " \n",
    "# Directory\n",
    "directory = \"newdir\"\n",
    " \n",
    "# Parent Directory path\n",
    "parent_dir = \"/home/souro/Desktop/DataScienceCourse/data-science\"\n",
    " \n",
    "# Path\n",
    "path = os.path.join(parent_dir, directory)\n",
    " \n",
    "# Create the directory\n",
    "os.mkdir(path)\n",
    "print(\"Directory '% s' created\" % directory)\n",
    " \n",
    "# Directory\n",
    "directory = \"newdir2\"\n",
    " \n",
    "# Parent Directory path\n",
    "parent_dir = \"/home/souro/Desktop/DataScienceCourse/data-science\"\n",
    " \n",
    "# mode\n",
    "mode = 0o666 # Allow both read and write functionality\n",
    " \n",
    "# Path\n",
    "path = os.path.join(parent_dir, directory)\n",
    " \n",
    "# Create the directory\n",
    "# with mode 0o666\n",
    "os.mkdir(path, mode)\n",
    "print(\"Directory '% s' created\" % directory)"
   ]
  },
  {
   "cell_type": "markdown",
   "id": "82d2efe0",
   "metadata": {},
   "source": [
    "#### os.makedirs() method in Python is used to create a directory recursively. That means while making leaf directory if any intermediate-level directory is missing, os.makedirs() method will create them all."
   ]
  },
  {
   "cell_type": "code",
   "execution_count": 159,
   "id": "15262ca0",
   "metadata": {},
   "outputs": [
    {
     "name": "stdout",
     "output_type": "stream",
     "text": [
      "Directory 'newdir4' created\n"
     ]
    }
   ],
   "source": [
    "import os\n",
    "     \n",
    "# Leaf directory\n",
    "directory = \"newdir4\"\n",
    "     \n",
    "# Parent Directories\n",
    "parent_dir = \"/home/souro/Desktop/DataScienceCourse/data-science/newdir3\"\n",
    "     \n",
    "# Path\n",
    "path = os.path.join(parent_dir, directory)\n",
    "     \n",
    "# Create the directory\n",
    "os.makedirs(path)\n",
    "print(\"Directory '% s' created\" % directory)"
   ]
  },
  {
   "cell_type": "code",
   "execution_count": 65,
   "id": "45419705",
   "metadata": {},
   "outputs": [
    {
     "name": "stdout",
     "output_type": "stream",
     "text": [
      "Files and directories in ' /home/souro/Desktop/DataScienceCourse/data-science/newdir3 ' :\n",
      "['newdir4']\n"
     ]
    }
   ],
   "source": [
    "import os\n",
    " \n",
    "# Get the list of all files and directories\n",
    "path = \"/home/souro/Desktop/DataScienceCourse/data-science/newdir3\"\n",
    "dir_list = os.listdir(path)\n",
    " \n",
    "print(\"Files and directories in '\", path, \"' :\")\n",
    " \n",
    "# print the list\n",
    "print(dir_list)"
   ]
  },
  {
   "cell_type": "code",
   "execution_count": 160,
   "id": "2092fcc0",
   "metadata": {},
   "outputs": [
    {
     "name": "stdout",
     "output_type": "stream",
     "text": [
      "True\n",
      "True\n"
     ]
    }
   ],
   "source": [
    "import os\n",
    "     \n",
    "# File name\n",
    "file = 'file_to_delete.txt'\n",
    "     \n",
    "# File location\n",
    "location = \"/home/souro/Desktop/DataScienceCourse/data-science/newdir\"\n",
    "     \n",
    "# Path\n",
    "path = os.path.join(location, file)\n",
    "\n",
    "print(os.path.isfile(path))\n",
    "print(os.path.isdir(location))\n",
    "     \n",
    "# Remove the file\n",
    "os.remove(path) # This method can not remove or delete a directory"
   ]
  },
  {
   "cell_type": "code",
   "execution_count": 161,
   "id": "e78bcec3",
   "metadata": {},
   "outputs": [],
   "source": [
    "import os\n",
    "     \n",
    "# Directory name\n",
    "directory = \"newdir2\"\n",
    "     \n",
    "# Parent Directory\n",
    "parent = \"/home/souro/Desktop/DataScienceCourse/data-science\"\n",
    "     \n",
    "# Path\n",
    "path = os.path.join(parent, directory)\n",
    "     \n",
    "# Remove the Directory\n",
    "os.rmdir(path)"
   ]
  },
  {
   "cell_type": "code",
   "execution_count": 79,
   "id": "d8bb80dc",
   "metadata": {},
   "outputs": [
    {
     "name": "stdout",
     "output_type": "stream",
     "text": [
      "Problem reading: file_not_exist.txt\n"
     ]
    }
   ],
   "source": [
    "import os\n",
    " \n",
    " \n",
    "try:\n",
    "    # If the file does not exist,\n",
    "    # then it would throw an IOError\n",
    "    filename = 'file_not_exist.txt'\n",
    "    f = open(filename, 'r')\n",
    "    text = f.read()\n",
    "    f.close()\n",
    "\n",
    "except IOError:\n",
    "    print('Problem reading: ' + filename)"
   ]
  },
  {
   "cell_type": "code",
   "execution_count": 118,
   "id": "b15128fb",
   "metadata": {},
   "outputs": [],
   "source": [
    "import os\n",
    "file = \"file_write_example.txt\"\n",
    " \n",
    "fd = os.open(file, os.O_WRONLY)\n",
    "os.write(fd, str.encode(\"Souro\"))\n",
    "os.close(fd)"
   ]
  },
  {
   "cell_type": "code",
   "execution_count": 162,
   "id": "12c30802",
   "metadata": {},
   "outputs": [],
   "source": [
    "import os\n",
    " \n",
    " \n",
    "fd = \"file_to_rename.txt\"\n",
    "os.rename(fd,'file_renamed.txt')"
   ]
  },
  {
   "cell_type": "code",
   "execution_count": 115,
   "id": "51707b7d",
   "metadata": {},
   "outputs": [
    {
     "name": "stdout",
     "output_type": "stream",
     "text": [
      "False\n"
     ]
    }
   ],
   "source": [
    "import os\n",
    " \n",
    "result = os.path.exists(\"if_file_exist.txt\")\n",
    " \n",
    "print(result)"
   ]
  },
  {
   "cell_type": "code",
   "execution_count": 95,
   "id": "32dcfe52",
   "metadata": {},
   "outputs": [
    {
     "name": "stdout",
     "output_type": "stream",
     "text": [
      "Size of the file is 100  bytes.\n"
     ]
    }
   ],
   "source": [
    "import os\n",
    " \n",
    "size = os.path.getsize(\"file_read_example.txt\")\n",
    " \n",
    "print(\"Size of the file is\", size,\" bytes.\")"
   ]
  },
  {
   "cell_type": "markdown",
   "id": "17fd0da2",
   "metadata": {},
   "source": [
    "### timeit\n",
    "#### measuring the execution time of your python code snippets\n",
    "#### timeit.timeit(stmt, setup, timer, number) accepts four arguments: \n",
    "\n",
    "    stmt: which is the statement you want to measure; it defaults to ‘pass’.\n",
    "    setup: which is the code that you run before running the stmt; it defaults to ‘pass’. We generally use this to import the required modules for our code.\n",
    "    timer: which is a timeit.Timer object; usually has default value so you don’t have to worry about it.\n",
    "    number: which is the number of executions you’d like to run the stmt."
   ]
  },
  {
   "cell_type": "code",
   "execution_count": 163,
   "id": "19a5d0ce",
   "metadata": {},
   "outputs": [
    {
     "name": "stdout",
     "output_type": "stream",
     "text": [
      "0.015495053958147764\n"
     ]
    }
   ],
   "source": [
    "import timeit\n",
    " \n",
    "mysetup = \"from math import sqrt\"\n",
    " \n",
    "# code snippet whose execution time is to be measured\n",
    "mycode = '''\n",
    "def example():\n",
    "    mylist = []\n",
    "    for x in range(100):\n",
    "        mylist.append(sqrt(x))\n",
    "'''\n",
    " \n",
    "# timeit statement\n",
    "print (timeit.timeit(setup = mysetup,\n",
    "                     stmt = mycode,\n",
    "                     number = 10000))"
   ]
  },
  {
   "cell_type": "code",
   "execution_count": null,
   "id": "29a2a419",
   "metadata": {},
   "outputs": [],
   "source": []
  }
 ],
 "metadata": {
  "kernelspec": {
   "display_name": "Python 3",
   "language": "python",
   "name": "python3"
  },
  "language_info": {
   "codemirror_mode": {
    "name": "ipython",
    "version": 3
   },
   "file_extension": ".py",
   "mimetype": "text/x-python",
   "name": "python",
   "nbconvert_exporter": "python",
   "pygments_lexer": "ipython3",
   "version": "3.6.9"
  }
 },
 "nbformat": 4,
 "nbformat_minor": 5
}
